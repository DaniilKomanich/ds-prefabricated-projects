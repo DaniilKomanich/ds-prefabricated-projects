{
 "cells": [
  {
   "cell_type": "markdown",
   "metadata": {},
   "source": [
    "<div style=\"border:solid Chocolate 2px; padding: 40px\">\n",
    "\n",
    "Привет, меня зовут Александр Куимов. Я буду ревьюером твоего проекта. Ты можешь обращаться ко мне на \"ты\"😏 Надеюсь, тебя также не смутит, если я буду обращаться к тебе на \"ты\", но если это неудобно, обязательно скажи об этом!\n",
    "\n",
    "Пожалуйста, не удаляй мои комментарии, они будут особенно полезны для нашей работы в случае повторной проверки проекта. \n",
    "\n",
    "Ты также можешь реагировать на мои комментарии своими по шаблону, показанному чуть ниже. Это нужно, чтобы не создавалась путаница😉\n",
    "\n",
    "Ты можешь найти мои комментарии, обозначенные <font color='green'>зеленым</font>, <font color='gold'>желтым</font> и <font color='red'>красным</font> цветами, например:\n",
    "\n",
    "<br/>\n",
    "\n",
    "<div class=\"alert alert-success\">\n",
    "<h2> Комментарий ревьюера <a class=\"tocSkip\"> </h2>\n",
    "\n",
    "<b>Все отлично!👍:</b> В случае, если решение на отдельном шаге является полностью правильным.\n",
    "</div>\n",
    "\n",
    "<br/>\n",
    "\n",
    "<div class=\"alert alert-warning\">\n",
    "    <h2> Комментарий ревьюера <a class=\"tocSkip\"> </h2>\n",
    "    \n",
    "<b>Некоторые замечания и рекомендации💡:</b> В случае, когда решение на отдельном шаге станет еще лучше, если внести небольшие коррективы.\n",
    "</div>\n",
    "\n",
    "\n",
    "<br/>\n",
    "<div class=\"alert alert-block alert-danger\">\n",
    "<h2> Комментарий ревьюера <a class=\"tocSkip\"></h2>\n",
    "\n",
    "    \n",
    "<b>На доработку🤔:</b>\n",
    " В случае, когда решение на отдельном шаге требует существенной переработки и внесения правок. Напоминаю, что проект не может быть принят с первого раза, если ревью содержит комментарии, рекомендующие доработать шаги.\n",
    "</div>\n",
    "    \n",
    "    \n",
    "<br/>    \n",
    "<div class=\"alert alert-info\">\n",
    "<h2> Комментарий студента: <a class=\"tocSkip\"> </h2>\n",
    "\n",
    "<b>👋:</b> В такой цветовой ячейке я прошу тебя оставлять свои комментарии. Если исправляешь проект на второй итерации и выше, не забывай пожалуйста указывать номер итерации, например, \"Комментарий студента v.2\".\n",
    "</div> \n",
    "\n",
    "<br/>    \n",
    "    \n",
    "Увидев у тебя неточность, в первый раз я лишь укажу на ее наличие и дам тебе возможность самому найти и исправить ее. На реальной работе твой руководитель будет поступать также, и я пытаюсь подготовить тебя именно к работе датасаентистом. Но если ты пока не справишься с такой задачей - при следующей проверке я дам более точную подсказку!🤓"
   ]
  },
  {
   "cell_type": "markdown",
   "metadata": {
    "toc": true
   },
   "source": [
    "<h1>Содержание<span class=\"tocSkip\"></span></h1>\n",
    "<div class=\"toc\"><ul class=\"toc-item\"><li><span><a href=\"#Подготовка-данных\" data-toc-modified-id=\"Подготовка-данных-1\"><span class=\"toc-item-num\">1&nbsp;&nbsp;</span>Подготовка данных</a></span><ul class=\"toc-item\"><li><span><a href=\"#Расчёт-эффективности-обогащения\" data-toc-modified-id=\"Расчёт-эффективности-обогащения-1.1\"><span class=\"toc-item-num\">1.1&nbsp;&nbsp;</span>Расчёт эффективности обогащения</a></span></li><li><span><a href=\"#Поиск-явных-дубликатов\" data-toc-modified-id=\"Поиск-явных-дубликатов-1.2\"><span class=\"toc-item-num\">1.2&nbsp;&nbsp;</span>Поиск явных дубликатов</a></span></li><li><span><a href=\"#Проверка-типов-данных\" data-toc-modified-id=\"Проверка-типов-данных-1.3\"><span class=\"toc-item-num\">1.3&nbsp;&nbsp;</span>Проверка типов данных</a></span></li><li><span><a href=\"#Заполнение-пропусков\" data-toc-modified-id=\"Заполнение-пропусков-1.4\"><span class=\"toc-item-num\">1.4&nbsp;&nbsp;</span>Заполнение пропусков</a></span></li><li><span><a href=\"#Вывод-по-разделу:\" data-toc-modified-id=\"Вывод-по-разделу:-1.5\"><span class=\"toc-item-num\">1.5&nbsp;&nbsp;</span>Вывод по разделу:</a></span></li></ul></li><li><span><a href=\"#Анализ-данных\" data-toc-modified-id=\"Анализ-данных-2\"><span class=\"toc-item-num\">2&nbsp;&nbsp;</span>Анализ данных</a></span><ul class=\"toc-item\"><li><span><a href=\"#Концентрация-металлов\" data-toc-modified-id=\"Концентрация-металлов-2.1\"><span class=\"toc-item-num\">2.1&nbsp;&nbsp;</span>Концентрация металлов</a></span><ul class=\"toc-item\"><li><span><a href=\"#Концентрация-золота-(Au)\" data-toc-modified-id=\"Концентрация-золота-(Au)-2.1.1\"><span class=\"toc-item-num\">2.1.1&nbsp;&nbsp;</span>Концентрация золота (<code>Au</code>)</a></span></li><li><span><a href=\"#Концентрация-серебра-(Ag)\" data-toc-modified-id=\"Концентрация-серебра-(Ag)-2.1.2\"><span class=\"toc-item-num\">2.1.2&nbsp;&nbsp;</span>Концентрация серебра (<code>Ag</code>)</a></span></li><li><span><a href=\"#Концентрация-свинца-(Pb)\" data-toc-modified-id=\"Концентрация-свинца-(Pb)-2.1.3\"><span class=\"toc-item-num\">2.1.3&nbsp;&nbsp;</span>Концентрация свинца (<code>Pb</code>)</a></span></li></ul></li><li><span><a href=\"#Распределение-размеров-гранул-исходного-сырья\" data-toc-modified-id=\"Распределение-размеров-гранул-исходного-сырья-2.2\"><span class=\"toc-item-num\">2.2&nbsp;&nbsp;</span>Распределение размеров гранул исходного сырья</a></span></li><li><span><a href=\"#Суммарная-концентрация-металлов\" data-toc-modified-id=\"Суммарная-концентрация-металлов-2.3\"><span class=\"toc-item-num\">2.3&nbsp;&nbsp;</span>Суммарная концентрация металлов</a></span><ul class=\"toc-item\"><li><span><a href=\"#Суммарная-концентрация-металлов-в-исходном-сырье\" data-toc-modified-id=\"Суммарная-концентрация-металлов-в-исходном-сырье-2.3.1\"><span class=\"toc-item-num\">2.3.1&nbsp;&nbsp;</span>Суммарная концентрация металлов в исходном сырье</a></span></li><li><span><a href=\"#Суммарная-концентрация-металлов-в-черновом-концентрате\" data-toc-modified-id=\"Суммарная-концентрация-металлов-в-черновом-концентрате-2.3.2\"><span class=\"toc-item-num\">2.3.2&nbsp;&nbsp;</span>Суммарная концентрация металлов в черновом концентрате</a></span></li><li><span><a href=\"#Суммарная-концентрация-металлов-в-концентрате-после-первой-очистки\" data-toc-modified-id=\"Суммарная-концентрация-металлов-в-концентрате-после-первой-очистки-2.3.3\"><span class=\"toc-item-num\">2.3.3&nbsp;&nbsp;</span>Суммарная концентрация металлов в концентрате после первой очистки</a></span></li><li><span><a href=\"#Суммарная-концентрация-металлов--в-финальном-концентрате\" data-toc-modified-id=\"Суммарная-концентрация-металлов--в-финальном-концентрате-2.3.4\"><span class=\"toc-item-num\">2.3.4&nbsp;&nbsp;</span>Суммарная концентрация металлов  в финальном концентрате</a></span></li></ul></li><li><span><a href=\"#Вывод-по-разделу:\" data-toc-modified-id=\"Вывод-по-разделу:-2.4\"><span class=\"toc-item-num\">2.4&nbsp;&nbsp;</span>Вывод по разделу:</a></span></li></ul></li><li><span><a href=\"#Модель\" data-toc-modified-id=\"Модель-3\"><span class=\"toc-item-num\">3&nbsp;&nbsp;</span>Модель</a></span><ul class=\"toc-item\"><li><span><a href=\"#Написание-функций-для-sMAPE\" data-toc-modified-id=\"Написание-функций-для-sMAPE-3.1\"><span class=\"toc-item-num\">3.1&nbsp;&nbsp;</span>Написание функций для <code>sMAPE</code></a></span></li><li><span><a href=\"#Обучение-моделей-и-выбор-лучшей\" data-toc-modified-id=\"Обучение-моделей-и-выбор-лучшей-3.2\"><span class=\"toc-item-num\">3.2&nbsp;&nbsp;</span>Обучение моделей и выбор лучшей</a></span><ul class=\"toc-item\"><li><span><a href=\"#Модель-RandomForestClassifier-(&quot;случайный-лес&quot;)\" data-toc-modified-id=\"Модель-RandomForestClassifier-(&quot;случайный-лес&quot;)-3.2.1\"><span class=\"toc-item-num\">3.2.1&nbsp;&nbsp;</span>Модель RandomForestClassifier (\"случайный лес\")</a></span></li><li><span><a href=\"#Модель-DecisionTreeClassifier-(&quot;решающее-дерево&quot;)\" data-toc-modified-id=\"Модель-DecisionTreeClassifier-(&quot;решающее-дерево&quot;)-3.2.2\"><span class=\"toc-item-num\">3.2.2&nbsp;&nbsp;</span>Модель DecisionTreeClassifier (\"решающее дерево\")</a></span></li><li><span><a href=\"#Модель-LinearRegression-(&quot;линейная-регрессия&quot;)\" data-toc-modified-id=\"Модель-LinearRegression-(&quot;линейная-регрессия&quot;)-3.2.3\"><span class=\"toc-item-num\">3.2.3&nbsp;&nbsp;</span>Модель LinearRegression (\"линейная регрессия\")</a></span></li></ul></li><li><span><a href=\"#Проверка-модели-на-тестовой-выборке\" data-toc-modified-id=\"Проверка-модели-на-тестовой-выборке-3.3\"><span class=\"toc-item-num\">3.3&nbsp;&nbsp;</span>Проверка модели на тестовой выборке</a></span></li><li><span><a href=\"#Сравнение-полученной-модели-с-константной-моделью\" data-toc-modified-id=\"Сравнение-полученной-модели-с-константной-моделью-3.4\"><span class=\"toc-item-num\">3.4&nbsp;&nbsp;</span>Сравнение полученной модели с константной моделью</a></span></li></ul></li><li><span><a href=\"#Общий-вывод\" data-toc-modified-id=\"Общий-вывод-4\"><span class=\"toc-item-num\">4&nbsp;&nbsp;</span>Общий вывод</a></span></li><li><span><a href=\"#Чек-лист-готовности-проекта\" data-toc-modified-id=\"Чек-лист-готовности-проекта-5\"><span class=\"toc-item-num\">5&nbsp;&nbsp;</span>Чек-лист готовности проекта</a></span></li></ul></div>"
   ]
  },
  {
   "cell_type": "markdown",
   "metadata": {},
   "source": [
    "# Восстановление золота из руды"
   ]
  },
  {
   "cell_type": "markdown",
   "metadata": {},
   "source": [
    "Подготовьте прототип модели машинного обучения для «Цифры». Компания разрабатывает решения для эффективной работы промышленных предприятий.\n",
    "\n",
    "Модель должна предсказать коэффициент восстановления золота из золотосодержащей руды. Используйте данные с параметрами добычи и очистки. \n",
    "\n",
    "Модель поможет оптимизировать производство, чтобы не запускать предприятие с убыточными характеристиками.\n",
    "\n",
    "Вам нужно:\n",
    "\n",
    "1. Подготовить данные;\n",
    "2. Провести исследовательский анализ данных;\n",
    "3. Построить и обучить модель.\n",
    "\n",
    "Чтобы выполнить проект, обращайтесь к библиотекам *pandas*, *matplotlib* и *sklearn.* Вам поможет их документация."
   ]
  },
  {
   "cell_type": "markdown",
   "metadata": {},
   "source": [
    "__Описание данных__\n",
    "\n",
    "Технологический процесс:  \n",
    ">`Rougher feed` — исходное сырье  \n",
    "`Rougher additions` (или `reagent additions`) — флотационные реагенты: `Xanthate`, `Sulphate`, `Depressant`  \n",
    "`Xanthate` — ксантогенат (промотер, или активатор флотации)  \n",
    "`Sulphate` — сульфат (на данном производстве сульфид натрия)  \n",
    "`Depressant` — депрессант (силикат натрия)  \n",
    "`Rougher process` (англ. «грубый процесс») — флотация  \n",
    "`Rougher tails` — отвальные хвосты  \n",
    "`Float banks` — флотационная установка  \n",
    "`Cleaner process` — очистка  \n",
    "`Rougher Au` — черновой концентрат золота  \n",
    "`Final Au` — финальный концентрат золота  \n",
    "\n",
    "Параметры этапов:  \n",
    ">`air amount` — объём воздуха  \n",
    "`fluid levels` — уровень жидкости  \n",
    "`feed size` — размер гранул сырья  \n",
    "`feed rate` — скорость подачи  "
   ]
  },
  {
   "cell_type": "markdown",
   "metadata": {},
   "source": [
    "## Подготовка данных"
   ]
  },
  {
   "cell_type": "markdown",
   "metadata": {},
   "source": [
    "Для выполнения данного раздела необходимо пройти следующие этапы:\n",
    "\n",
    "1. Открыть файлы и изучить их.\n",
    "2. Проверить, что эффективность обогащения рассчитана правильно. Вычислить её на обучающей выборке для признака `rougher.output.recovery`. Найти `MAE` между вашими расчётами и значением признака. Описать выводы.\n",
    "3. Проанализировать признаки, недоступные в тестовой выборке. Что это за параметры? К какому типу относятся?\n",
    "4. Провести предобработку данных."
   ]
  },
  {
   "cell_type": "markdown",
   "metadata": {},
   "source": [
    " <div class=\"alert alert-success\">\n",
    "<h2> Комментарий ревьюера <a class=\"tocSkip\"> </h2>\n",
    "\n",
    "<b>Все отлично!👍:</b> \n",
    "    \n",
    "Вижу твое добавленное описание проекта. Молодец! Это поможет тебе расставлять акценты в выводах"
   ]
  },
  {
   "cell_type": "code",
   "execution_count": 1,
   "metadata": {},
   "outputs": [],
   "source": [
    "import pandas as pd\n",
    "import numpy as np\n",
    "import seaborn as sns\n",
    "import matplotlib.pyplot as plt\n",
    "from sklearn.tree import DecisionTreeRegressor\n",
    "from sklearn.ensemble import RandomForestRegressor\n",
    "from sklearn.linear_model import LinearRegression\n",
    "from sklearn.metrics import mean_absolute_error\n",
    "from sklearn.model_selection import cross_val_score\n",
    "from sklearn.metrics import make_scorer\n",
    "from sklearn.model_selection import GridSearchCV\n",
    "\n",
    "import warnings\n",
    "warnings.filterwarnings('ignore')"
   ]
  },
  {
   "cell_type": "code",
   "execution_count": 2,
   "metadata": {},
   "outputs": [],
   "source": [
    "df_train = pd.read_csv('/datasets/gold_industry_train.csv')\n",
    "df_test = pd.read_csv('/datasets/gold_industry_test.csv')\n",
    "df_full = pd.read_csv('/datasets/gold_industry_full.csv')"
   ]
  },
  {
   "cell_type": "code",
   "execution_count": 3,
   "metadata": {
    "scrolled": true
   },
   "outputs": [
    {
     "data": {
      "text/html": [
       "<div>\n",
       "<style scoped>\n",
       "    .dataframe tbody tr th:only-of-type {\n",
       "        vertical-align: middle;\n",
       "    }\n",
       "\n",
       "    .dataframe tbody tr th {\n",
       "        vertical-align: top;\n",
       "    }\n",
       "\n",
       "    .dataframe thead th {\n",
       "        text-align: right;\n",
       "    }\n",
       "</style>\n",
       "<table border=\"1\" class=\"dataframe\">\n",
       "  <thead>\n",
       "    <tr style=\"text-align: right;\">\n",
       "      <th></th>\n",
       "      <th>date</th>\n",
       "      <th>rougher.input.feed_au</th>\n",
       "      <th>rougher.input.feed_ag</th>\n",
       "      <th>rougher.input.feed_pb</th>\n",
       "      <th>rougher.input.feed_sol</th>\n",
       "      <th>rougher.input.feed_rate</th>\n",
       "      <th>rougher.input.feed_size</th>\n",
       "      <th>rougher.input.floatbank10_sulfate</th>\n",
       "      <th>rougher.input.floatbank10_xanthate</th>\n",
       "      <th>rougher.state.floatbank10_a_air</th>\n",
       "      <th>...</th>\n",
       "      <th>secondary_cleaner.output.tail_sol</th>\n",
       "      <th>final.output.concentrate_au</th>\n",
       "      <th>final.output.concentrate_ag</th>\n",
       "      <th>final.output.concentrate_pb</th>\n",
       "      <th>final.output.concentrate_sol</th>\n",
       "      <th>final.output.recovery</th>\n",
       "      <th>final.output.tail_au</th>\n",
       "      <th>final.output.tail_ag</th>\n",
       "      <th>final.output.tail_pb</th>\n",
       "      <th>final.output.tail_sol</th>\n",
       "    </tr>\n",
       "  </thead>\n",
       "  <tbody>\n",
       "    <tr>\n",
       "      <th>0</th>\n",
       "      <td>2016-01-15 00:00:00</td>\n",
       "      <td>6.486150</td>\n",
       "      <td>6.100378</td>\n",
       "      <td>2.284912</td>\n",
       "      <td>36.808594</td>\n",
       "      <td>523.546326</td>\n",
       "      <td>55.486599</td>\n",
       "      <td>11.986616</td>\n",
       "      <td>6.007990</td>\n",
       "      <td>999.706909</td>\n",
       "      <td>...</td>\n",
       "      <td>8.764648</td>\n",
       "      <td>42.192020</td>\n",
       "      <td>6.055403</td>\n",
       "      <td>9.889648</td>\n",
       "      <td>5.507324</td>\n",
       "      <td>70.541216</td>\n",
       "      <td>2.143149</td>\n",
       "      <td>10.411962</td>\n",
       "      <td>0.895447</td>\n",
       "      <td>16.904297</td>\n",
       "    </tr>\n",
       "    <tr>\n",
       "      <th>1</th>\n",
       "      <td>2016-01-15 01:00:00</td>\n",
       "      <td>6.478583</td>\n",
       "      <td>6.161113</td>\n",
       "      <td>2.266033</td>\n",
       "      <td>35.753385</td>\n",
       "      <td>525.290581</td>\n",
       "      <td>57.278666</td>\n",
       "      <td>11.971193</td>\n",
       "      <td>6.005766</td>\n",
       "      <td>1000.286398</td>\n",
       "      <td>...</td>\n",
       "      <td>9.001494</td>\n",
       "      <td>42.701629</td>\n",
       "      <td>6.029369</td>\n",
       "      <td>9.968944</td>\n",
       "      <td>5.257781</td>\n",
       "      <td>69.266198</td>\n",
       "      <td>2.224930</td>\n",
       "      <td>10.462676</td>\n",
       "      <td>0.927452</td>\n",
       "      <td>16.634514</td>\n",
       "    </tr>\n",
       "    <tr>\n",
       "      <th>2</th>\n",
       "      <td>2016-01-15 02:00:00</td>\n",
       "      <td>6.362222</td>\n",
       "      <td>6.116455</td>\n",
       "      <td>2.159622</td>\n",
       "      <td>35.971630</td>\n",
       "      <td>530.026610</td>\n",
       "      <td>57.510649</td>\n",
       "      <td>11.920603</td>\n",
       "      <td>6.197377</td>\n",
       "      <td>999.719565</td>\n",
       "      <td>...</td>\n",
       "      <td>8.842896</td>\n",
       "      <td>42.657501</td>\n",
       "      <td>6.055926</td>\n",
       "      <td>10.213995</td>\n",
       "      <td>5.383759</td>\n",
       "      <td>68.116445</td>\n",
       "      <td>2.257889</td>\n",
       "      <td>10.507046</td>\n",
       "      <td>0.953716</td>\n",
       "      <td>16.208849</td>\n",
       "    </tr>\n",
       "    <tr>\n",
       "      <th>3</th>\n",
       "      <td>2016-01-15 03:00:00</td>\n",
       "      <td>6.118189</td>\n",
       "      <td>6.043309</td>\n",
       "      <td>2.037807</td>\n",
       "      <td>36.862241</td>\n",
       "      <td>542.590390</td>\n",
       "      <td>57.792734</td>\n",
       "      <td>11.630094</td>\n",
       "      <td>6.203177</td>\n",
       "      <td>999.814770</td>\n",
       "      <td>...</td>\n",
       "      <td>9.122857</td>\n",
       "      <td>42.689819</td>\n",
       "      <td>6.047977</td>\n",
       "      <td>9.977019</td>\n",
       "      <td>4.858634</td>\n",
       "      <td>68.347543</td>\n",
       "      <td>2.146849</td>\n",
       "      <td>10.422762</td>\n",
       "      <td>0.883763</td>\n",
       "      <td>16.532835</td>\n",
       "    </tr>\n",
       "    <tr>\n",
       "      <th>4</th>\n",
       "      <td>2016-01-15 04:00:00</td>\n",
       "      <td>5.663707</td>\n",
       "      <td>6.060915</td>\n",
       "      <td>1.786875</td>\n",
       "      <td>34.347666</td>\n",
       "      <td>540.531893</td>\n",
       "      <td>56.047189</td>\n",
       "      <td>10.957755</td>\n",
       "      <td>6.198826</td>\n",
       "      <td>999.678690</td>\n",
       "      <td>...</td>\n",
       "      <td>8.871028</td>\n",
       "      <td>42.774141</td>\n",
       "      <td>6.148599</td>\n",
       "      <td>10.142511</td>\n",
       "      <td>4.939416</td>\n",
       "      <td>66.927016</td>\n",
       "      <td>2.055292</td>\n",
       "      <td>10.360302</td>\n",
       "      <td>0.792826</td>\n",
       "      <td>16.525686</td>\n",
       "    </tr>\n",
       "  </tbody>\n",
       "</table>\n",
       "<p>5 rows × 87 columns</p>\n",
       "</div>"
      ],
      "text/plain": [
       "                  date  rougher.input.feed_au  rougher.input.feed_ag  \\\n",
       "0  2016-01-15 00:00:00               6.486150               6.100378   \n",
       "1  2016-01-15 01:00:00               6.478583               6.161113   \n",
       "2  2016-01-15 02:00:00               6.362222               6.116455   \n",
       "3  2016-01-15 03:00:00               6.118189               6.043309   \n",
       "4  2016-01-15 04:00:00               5.663707               6.060915   \n",
       "\n",
       "   rougher.input.feed_pb  rougher.input.feed_sol  rougher.input.feed_rate  \\\n",
       "0               2.284912               36.808594               523.546326   \n",
       "1               2.266033               35.753385               525.290581   \n",
       "2               2.159622               35.971630               530.026610   \n",
       "3               2.037807               36.862241               542.590390   \n",
       "4               1.786875               34.347666               540.531893   \n",
       "\n",
       "   rougher.input.feed_size  rougher.input.floatbank10_sulfate  \\\n",
       "0                55.486599                          11.986616   \n",
       "1                57.278666                          11.971193   \n",
       "2                57.510649                          11.920603   \n",
       "3                57.792734                          11.630094   \n",
       "4                56.047189                          10.957755   \n",
       "\n",
       "   rougher.input.floatbank10_xanthate  rougher.state.floatbank10_a_air  ...  \\\n",
       "0                            6.007990                       999.706909  ...   \n",
       "1                            6.005766                      1000.286398  ...   \n",
       "2                            6.197377                       999.719565  ...   \n",
       "3                            6.203177                       999.814770  ...   \n",
       "4                            6.198826                       999.678690  ...   \n",
       "\n",
       "   secondary_cleaner.output.tail_sol  final.output.concentrate_au  \\\n",
       "0                           8.764648                    42.192020   \n",
       "1                           9.001494                    42.701629   \n",
       "2                           8.842896                    42.657501   \n",
       "3                           9.122857                    42.689819   \n",
       "4                           8.871028                    42.774141   \n",
       "\n",
       "   final.output.concentrate_ag  final.output.concentrate_pb  \\\n",
       "0                     6.055403                     9.889648   \n",
       "1                     6.029369                     9.968944   \n",
       "2                     6.055926                    10.213995   \n",
       "3                     6.047977                     9.977019   \n",
       "4                     6.148599                    10.142511   \n",
       "\n",
       "   final.output.concentrate_sol  final.output.recovery  final.output.tail_au  \\\n",
       "0                      5.507324              70.541216              2.143149   \n",
       "1                      5.257781              69.266198              2.224930   \n",
       "2                      5.383759              68.116445              2.257889   \n",
       "3                      4.858634              68.347543              2.146849   \n",
       "4                      4.939416              66.927016              2.055292   \n",
       "\n",
       "   final.output.tail_ag  final.output.tail_pb  final.output.tail_sol  \n",
       "0             10.411962              0.895447              16.904297  \n",
       "1             10.462676              0.927452              16.634514  \n",
       "2             10.507046              0.953716              16.208849  \n",
       "3             10.422762              0.883763              16.532835  \n",
       "4             10.360302              0.792826              16.525686  \n",
       "\n",
       "[5 rows x 87 columns]"
      ]
     },
     "execution_count": 3,
     "metadata": {},
     "output_type": "execute_result"
    }
   ],
   "source": [
    "df_train.head()"
   ]
  },
  {
   "cell_type": "code",
   "execution_count": 4,
   "metadata": {
    "scrolled": true
   },
   "outputs": [
    {
     "name": "stdout",
     "output_type": "stream",
     "text": [
      "<class 'pandas.core.frame.DataFrame'>\n",
      "RangeIndex: 14579 entries, 0 to 14578\n",
      "Data columns (total 87 columns):\n",
      " #   Column                                              Non-Null Count  Dtype  \n",
      "---  ------                                              --------------  -----  \n",
      " 0   date                                                14579 non-null  object \n",
      " 1   rougher.input.feed_au                               14579 non-null  float64\n",
      " 2   rougher.input.feed_ag                               14579 non-null  float64\n",
      " 3   rougher.input.feed_pb                               14507 non-null  float64\n",
      " 4   rougher.input.feed_sol                              14502 non-null  float64\n",
      " 5   rougher.input.feed_rate                             14572 non-null  float64\n",
      " 6   rougher.input.feed_size                             14478 non-null  float64\n",
      " 7   rougher.input.floatbank10_sulfate                   14548 non-null  float64\n",
      " 8   rougher.input.floatbank10_xanthate                  14572 non-null  float64\n",
      " 9   rougher.state.floatbank10_a_air                     14579 non-null  float64\n",
      " 10  rougher.state.floatbank10_a_level                   14579 non-null  float64\n",
      " 11  rougher.state.floatbank10_b_air                     14579 non-null  float64\n",
      " 12  rougher.state.floatbank10_b_level                   14579 non-null  float64\n",
      " 13  rougher.state.floatbank10_c_air                     14579 non-null  float64\n",
      " 14  rougher.state.floatbank10_c_level                   14579 non-null  float64\n",
      " 15  rougher.state.floatbank10_d_air                     14579 non-null  float64\n",
      " 16  rougher.state.floatbank10_d_level                   14579 non-null  float64\n",
      " 17  rougher.state.floatbank10_e_air                     14150 non-null  float64\n",
      " 18  rougher.state.floatbank10_e_level                   14579 non-null  float64\n",
      " 19  rougher.state.floatbank10_f_air                     14579 non-null  float64\n",
      " 20  rougher.state.floatbank10_f_level                   14579 non-null  float64\n",
      " 21  rougher.input.floatbank11_sulfate                   14543 non-null  float64\n",
      " 22  rougher.input.floatbank11_xanthate                  14172 non-null  float64\n",
      " 23  rougher.calculation.sulfate_to_au_concentrate       14578 non-null  float64\n",
      " 24  rougher.calculation.floatbank10_sulfate_to_au_feed  14578 non-null  float64\n",
      " 25  rougher.calculation.floatbank11_sulfate_to_au_feed  14578 non-null  float64\n",
      " 26  rougher.calculation.au_pb_ratio                     14579 non-null  float64\n",
      " 27  rougher.output.concentrate_au                       14579 non-null  float64\n",
      " 28  rougher.output.concentrate_ag                       14579 non-null  float64\n",
      " 29  rougher.output.concentrate_pb                       14579 non-null  float64\n",
      " 30  rougher.output.concentrate_sol                      14561 non-null  float64\n",
      " 31  rougher.output.recovery                             14579 non-null  float64\n",
      " 32  rougher.output.tail_au                              14579 non-null  float64\n",
      " 33  rougher.output.tail_ag                              14578 non-null  float64\n",
      " 34  rougher.output.tail_pb                              14579 non-null  float64\n",
      " 35  rougher.output.tail_sol                             14579 non-null  float64\n",
      " 36  primary_cleaner.input.sulfate                       14556 non-null  float64\n",
      " 37  primary_cleaner.input.depressant                    14551 non-null  float64\n",
      " 38  primary_cleaner.input.feed_size                     14579 non-null  float64\n",
      " 39  primary_cleaner.input.xanthate                      14518 non-null  float64\n",
      " 40  primary_cleaner.state.floatbank8_a_air              14576 non-null  float64\n",
      " 41  primary_cleaner.state.floatbank8_a_level            14579 non-null  float64\n",
      " 42  primary_cleaner.state.floatbank8_b_air              14576 non-null  float64\n",
      " 43  primary_cleaner.state.floatbank8_b_level            14579 non-null  float64\n",
      " 44  primary_cleaner.state.floatbank8_c_air              14579 non-null  float64\n",
      " 45  primary_cleaner.state.floatbank8_c_level            14579 non-null  float64\n",
      " 46  primary_cleaner.state.floatbank8_d_air              14578 non-null  float64\n",
      " 47  primary_cleaner.state.floatbank8_d_level            14579 non-null  float64\n",
      " 48  primary_cleaner.output.concentrate_au               14579 non-null  float64\n",
      " 49  primary_cleaner.output.concentrate_ag               14579 non-null  float64\n",
      " 50  primary_cleaner.output.concentrate_pb               14491 non-null  float64\n",
      " 51  primary_cleaner.output.concentrate_sol              14314 non-null  float64\n",
      " 52  primary_cleaner.output.tail_au                      14579 non-null  float64\n",
      " 53  primary_cleaner.output.tail_ag                      14575 non-null  float64\n",
      " 54  primary_cleaner.output.tail_pb                      14573 non-null  float64\n",
      " 55  primary_cleaner.output.tail_sol                     14534 non-null  float64\n",
      " 56  secondary_cleaner.state.floatbank2_a_air            14485 non-null  float64\n",
      " 57  secondary_cleaner.state.floatbank2_a_level          14579 non-null  float64\n",
      " 58  secondary_cleaner.state.floatbank2_b_air            14557 non-null  float64\n",
      " 59  secondary_cleaner.state.floatbank2_b_level          14579 non-null  float64\n",
      " 60  secondary_cleaner.state.floatbank3_a_air            14567 non-null  float64\n",
      " 61  secondary_cleaner.state.floatbank3_a_level          14579 non-null  float64\n",
      " 62  secondary_cleaner.state.floatbank3_b_air            14579 non-null  float64\n",
      " 63  secondary_cleaner.state.floatbank3_b_level          14579 non-null  float64\n",
      " 64  secondary_cleaner.state.floatbank4_a_air            14574 non-null  float64\n",
      " 65  secondary_cleaner.state.floatbank4_a_level          14579 non-null  float64\n",
      " 66  secondary_cleaner.state.floatbank4_b_air            14579 non-null  float64\n",
      " 67  secondary_cleaner.state.floatbank4_b_level          14579 non-null  float64\n",
      " 68  secondary_cleaner.state.floatbank5_a_air            14579 non-null  float64\n",
      " 69  secondary_cleaner.state.floatbank5_a_level          14579 non-null  float64\n",
      " 70  secondary_cleaner.state.floatbank5_b_air            14579 non-null  float64\n",
      " 71  secondary_cleaner.state.floatbank5_b_level          14579 non-null  float64\n",
      " 72  secondary_cleaner.state.floatbank6_a_air            14578 non-null  float64\n",
      " 73  secondary_cleaner.state.floatbank6_a_level          14579 non-null  float64\n",
      " 74  secondary_cleaner.output.tail_au                    14579 non-null  float64\n",
      " 75  secondary_cleaner.output.tail_ag                    14578 non-null  float64\n",
      " 76  secondary_cleaner.output.tail_pb                    14575 non-null  float64\n",
      " 77  secondary_cleaner.output.tail_sol                   13659 non-null  float64\n",
      " 78  final.output.concentrate_au                         14579 non-null  float64\n",
      " 79  final.output.concentrate_ag                         14578 non-null  float64\n",
      " 80  final.output.concentrate_pb                         14578 non-null  float64\n",
      " 81  final.output.concentrate_sol                        14387 non-null  float64\n",
      " 82  final.output.recovery                               14579 non-null  float64\n",
      " 83  final.output.tail_au                                14579 non-null  float64\n",
      " 84  final.output.tail_ag                                14578 non-null  float64\n",
      " 85  final.output.tail_pb                                14504 non-null  float64\n",
      " 86  final.output.tail_sol                               14574 non-null  float64\n",
      "dtypes: float64(86), object(1)\n",
      "memory usage: 9.7+ MB\n"
     ]
    }
   ],
   "source": [
    "df_train.info()"
   ]
  },
  {
   "cell_type": "code",
   "execution_count": 5,
   "metadata": {},
   "outputs": [
    {
     "data": {
      "text/html": [
       "<div>\n",
       "<style scoped>\n",
       "    .dataframe tbody tr th:only-of-type {\n",
       "        vertical-align: middle;\n",
       "    }\n",
       "\n",
       "    .dataframe tbody tr th {\n",
       "        vertical-align: top;\n",
       "    }\n",
       "\n",
       "    .dataframe thead th {\n",
       "        text-align: right;\n",
       "    }\n",
       "</style>\n",
       "<table border=\"1\" class=\"dataframe\">\n",
       "  <thead>\n",
       "    <tr style=\"text-align: right;\">\n",
       "      <th></th>\n",
       "      <th>date</th>\n",
       "      <th>rougher.input.feed_au</th>\n",
       "      <th>rougher.input.feed_ag</th>\n",
       "      <th>rougher.input.feed_pb</th>\n",
       "      <th>rougher.input.feed_sol</th>\n",
       "      <th>rougher.input.feed_rate</th>\n",
       "      <th>rougher.input.feed_size</th>\n",
       "      <th>rougher.input.floatbank10_sulfate</th>\n",
       "      <th>rougher.input.floatbank10_xanthate</th>\n",
       "      <th>rougher.state.floatbank10_a_air</th>\n",
       "      <th>...</th>\n",
       "      <th>secondary_cleaner.state.floatbank4_a_air</th>\n",
       "      <th>secondary_cleaner.state.floatbank4_a_level</th>\n",
       "      <th>secondary_cleaner.state.floatbank4_b_air</th>\n",
       "      <th>secondary_cleaner.state.floatbank4_b_level</th>\n",
       "      <th>secondary_cleaner.state.floatbank5_a_air</th>\n",
       "      <th>secondary_cleaner.state.floatbank5_a_level</th>\n",
       "      <th>secondary_cleaner.state.floatbank5_b_air</th>\n",
       "      <th>secondary_cleaner.state.floatbank5_b_level</th>\n",
       "      <th>secondary_cleaner.state.floatbank6_a_air</th>\n",
       "      <th>secondary_cleaner.state.floatbank6_a_level</th>\n",
       "    </tr>\n",
       "  </thead>\n",
       "  <tbody>\n",
       "    <tr>\n",
       "      <th>0</th>\n",
       "      <td>2017-12-09 14:59:59</td>\n",
       "      <td>4.365491</td>\n",
       "      <td>6.158718</td>\n",
       "      <td>3.875727</td>\n",
       "      <td>39.135119</td>\n",
       "      <td>555.820208</td>\n",
       "      <td>94.544358</td>\n",
       "      <td>6.146982</td>\n",
       "      <td>9.308612</td>\n",
       "      <td>1196.238112</td>\n",
       "      <td>...</td>\n",
       "      <td>23.018622</td>\n",
       "      <td>-500.492702</td>\n",
       "      <td>20.020205</td>\n",
       "      <td>-500.220296</td>\n",
       "      <td>17.963512</td>\n",
       "      <td>-499.939490</td>\n",
       "      <td>12.990306</td>\n",
       "      <td>-500.080993</td>\n",
       "      <td>19.990336</td>\n",
       "      <td>-499.191575</td>\n",
       "    </tr>\n",
       "    <tr>\n",
       "      <th>1</th>\n",
       "      <td>2017-12-09 15:59:59</td>\n",
       "      <td>4.362781</td>\n",
       "      <td>6.048130</td>\n",
       "      <td>3.902537</td>\n",
       "      <td>39.713906</td>\n",
       "      <td>544.731687</td>\n",
       "      <td>123.742430</td>\n",
       "      <td>6.210119</td>\n",
       "      <td>9.297709</td>\n",
       "      <td>1201.904177</td>\n",
       "      <td>...</td>\n",
       "      <td>23.024963</td>\n",
       "      <td>-501.153409</td>\n",
       "      <td>20.054122</td>\n",
       "      <td>-500.314711</td>\n",
       "      <td>17.979515</td>\n",
       "      <td>-499.272871</td>\n",
       "      <td>12.992404</td>\n",
       "      <td>-499.976268</td>\n",
       "      <td>20.013986</td>\n",
       "      <td>-500.625471</td>\n",
       "    </tr>\n",
       "    <tr>\n",
       "      <th>2</th>\n",
       "      <td>2017-12-09 16:59:59</td>\n",
       "      <td>5.081681</td>\n",
       "      <td>6.082745</td>\n",
       "      <td>4.564078</td>\n",
       "      <td>37.208683</td>\n",
       "      <td>558.155110</td>\n",
       "      <td>82.610855</td>\n",
       "      <td>7.363824</td>\n",
       "      <td>9.003562</td>\n",
       "      <td>1200.826926</td>\n",
       "      <td>...</td>\n",
       "      <td>22.993827</td>\n",
       "      <td>-501.559663</td>\n",
       "      <td>20.029144</td>\n",
       "      <td>-500.000662</td>\n",
       "      <td>18.012723</td>\n",
       "      <td>-500.024764</td>\n",
       "      <td>13.016445</td>\n",
       "      <td>-500.058432</td>\n",
       "      <td>19.973767</td>\n",
       "      <td>-501.394155</td>\n",
       "    </tr>\n",
       "    <tr>\n",
       "      <th>3</th>\n",
       "      <td>2017-12-09 17:59:59</td>\n",
       "      <td>5.145949</td>\n",
       "      <td>6.084374</td>\n",
       "      <td>4.768124</td>\n",
       "      <td>36.808874</td>\n",
       "      <td>539.713765</td>\n",
       "      <td>77.984784</td>\n",
       "      <td>6.927072</td>\n",
       "      <td>8.955597</td>\n",
       "      <td>1199.292489</td>\n",
       "      <td>...</td>\n",
       "      <td>23.032807</td>\n",
       "      <td>-501.287889</td>\n",
       "      <td>19.977466</td>\n",
       "      <td>-500.159903</td>\n",
       "      <td>17.980463</td>\n",
       "      <td>-500.504602</td>\n",
       "      <td>12.949071</td>\n",
       "      <td>-500.009937</td>\n",
       "      <td>20.010332</td>\n",
       "      <td>-508.337973</td>\n",
       "    </tr>\n",
       "    <tr>\n",
       "      <th>4</th>\n",
       "      <td>2017-12-09 18:59:59</td>\n",
       "      <td>5.735249</td>\n",
       "      <td>6.165220</td>\n",
       "      <td>4.512346</td>\n",
       "      <td>37.810642</td>\n",
       "      <td>558.713584</td>\n",
       "      <td>86.434874</td>\n",
       "      <td>7.823471</td>\n",
       "      <td>7.490356</td>\n",
       "      <td>1198.005449</td>\n",
       "      <td>...</td>\n",
       "      <td>23.001911</td>\n",
       "      <td>-499.947838</td>\n",
       "      <td>20.023735</td>\n",
       "      <td>-499.713680</td>\n",
       "      <td>17.990955</td>\n",
       "      <td>-500.334769</td>\n",
       "      <td>13.007523</td>\n",
       "      <td>-499.968459</td>\n",
       "      <td>19.995999</td>\n",
       "      <td>-499.788805</td>\n",
       "    </tr>\n",
       "  </tbody>\n",
       "</table>\n",
       "<p>5 rows × 53 columns</p>\n",
       "</div>"
      ],
      "text/plain": [
       "                  date  rougher.input.feed_au  rougher.input.feed_ag  \\\n",
       "0  2017-12-09 14:59:59               4.365491               6.158718   \n",
       "1  2017-12-09 15:59:59               4.362781               6.048130   \n",
       "2  2017-12-09 16:59:59               5.081681               6.082745   \n",
       "3  2017-12-09 17:59:59               5.145949               6.084374   \n",
       "4  2017-12-09 18:59:59               5.735249               6.165220   \n",
       "\n",
       "   rougher.input.feed_pb  rougher.input.feed_sol  rougher.input.feed_rate  \\\n",
       "0               3.875727               39.135119               555.820208   \n",
       "1               3.902537               39.713906               544.731687   \n",
       "2               4.564078               37.208683               558.155110   \n",
       "3               4.768124               36.808874               539.713765   \n",
       "4               4.512346               37.810642               558.713584   \n",
       "\n",
       "   rougher.input.feed_size  rougher.input.floatbank10_sulfate  \\\n",
       "0                94.544358                           6.146982   \n",
       "1               123.742430                           6.210119   \n",
       "2                82.610855                           7.363824   \n",
       "3                77.984784                           6.927072   \n",
       "4                86.434874                           7.823471   \n",
       "\n",
       "   rougher.input.floatbank10_xanthate  rougher.state.floatbank10_a_air  ...  \\\n",
       "0                            9.308612                      1196.238112  ...   \n",
       "1                            9.297709                      1201.904177  ...   \n",
       "2                            9.003562                      1200.826926  ...   \n",
       "3                            8.955597                      1199.292489  ...   \n",
       "4                            7.490356                      1198.005449  ...   \n",
       "\n",
       "   secondary_cleaner.state.floatbank4_a_air  \\\n",
       "0                                 23.018622   \n",
       "1                                 23.024963   \n",
       "2                                 22.993827   \n",
       "3                                 23.032807   \n",
       "4                                 23.001911   \n",
       "\n",
       "   secondary_cleaner.state.floatbank4_a_level  \\\n",
       "0                                 -500.492702   \n",
       "1                                 -501.153409   \n",
       "2                                 -501.559663   \n",
       "3                                 -501.287889   \n",
       "4                                 -499.947838   \n",
       "\n",
       "   secondary_cleaner.state.floatbank4_b_air  \\\n",
       "0                                 20.020205   \n",
       "1                                 20.054122   \n",
       "2                                 20.029144   \n",
       "3                                 19.977466   \n",
       "4                                 20.023735   \n",
       "\n",
       "   secondary_cleaner.state.floatbank4_b_level  \\\n",
       "0                                 -500.220296   \n",
       "1                                 -500.314711   \n",
       "2                                 -500.000662   \n",
       "3                                 -500.159903   \n",
       "4                                 -499.713680   \n",
       "\n",
       "   secondary_cleaner.state.floatbank5_a_air  \\\n",
       "0                                 17.963512   \n",
       "1                                 17.979515   \n",
       "2                                 18.012723   \n",
       "3                                 17.980463   \n",
       "4                                 17.990955   \n",
       "\n",
       "   secondary_cleaner.state.floatbank5_a_level  \\\n",
       "0                                 -499.939490   \n",
       "1                                 -499.272871   \n",
       "2                                 -500.024764   \n",
       "3                                 -500.504602   \n",
       "4                                 -500.334769   \n",
       "\n",
       "   secondary_cleaner.state.floatbank5_b_air  \\\n",
       "0                                 12.990306   \n",
       "1                                 12.992404   \n",
       "2                                 13.016445   \n",
       "3                                 12.949071   \n",
       "4                                 13.007523   \n",
       "\n",
       "   secondary_cleaner.state.floatbank5_b_level  \\\n",
       "0                                 -500.080993   \n",
       "1                                 -499.976268   \n",
       "2                                 -500.058432   \n",
       "3                                 -500.009937   \n",
       "4                                 -499.968459   \n",
       "\n",
       "   secondary_cleaner.state.floatbank6_a_air  \\\n",
       "0                                 19.990336   \n",
       "1                                 20.013986   \n",
       "2                                 19.973767   \n",
       "3                                 20.010332   \n",
       "4                                 19.995999   \n",
       "\n",
       "   secondary_cleaner.state.floatbank6_a_level  \n",
       "0                                 -499.191575  \n",
       "1                                 -500.625471  \n",
       "2                                 -501.394155  \n",
       "3                                 -508.337973  \n",
       "4                                 -499.788805  \n",
       "\n",
       "[5 rows x 53 columns]"
      ]
     },
     "execution_count": 5,
     "metadata": {},
     "output_type": "execute_result"
    }
   ],
   "source": [
    "df_test.head()"
   ]
  },
  {
   "cell_type": "code",
   "execution_count": 6,
   "metadata": {
    "scrolled": true
   },
   "outputs": [
    {
     "name": "stdout",
     "output_type": "stream",
     "text": [
      "<class 'pandas.core.frame.DataFrame'>\n",
      "RangeIndex: 4860 entries, 0 to 4859\n",
      "Data columns (total 53 columns):\n",
      " #   Column                                      Non-Null Count  Dtype  \n",
      "---  ------                                      --------------  -----  \n",
      " 0   date                                        4860 non-null   object \n",
      " 1   rougher.input.feed_au                       4860 non-null   float64\n",
      " 2   rougher.input.feed_ag                       4860 non-null   float64\n",
      " 3   rougher.input.feed_pb                       4832 non-null   float64\n",
      " 4   rougher.input.feed_sol                      4838 non-null   float64\n",
      " 5   rougher.input.feed_rate                     4856 non-null   float64\n",
      " 6   rougher.input.feed_size                     4816 non-null   float64\n",
      " 7   rougher.input.floatbank10_sulfate           4857 non-null   float64\n",
      " 8   rougher.input.floatbank10_xanthate          4859 non-null   float64\n",
      " 9   rougher.state.floatbank10_a_air             4859 non-null   float64\n",
      " 10  rougher.state.floatbank10_a_level           4859 non-null   float64\n",
      " 11  rougher.state.floatbank10_b_air             4859 non-null   float64\n",
      " 12  rougher.state.floatbank10_b_level           4859 non-null   float64\n",
      " 13  rougher.state.floatbank10_c_air             4859 non-null   float64\n",
      " 14  rougher.state.floatbank10_c_level           4859 non-null   float64\n",
      " 15  rougher.state.floatbank10_d_air             4860 non-null   float64\n",
      " 16  rougher.state.floatbank10_d_level           4860 non-null   float64\n",
      " 17  rougher.state.floatbank10_e_air             4853 non-null   float64\n",
      " 18  rougher.state.floatbank10_e_level           4860 non-null   float64\n",
      " 19  rougher.state.floatbank10_f_air             4860 non-null   float64\n",
      " 20  rougher.state.floatbank10_f_level           4860 non-null   float64\n",
      " 21  rougher.input.floatbank11_sulfate           4852 non-null   float64\n",
      " 22  rougher.input.floatbank11_xanthate          4814 non-null   float64\n",
      " 23  primary_cleaner.input.sulfate               4859 non-null   float64\n",
      " 24  primary_cleaner.input.depressant            4851 non-null   float64\n",
      " 25  primary_cleaner.input.feed_size             4860 non-null   float64\n",
      " 26  primary_cleaner.input.xanthate              4817 non-null   float64\n",
      " 27  primary_cleaner.state.floatbank8_a_air      4859 non-null   float64\n",
      " 28  primary_cleaner.state.floatbank8_a_level    4859 non-null   float64\n",
      " 29  primary_cleaner.state.floatbank8_b_air      4859 non-null   float64\n",
      " 30  primary_cleaner.state.floatbank8_b_level    4859 non-null   float64\n",
      " 31  primary_cleaner.state.floatbank8_c_air      4858 non-null   float64\n",
      " 32  primary_cleaner.state.floatbank8_c_level    4859 non-null   float64\n",
      " 33  primary_cleaner.state.floatbank8_d_air      4858 non-null   float64\n",
      " 34  primary_cleaner.state.floatbank8_d_level    4859 non-null   float64\n",
      " 35  secondary_cleaner.state.floatbank2_a_air    4734 non-null   float64\n",
      " 36  secondary_cleaner.state.floatbank2_a_level  4859 non-null   float64\n",
      " 37  secondary_cleaner.state.floatbank2_b_air    4859 non-null   float64\n",
      " 38  secondary_cleaner.state.floatbank2_b_level  4859 non-null   float64\n",
      " 39  secondary_cleaner.state.floatbank3_a_air    4859 non-null   float64\n",
      " 40  secondary_cleaner.state.floatbank3_a_level  4859 non-null   float64\n",
      " 41  secondary_cleaner.state.floatbank3_b_air    4859 non-null   float64\n",
      " 42  secondary_cleaner.state.floatbank3_b_level  4859 non-null   float64\n",
      " 43  secondary_cleaner.state.floatbank4_a_air    4859 non-null   float64\n",
      " 44  secondary_cleaner.state.floatbank4_a_level  4859 non-null   float64\n",
      " 45  secondary_cleaner.state.floatbank4_b_air    4859 non-null   float64\n",
      " 46  secondary_cleaner.state.floatbank4_b_level  4859 non-null   float64\n",
      " 47  secondary_cleaner.state.floatbank5_a_air    4859 non-null   float64\n",
      " 48  secondary_cleaner.state.floatbank5_a_level  4859 non-null   float64\n",
      " 49  secondary_cleaner.state.floatbank5_b_air    4859 non-null   float64\n",
      " 50  secondary_cleaner.state.floatbank5_b_level  4859 non-null   float64\n",
      " 51  secondary_cleaner.state.floatbank6_a_air    4859 non-null   float64\n",
      " 52  secondary_cleaner.state.floatbank6_a_level  4859 non-null   float64\n",
      "dtypes: float64(52), object(1)\n",
      "memory usage: 2.0+ MB\n"
     ]
    }
   ],
   "source": [
    "df_test.info()"
   ]
  },
  {
   "cell_type": "code",
   "execution_count": 7,
   "metadata": {},
   "outputs": [
    {
     "data": {
      "text/html": [
       "<div>\n",
       "<style scoped>\n",
       "    .dataframe tbody tr th:only-of-type {\n",
       "        vertical-align: middle;\n",
       "    }\n",
       "\n",
       "    .dataframe tbody tr th {\n",
       "        vertical-align: top;\n",
       "    }\n",
       "\n",
       "    .dataframe thead th {\n",
       "        text-align: right;\n",
       "    }\n",
       "</style>\n",
       "<table border=\"1\" class=\"dataframe\">\n",
       "  <thead>\n",
       "    <tr style=\"text-align: right;\">\n",
       "      <th></th>\n",
       "      <th>date</th>\n",
       "      <th>rougher.input.feed_au</th>\n",
       "      <th>rougher.input.feed_ag</th>\n",
       "      <th>rougher.input.feed_pb</th>\n",
       "      <th>rougher.input.feed_sol</th>\n",
       "      <th>rougher.input.feed_rate</th>\n",
       "      <th>rougher.input.feed_size</th>\n",
       "      <th>rougher.input.floatbank10_sulfate</th>\n",
       "      <th>rougher.input.floatbank10_xanthate</th>\n",
       "      <th>rougher.state.floatbank10_a_air</th>\n",
       "      <th>...</th>\n",
       "      <th>secondary_cleaner.output.tail_sol</th>\n",
       "      <th>final.output.concentrate_au</th>\n",
       "      <th>final.output.concentrate_ag</th>\n",
       "      <th>final.output.concentrate_pb</th>\n",
       "      <th>final.output.concentrate_sol</th>\n",
       "      <th>final.output.recovery</th>\n",
       "      <th>final.output.tail_au</th>\n",
       "      <th>final.output.tail_ag</th>\n",
       "      <th>final.output.tail_pb</th>\n",
       "      <th>final.output.tail_sol</th>\n",
       "    </tr>\n",
       "  </thead>\n",
       "  <tbody>\n",
       "    <tr>\n",
       "      <th>0</th>\n",
       "      <td>2016-01-15 00:00:00</td>\n",
       "      <td>6.486150</td>\n",
       "      <td>6.100378</td>\n",
       "      <td>2.284912</td>\n",
       "      <td>36.808594</td>\n",
       "      <td>523.546326</td>\n",
       "      <td>55.486599</td>\n",
       "      <td>11.986616</td>\n",
       "      <td>6.007990</td>\n",
       "      <td>999.706909</td>\n",
       "      <td>...</td>\n",
       "      <td>8.764648</td>\n",
       "      <td>42.192020</td>\n",
       "      <td>6.055403</td>\n",
       "      <td>9.889648</td>\n",
       "      <td>5.507324</td>\n",
       "      <td>70.541216</td>\n",
       "      <td>2.143149</td>\n",
       "      <td>10.411962</td>\n",
       "      <td>0.895447</td>\n",
       "      <td>16.904297</td>\n",
       "    </tr>\n",
       "    <tr>\n",
       "      <th>1</th>\n",
       "      <td>2016-01-15 01:00:00</td>\n",
       "      <td>6.478583</td>\n",
       "      <td>6.161113</td>\n",
       "      <td>2.266033</td>\n",
       "      <td>35.753385</td>\n",
       "      <td>525.290581</td>\n",
       "      <td>57.278666</td>\n",
       "      <td>11.971193</td>\n",
       "      <td>6.005766</td>\n",
       "      <td>1000.286398</td>\n",
       "      <td>...</td>\n",
       "      <td>9.001494</td>\n",
       "      <td>42.701629</td>\n",
       "      <td>6.029369</td>\n",
       "      <td>9.968944</td>\n",
       "      <td>5.257781</td>\n",
       "      <td>69.266198</td>\n",
       "      <td>2.224930</td>\n",
       "      <td>10.462676</td>\n",
       "      <td>0.927452</td>\n",
       "      <td>16.634514</td>\n",
       "    </tr>\n",
       "    <tr>\n",
       "      <th>2</th>\n",
       "      <td>2016-01-15 02:00:00</td>\n",
       "      <td>6.362222</td>\n",
       "      <td>6.116455</td>\n",
       "      <td>2.159622</td>\n",
       "      <td>35.971630</td>\n",
       "      <td>530.026610</td>\n",
       "      <td>57.510649</td>\n",
       "      <td>11.920603</td>\n",
       "      <td>6.197377</td>\n",
       "      <td>999.719565</td>\n",
       "      <td>...</td>\n",
       "      <td>8.842896</td>\n",
       "      <td>42.657501</td>\n",
       "      <td>6.055926</td>\n",
       "      <td>10.213995</td>\n",
       "      <td>5.383759</td>\n",
       "      <td>68.116445</td>\n",
       "      <td>2.257889</td>\n",
       "      <td>10.507046</td>\n",
       "      <td>0.953716</td>\n",
       "      <td>16.208849</td>\n",
       "    </tr>\n",
       "    <tr>\n",
       "      <th>3</th>\n",
       "      <td>2016-01-15 03:00:00</td>\n",
       "      <td>6.118189</td>\n",
       "      <td>6.043309</td>\n",
       "      <td>2.037807</td>\n",
       "      <td>36.862241</td>\n",
       "      <td>542.590390</td>\n",
       "      <td>57.792734</td>\n",
       "      <td>11.630094</td>\n",
       "      <td>6.203177</td>\n",
       "      <td>999.814770</td>\n",
       "      <td>...</td>\n",
       "      <td>9.122857</td>\n",
       "      <td>42.689819</td>\n",
       "      <td>6.047977</td>\n",
       "      <td>9.977019</td>\n",
       "      <td>4.858634</td>\n",
       "      <td>68.347543</td>\n",
       "      <td>2.146849</td>\n",
       "      <td>10.422762</td>\n",
       "      <td>0.883763</td>\n",
       "      <td>16.532835</td>\n",
       "    </tr>\n",
       "    <tr>\n",
       "      <th>4</th>\n",
       "      <td>2016-01-15 04:00:00</td>\n",
       "      <td>5.663707</td>\n",
       "      <td>6.060915</td>\n",
       "      <td>1.786875</td>\n",
       "      <td>34.347666</td>\n",
       "      <td>540.531893</td>\n",
       "      <td>56.047189</td>\n",
       "      <td>10.957755</td>\n",
       "      <td>6.198826</td>\n",
       "      <td>999.678690</td>\n",
       "      <td>...</td>\n",
       "      <td>8.871028</td>\n",
       "      <td>42.774141</td>\n",
       "      <td>6.148599</td>\n",
       "      <td>10.142511</td>\n",
       "      <td>4.939416</td>\n",
       "      <td>66.927016</td>\n",
       "      <td>2.055292</td>\n",
       "      <td>10.360302</td>\n",
       "      <td>0.792826</td>\n",
       "      <td>16.525686</td>\n",
       "    </tr>\n",
       "  </tbody>\n",
       "</table>\n",
       "<p>5 rows × 87 columns</p>\n",
       "</div>"
      ],
      "text/plain": [
       "                  date  rougher.input.feed_au  rougher.input.feed_ag  \\\n",
       "0  2016-01-15 00:00:00               6.486150               6.100378   \n",
       "1  2016-01-15 01:00:00               6.478583               6.161113   \n",
       "2  2016-01-15 02:00:00               6.362222               6.116455   \n",
       "3  2016-01-15 03:00:00               6.118189               6.043309   \n",
       "4  2016-01-15 04:00:00               5.663707               6.060915   \n",
       "\n",
       "   rougher.input.feed_pb  rougher.input.feed_sol  rougher.input.feed_rate  \\\n",
       "0               2.284912               36.808594               523.546326   \n",
       "1               2.266033               35.753385               525.290581   \n",
       "2               2.159622               35.971630               530.026610   \n",
       "3               2.037807               36.862241               542.590390   \n",
       "4               1.786875               34.347666               540.531893   \n",
       "\n",
       "   rougher.input.feed_size  rougher.input.floatbank10_sulfate  \\\n",
       "0                55.486599                          11.986616   \n",
       "1                57.278666                          11.971193   \n",
       "2                57.510649                          11.920603   \n",
       "3                57.792734                          11.630094   \n",
       "4                56.047189                          10.957755   \n",
       "\n",
       "   rougher.input.floatbank10_xanthate  rougher.state.floatbank10_a_air  ...  \\\n",
       "0                            6.007990                       999.706909  ...   \n",
       "1                            6.005766                      1000.286398  ...   \n",
       "2                            6.197377                       999.719565  ...   \n",
       "3                            6.203177                       999.814770  ...   \n",
       "4                            6.198826                       999.678690  ...   \n",
       "\n",
       "   secondary_cleaner.output.tail_sol  final.output.concentrate_au  \\\n",
       "0                           8.764648                    42.192020   \n",
       "1                           9.001494                    42.701629   \n",
       "2                           8.842896                    42.657501   \n",
       "3                           9.122857                    42.689819   \n",
       "4                           8.871028                    42.774141   \n",
       "\n",
       "   final.output.concentrate_ag  final.output.concentrate_pb  \\\n",
       "0                     6.055403                     9.889648   \n",
       "1                     6.029369                     9.968944   \n",
       "2                     6.055926                    10.213995   \n",
       "3                     6.047977                     9.977019   \n",
       "4                     6.148599                    10.142511   \n",
       "\n",
       "   final.output.concentrate_sol  final.output.recovery  final.output.tail_au  \\\n",
       "0                      5.507324              70.541216              2.143149   \n",
       "1                      5.257781              69.266198              2.224930   \n",
       "2                      5.383759              68.116445              2.257889   \n",
       "3                      4.858634              68.347543              2.146849   \n",
       "4                      4.939416              66.927016              2.055292   \n",
       "\n",
       "   final.output.tail_ag  final.output.tail_pb  final.output.tail_sol  \n",
       "0             10.411962              0.895447              16.904297  \n",
       "1             10.462676              0.927452              16.634514  \n",
       "2             10.507046              0.953716              16.208849  \n",
       "3             10.422762              0.883763              16.532835  \n",
       "4             10.360302              0.792826              16.525686  \n",
       "\n",
       "[5 rows x 87 columns]"
      ]
     },
     "execution_count": 7,
     "metadata": {},
     "output_type": "execute_result"
    }
   ],
   "source": [
    "df_full.head()"
   ]
  },
  {
   "cell_type": "code",
   "execution_count": 8,
   "metadata": {
    "scrolled": true
   },
   "outputs": [
    {
     "name": "stdout",
     "output_type": "stream",
     "text": [
      "<class 'pandas.core.frame.DataFrame'>\n",
      "RangeIndex: 19439 entries, 0 to 19438\n",
      "Data columns (total 87 columns):\n",
      " #   Column                                              Non-Null Count  Dtype  \n",
      "---  ------                                              --------------  -----  \n",
      " 0   date                                                19439 non-null  object \n",
      " 1   rougher.input.feed_au                               19439 non-null  float64\n",
      " 2   rougher.input.feed_ag                               19439 non-null  float64\n",
      " 3   rougher.input.feed_pb                               19339 non-null  float64\n",
      " 4   rougher.input.feed_sol                              19340 non-null  float64\n",
      " 5   rougher.input.feed_rate                             19428 non-null  float64\n",
      " 6   rougher.input.feed_size                             19294 non-null  float64\n",
      " 7   rougher.input.floatbank10_sulfate                   19405 non-null  float64\n",
      " 8   rougher.input.floatbank10_xanthate                  19431 non-null  float64\n",
      " 9   rougher.state.floatbank10_a_air                     19438 non-null  float64\n",
      " 10  rougher.state.floatbank10_a_level                   19438 non-null  float64\n",
      " 11  rougher.state.floatbank10_b_air                     19438 non-null  float64\n",
      " 12  rougher.state.floatbank10_b_level                   19438 non-null  float64\n",
      " 13  rougher.state.floatbank10_c_air                     19438 non-null  float64\n",
      " 14  rougher.state.floatbank10_c_level                   19438 non-null  float64\n",
      " 15  rougher.state.floatbank10_d_air                     19439 non-null  float64\n",
      " 16  rougher.state.floatbank10_d_level                   19439 non-null  float64\n",
      " 17  rougher.state.floatbank10_e_air                     19003 non-null  float64\n",
      " 18  rougher.state.floatbank10_e_level                   19439 non-null  float64\n",
      " 19  rougher.state.floatbank10_f_air                     19439 non-null  float64\n",
      " 20  rougher.state.floatbank10_f_level                   19439 non-null  float64\n",
      " 21  rougher.input.floatbank11_sulfate                   19395 non-null  float64\n",
      " 22  rougher.input.floatbank11_xanthate                  18986 non-null  float64\n",
      " 23  rougher.calculation.sulfate_to_au_concentrate       19437 non-null  float64\n",
      " 24  rougher.calculation.floatbank10_sulfate_to_au_feed  19437 non-null  float64\n",
      " 25  rougher.calculation.floatbank11_sulfate_to_au_feed  19437 non-null  float64\n",
      " 26  rougher.calculation.au_pb_ratio                     19439 non-null  float64\n",
      " 27  rougher.output.concentrate_au                       19439 non-null  float64\n",
      " 28  rougher.output.concentrate_ag                       19439 non-null  float64\n",
      " 29  rougher.output.concentrate_pb                       19439 non-null  float64\n",
      " 30  rougher.output.concentrate_sol                      19416 non-null  float64\n",
      " 31  rougher.output.recovery                             19439 non-null  float64\n",
      " 32  rougher.output.tail_au                              19439 non-null  float64\n",
      " 33  rougher.output.tail_ag                              19438 non-null  float64\n",
      " 34  rougher.output.tail_pb                              19439 non-null  float64\n",
      " 35  rougher.output.tail_sol                             19439 non-null  float64\n",
      " 36  primary_cleaner.input.sulfate                       19415 non-null  float64\n",
      " 37  primary_cleaner.input.depressant                    19402 non-null  float64\n",
      " 38  primary_cleaner.input.feed_size                     19439 non-null  float64\n",
      " 39  primary_cleaner.input.xanthate                      19335 non-null  float64\n",
      " 40  primary_cleaner.state.floatbank8_a_air              19435 non-null  float64\n",
      " 41  primary_cleaner.state.floatbank8_a_level            19438 non-null  float64\n",
      " 42  primary_cleaner.state.floatbank8_b_air              19435 non-null  float64\n",
      " 43  primary_cleaner.state.floatbank8_b_level            19438 non-null  float64\n",
      " 44  primary_cleaner.state.floatbank8_c_air              19437 non-null  float64\n",
      " 45  primary_cleaner.state.floatbank8_c_level            19438 non-null  float64\n",
      " 46  primary_cleaner.state.floatbank8_d_air              19436 non-null  float64\n",
      " 47  primary_cleaner.state.floatbank8_d_level            19438 non-null  float64\n",
      " 48  primary_cleaner.output.concentrate_au               19439 non-null  float64\n",
      " 49  primary_cleaner.output.concentrate_ag               19439 non-null  float64\n",
      " 50  primary_cleaner.output.concentrate_pb               19323 non-null  float64\n",
      " 51  primary_cleaner.output.concentrate_sol              19069 non-null  float64\n",
      " 52  primary_cleaner.output.tail_au                      19439 non-null  float64\n",
      " 53  primary_cleaner.output.tail_ag                      19435 non-null  float64\n",
      " 54  primary_cleaner.output.tail_pb                      19418 non-null  float64\n",
      " 55  primary_cleaner.output.tail_sol                     19377 non-null  float64\n",
      " 56  secondary_cleaner.state.floatbank2_a_air            19219 non-null  float64\n",
      " 57  secondary_cleaner.state.floatbank2_a_level          19438 non-null  float64\n",
      " 58  secondary_cleaner.state.floatbank2_b_air            19416 non-null  float64\n",
      " 59  secondary_cleaner.state.floatbank2_b_level          19438 non-null  float64\n",
      " 60  secondary_cleaner.state.floatbank3_a_air            19426 non-null  float64\n",
      " 61  secondary_cleaner.state.floatbank3_a_level          19438 non-null  float64\n",
      " 62  secondary_cleaner.state.floatbank3_b_air            19438 non-null  float64\n",
      " 63  secondary_cleaner.state.floatbank3_b_level          19438 non-null  float64\n",
      " 64  secondary_cleaner.state.floatbank4_a_air            19433 non-null  float64\n",
      " 65  secondary_cleaner.state.floatbank4_a_level          19438 non-null  float64\n",
      " 66  secondary_cleaner.state.floatbank4_b_air            19438 non-null  float64\n",
      " 67  secondary_cleaner.state.floatbank4_b_level          19438 non-null  float64\n",
      " 68  secondary_cleaner.state.floatbank5_a_air            19438 non-null  float64\n",
      " 69  secondary_cleaner.state.floatbank5_a_level          19438 non-null  float64\n",
      " 70  secondary_cleaner.state.floatbank5_b_air            19438 non-null  float64\n",
      " 71  secondary_cleaner.state.floatbank5_b_level          19438 non-null  float64\n",
      " 72  secondary_cleaner.state.floatbank6_a_air            19437 non-null  float64\n",
      " 73  secondary_cleaner.state.floatbank6_a_level          19438 non-null  float64\n",
      " 74  secondary_cleaner.output.tail_au                    19439 non-null  float64\n",
      " 75  secondary_cleaner.output.tail_ag                    19437 non-null  float64\n",
      " 76  secondary_cleaner.output.tail_pb                    19427 non-null  float64\n",
      " 77  secondary_cleaner.output.tail_sol                   17691 non-null  float64\n",
      " 78  final.output.concentrate_au                         19439 non-null  float64\n",
      " 79  final.output.concentrate_ag                         19438 non-null  float64\n",
      " 80  final.output.concentrate_pb                         19438 non-null  float64\n",
      " 81  final.output.concentrate_sol                        19228 non-null  float64\n",
      " 82  final.output.recovery                               19439 non-null  float64\n",
      " 83  final.output.tail_au                                19439 non-null  float64\n",
      " 84  final.output.tail_ag                                19438 non-null  float64\n",
      " 85  final.output.tail_pb                                19338 non-null  float64\n",
      " 86  final.output.tail_sol                               19433 non-null  float64\n",
      "dtypes: float64(86), object(1)\n",
      "memory usage: 12.9+ MB\n"
     ]
    }
   ],
   "source": [
    "df_full.info()"
   ]
  },
  {
   "cell_type": "markdown",
   "metadata": {},
   "source": [
    "Наименование признаков имеет вид:  \n",
    ">[этап].[тип_параметра].[название_параметра]  \n",
    "\n",
    "Возможные значения для блока [этап]:  \n",
    ">`rougher` — флотация  \n",
    "`primary_cleaner` — первичная очистка  \n",
    "`secondary_cleaner` — вторичная очистка  \n",
    "`final` — финальные характеристики  \n",
    "\n",
    "Возможные значения для блока [тип_параметра]:\n",
    ">`input` — параметры сырья  \n",
    "`output` — параметры продукта  \n",
    "`state` — параметры, характеризующие текущее состояние этапа  \n",
    "`calculation` — расчётные характеристики "
   ]
  },
  {
   "cell_type": "markdown",
   "metadata": {},
   "source": [
    "### Расчёт эффективности обогащения"
   ]
  },
  {
   "attachments": {
    "Recovery_1576238822.jpg": {
     "image/jpeg": "[encoded data removed]"
    }
   },
   "cell_type": "markdown",
   "metadata": {},
   "source": [
    "__Эффективность обогащения__ рассчитывается по формуле:\n",
    "\n",
    "![Recovery_1576238822.jpg](attachment:Recovery_1576238822.jpg)\n",
    "\n",
    "где:  \n",
    ">`C` — доля золота в концентрате после флотации/очистки;  \n",
    "`F` — доля золота в сырье/концентрате до флотации/очистки;  \n",
    "`T` — доля золота в отвальных хвостах после флотации/очистки.  \n",
    "\n",
    "Для прогноза коэффициента нужно найти долю золота в концентратах и хвостах. Причём важен не только финальный продукт, но и черновой концентрат."
   ]
  },
  {
   "cell_type": "markdown",
   "metadata": {},
   "source": [
    "__Формула эффективности обогащения__ согласно наименованиям признаков:\n",
    "\n",
    ">`C` = `rougher.output.concentrate_au`  \n",
    "`F` = `rougher.input.feed_au`  \n",
    "`T` = `rougher.output.tail_au`  "
   ]
  },
  {
   "cell_type": "code",
   "execution_count": 9,
   "metadata": {},
   "outputs": [],
   "source": [
    "C = df_train['rougher.output.concentrate_au']\n",
    "F = df_train['rougher.input.feed_au']\n",
    "T = df_train['rougher.output.tail_au']\n",
    "\n",
    "rougher_output_recovery_pred = ((C*(F-T))/(F*(C-T)))*100"
   ]
  },
  {
   "cell_type": "code",
   "execution_count": 10,
   "metadata": {},
   "outputs": [
    {
     "data": {
      "text/plain": [
       "0        87.107763\n",
       "1        86.843261\n",
       "2        86.842308\n",
       "3        87.226430\n",
       "4        86.688794\n",
       "           ...    \n",
       "14574    87.684717\n",
       "14575    90.677361\n",
       "14576    89.574376\n",
       "14577    87.724007\n",
       "14578    88.890579\n",
       "Length: 14579, dtype: float64"
      ]
     },
     "execution_count": 10,
     "metadata": {},
     "output_type": "execute_result"
    }
   ],
   "source": [
    "rougher_output_recovery_pred"
   ]
  },
  {
   "cell_type": "markdown",
   "metadata": {},
   "source": [
    "Средняя абсолютная ошибка (`MAE`) позволит определить разность между истинным и предсказанным значениями."
   ]
  },
  {
   "cell_type": "code",
   "execution_count": 11,
   "metadata": {},
   "outputs": [
    {
     "name": "stdout",
     "output_type": "stream",
     "text": [
      "MAE составляет: 9.83758577644259e-15\n"
     ]
    }
   ],
   "source": [
    "print('MAE составляет:', mean_absolute_error(df_train['rougher.output.recovery'], rougher_output_recovery_pred))"
   ]
  },
  {
   "cell_type": "markdown",
   "metadata": {},
   "source": [
    "__Вывод:__ полученное значение средней абсолютной ошибки очень мало, поэтому можно утверждать, что расчеты верны."
   ]
  },
  {
   "cell_type": "markdown",
   "metadata": {},
   "source": [
    "<div class=\"alert alert-success\">\n",
    "<h2> Комментарий ревьюера <a class=\"tocSkip\"> </h2>\n",
    "\n",
    "<b>Все отлично!👍:</b> \n",
    "    \n",
    "Твое расссчитанное значение `MAE` верно)"
   ]
  },
  {
   "cell_type": "markdown",
   "metadata": {},
   "source": [
    "На следующем этапе необходимо проанализировать признаки, недоступные в тестовой выборке. Для этого сравнил: какие признаки есть в `df_full`, но нет в `df_test` с помощью функции `set()`, которую изучил на https://academy.yandex.ru/handbook/python/article/mnozhestva-slovari"
   ]
  },
  {
   "cell_type": "code",
   "execution_count": 12,
   "metadata": {},
   "outputs": [
    {
     "data": {
      "text/plain": [
       "{'final.output.concentrate_ag',\n",
       " 'final.output.concentrate_au',\n",
       " 'final.output.concentrate_pb',\n",
       " 'final.output.concentrate_sol',\n",
       " 'final.output.recovery',\n",
       " 'final.output.tail_ag',\n",
       " 'final.output.tail_au',\n",
       " 'final.output.tail_pb',\n",
       " 'final.output.tail_sol',\n",
       " 'primary_cleaner.output.concentrate_ag',\n",
       " 'primary_cleaner.output.concentrate_au',\n",
       " 'primary_cleaner.output.concentrate_pb',\n",
       " 'primary_cleaner.output.concentrate_sol',\n",
       " 'primary_cleaner.output.tail_ag',\n",
       " 'primary_cleaner.output.tail_au',\n",
       " 'primary_cleaner.output.tail_pb',\n",
       " 'primary_cleaner.output.tail_sol',\n",
       " 'rougher.calculation.au_pb_ratio',\n",
       " 'rougher.calculation.floatbank10_sulfate_to_au_feed',\n",
       " 'rougher.calculation.floatbank11_sulfate_to_au_feed',\n",
       " 'rougher.calculation.sulfate_to_au_concentrate',\n",
       " 'rougher.output.concentrate_ag',\n",
       " 'rougher.output.concentrate_au',\n",
       " 'rougher.output.concentrate_pb',\n",
       " 'rougher.output.concentrate_sol',\n",
       " 'rougher.output.recovery',\n",
       " 'rougher.output.tail_ag',\n",
       " 'rougher.output.tail_au',\n",
       " 'rougher.output.tail_pb',\n",
       " 'rougher.output.tail_sol',\n",
       " 'secondary_cleaner.output.tail_ag',\n",
       " 'secondary_cleaner.output.tail_au',\n",
       " 'secondary_cleaner.output.tail_pb',\n",
       " 'secondary_cleaner.output.tail_sol'}"
      ]
     },
     "execution_count": 12,
     "metadata": {},
     "output_type": "execute_result"
    }
   ],
   "source": [
    "unav_signs = set(df_full.columns) - set(df_test.columns)\n",
    "unav_signs"
   ]
  },
  {
   "cell_type": "markdown",
   "metadata": {},
   "source": [
    "__Вывод:__ в тестовой выборке отсутствуют признаки, содержащие параметры продуктов (с параметром `output`) и расчетные характеристики (с параметром `calculation`). Можно предположить, что данные признаки отсутствуют, так как 9 из них (с параметром `final`) отсносятся к финальным характеристикам, 8 (с параметром `primary_cleaner`) - к первичной очистке, 4 (с параметром `secondary_cleaner`) - к вторичной очистке, а остальные 14 (с параметром `rougher`) - к флотации. Большая часть характеристик измеряются и рассчитываются на поздних этапах технологического процесса, поэтому и не попали в тестовую выборку."
   ]
  },
  {
   "cell_type": "markdown",
   "metadata": {},
   "source": [
    "<div class=\"alert alert-success\">\n",
    "<h2> Комментарий ревьюера <a class=\"tocSkip\"> </h2>\n",
    "\n",
    "<b>Все отлично!👍:</b> \n",
    "    \n",
    "В тестовой выборке недоступны некоторые расчетные (calculation) и выходные (output) характеристики процесса, ведь их невозможно получить либо замерить во время выполнения технологического процесса"
   ]
  },
  {
   "cell_type": "markdown",
   "metadata": {},
   "source": [
    "На следующем этапе необходимо провести предобработку данных:\n",
    "    \n",
    "1. Проверить данные на явные дубликаты.\n",
    "2. Проверить типы данных.\n",
    "3. Проверить данные на пропуски"
   ]
  },
  {
   "cell_type": "markdown",
   "metadata": {},
   "source": [
    "### Поиск явных дубликатов"
   ]
  },
  {
   "cell_type": "code",
   "execution_count": 13,
   "metadata": {},
   "outputs": [
    {
     "name": "stdout",
     "output_type": "stream",
     "text": [
      "0\n"
     ]
    }
   ],
   "source": [
    "print(df_full.duplicated().sum())"
   ]
  },
  {
   "cell_type": "code",
   "execution_count": 14,
   "metadata": {},
   "outputs": [
    {
     "name": "stdout",
     "output_type": "stream",
     "text": [
      "0\n"
     ]
    }
   ],
   "source": [
    "print(df_train.duplicated().sum())"
   ]
  },
  {
   "cell_type": "code",
   "execution_count": 15,
   "metadata": {},
   "outputs": [
    {
     "name": "stdout",
     "output_type": "stream",
     "text": [
      "0\n"
     ]
    }
   ],
   "source": [
    "print(df_test.duplicated().sum())"
   ]
  },
  {
   "cell_type": "markdown",
   "metadata": {},
   "source": [
    "Явные дубликаты отсутствуют, продолжаю предобработку."
   ]
  },
  {
   "cell_type": "markdown",
   "metadata": {},
   "source": [
    "### Проверка типов данных"
   ]
  },
  {
   "cell_type": "markdown",
   "metadata": {},
   "source": [
    "Все столбцы, кроме `date` имеют тип данных `float64`, что соответствует действительности. Необходимо исправить тип данных для столбца `date` с `object` на `datetime`."
   ]
  },
  {
   "cell_type": "code",
   "execution_count": 16,
   "metadata": {},
   "outputs": [
    {
     "name": "stdout",
     "output_type": "stream",
     "text": [
      "0        2016-01-15 00:00:00\n",
      "1        2016-01-15 01:00:00\n",
      "2        2016-01-15 02:00:00\n",
      "3        2016-01-15 03:00:00\n",
      "4        2016-01-15 04:00:00\n",
      "                ...         \n",
      "14574    2017-12-09 09:59:59\n",
      "14575    2017-12-09 10:59:59\n",
      "14576    2017-12-09 11:59:59\n",
      "14577    2017-12-09 12:59:59\n",
      "14578    2017-12-09 13:59:59\n",
      "Name: date, Length: 14579, dtype: object\n"
     ]
    }
   ],
   "source": [
    "print(df_train['date'])"
   ]
  },
  {
   "cell_type": "code",
   "execution_count": 17,
   "metadata": {},
   "outputs": [],
   "source": [
    "df_train['date'] = pd.to_datetime(df_train['date'], format=\"%Y-%m-%d %H:%M:%S\")\n",
    "df_test['date'] = pd.to_datetime(df_test['date'], format=\"%Y-%m-%d %H:%M:%S\")\n",
    "df_full['date'] = pd.to_datetime(df_full['date'], format=\"%Y-%m-%d %H:%M:%S\")"
   ]
  },
  {
   "cell_type": "code",
   "execution_count": 18,
   "metadata": {},
   "outputs": [
    {
     "name": "stdout",
     "output_type": "stream",
     "text": [
      "0       2016-01-15 00:00:00\n",
      "1       2016-01-15 01:00:00\n",
      "2       2016-01-15 02:00:00\n",
      "3       2016-01-15 03:00:00\n",
      "4       2016-01-15 04:00:00\n",
      "                ...        \n",
      "14574   2017-12-09 09:59:59\n",
      "14575   2017-12-09 10:59:59\n",
      "14576   2017-12-09 11:59:59\n",
      "14577   2017-12-09 12:59:59\n",
      "14578   2017-12-09 13:59:59\n",
      "Name: date, Length: 14579, dtype: datetime64[ns]\n"
     ]
    }
   ],
   "source": [
    "print(df_train['date'])"
   ]
  },
  {
   "cell_type": "markdown",
   "metadata": {},
   "source": [
    "### Заполнение пропусков"
   ]
  },
  {
   "cell_type": "markdown",
   "metadata": {},
   "source": [
    "Пропуски заполнил с помощью метода `fillna()`. Согласно заданию, соседние параметры по времени часто похожи, поэтому такой способ заполнения пропусков считаю подходящим.  Подглядел здесь: https://pandas.pydata.org/pandas-docs/stable/reference/api/pandas.DataFrame.fillna.html"
   ]
  },
  {
   "cell_type": "code",
   "execution_count": 19,
   "metadata": {},
   "outputs": [],
   "source": [
    "df_train = df_train.fillna(method='ffill')\n",
    "df_test = df_test.fillna(method='ffill')"
   ]
  },
  {
   "cell_type": "code",
   "execution_count": 20,
   "metadata": {},
   "outputs": [
    {
     "data": {
      "text/plain": [
       "date                      0\n",
       "rougher.input.feed_au     0\n",
       "rougher.input.feed_ag     0\n",
       "rougher.input.feed_pb     0\n",
       "rougher.input.feed_sol    0\n",
       "                         ..\n",
       "final.output.recovery     0\n",
       "final.output.tail_au      0\n",
       "final.output.tail_ag      0\n",
       "final.output.tail_pb      0\n",
       "final.output.tail_sol     0\n",
       "Length: 87, dtype: int64"
      ]
     },
     "execution_count": 20,
     "metadata": {},
     "output_type": "execute_result"
    }
   ],
   "source": [
    "df_train.isna().sum()"
   ]
  },
  {
   "cell_type": "code",
   "execution_count": 21,
   "metadata": {},
   "outputs": [
    {
     "data": {
      "text/plain": [
       "date                                          0\n",
       "rougher.input.feed_au                         0\n",
       "rougher.input.feed_ag                         0\n",
       "rougher.input.feed_pb                         0\n",
       "rougher.input.feed_sol                        0\n",
       "rougher.input.feed_rate                       0\n",
       "rougher.input.feed_size                       0\n",
       "rougher.input.floatbank10_sulfate             0\n",
       "rougher.input.floatbank10_xanthate            0\n",
       "rougher.state.floatbank10_a_air               0\n",
       "rougher.state.floatbank10_a_level             0\n",
       "rougher.state.floatbank10_b_air               0\n",
       "rougher.state.floatbank10_b_level             0\n",
       "rougher.state.floatbank10_c_air               0\n",
       "rougher.state.floatbank10_c_level             0\n",
       "rougher.state.floatbank10_d_air               0\n",
       "rougher.state.floatbank10_d_level             0\n",
       "rougher.state.floatbank10_e_air               0\n",
       "rougher.state.floatbank10_e_level             0\n",
       "rougher.state.floatbank10_f_air               0\n",
       "rougher.state.floatbank10_f_level             0\n",
       "rougher.input.floatbank11_sulfate             0\n",
       "rougher.input.floatbank11_xanthate            0\n",
       "primary_cleaner.input.sulfate                 0\n",
       "primary_cleaner.input.depressant              0\n",
       "primary_cleaner.input.feed_size               0\n",
       "primary_cleaner.input.xanthate                0\n",
       "primary_cleaner.state.floatbank8_a_air        0\n",
       "primary_cleaner.state.floatbank8_a_level      0\n",
       "primary_cleaner.state.floatbank8_b_air        0\n",
       "primary_cleaner.state.floatbank8_b_level      0\n",
       "primary_cleaner.state.floatbank8_c_air        0\n",
       "primary_cleaner.state.floatbank8_c_level      0\n",
       "primary_cleaner.state.floatbank8_d_air        0\n",
       "primary_cleaner.state.floatbank8_d_level      0\n",
       "secondary_cleaner.state.floatbank2_a_air      0\n",
       "secondary_cleaner.state.floatbank2_a_level    0\n",
       "secondary_cleaner.state.floatbank2_b_air      0\n",
       "secondary_cleaner.state.floatbank2_b_level    0\n",
       "secondary_cleaner.state.floatbank3_a_air      0\n",
       "secondary_cleaner.state.floatbank3_a_level    0\n",
       "secondary_cleaner.state.floatbank3_b_air      0\n",
       "secondary_cleaner.state.floatbank3_b_level    0\n",
       "secondary_cleaner.state.floatbank4_a_air      0\n",
       "secondary_cleaner.state.floatbank4_a_level    0\n",
       "secondary_cleaner.state.floatbank4_b_air      0\n",
       "secondary_cleaner.state.floatbank4_b_level    0\n",
       "secondary_cleaner.state.floatbank5_a_air      0\n",
       "secondary_cleaner.state.floatbank5_a_level    0\n",
       "secondary_cleaner.state.floatbank5_b_air      0\n",
       "secondary_cleaner.state.floatbank5_b_level    0\n",
       "secondary_cleaner.state.floatbank6_a_air      0\n",
       "secondary_cleaner.state.floatbank6_a_level    0\n",
       "dtype: int64"
      ]
     },
     "execution_count": 21,
     "metadata": {},
     "output_type": "execute_result"
    }
   ],
   "source": [
    "df_test.isna().sum()"
   ]
  },
  {
   "cell_type": "markdown",
   "metadata": {},
   "source": [
    "### Вывод по разделу:\n",
    "\n",
    "1. Значение средней абсолютной ошибки (`MAE`), рассчитаное на основе формулы эффективности обогащения, очень мало, поэтому можно утверждать, что расчеты по эффективности - верны.\n",
    "2. Данные проверены на наличие дубликатов, пропуски в обеих выборках заполнены предществующими значениями."
   ]
  },
  {
   "cell_type": "markdown",
   "metadata": {},
   "source": [
    "<div class=\"alert  alert-success\">\n",
    "<h2> Комментарий ревьюера <a class=\"tocSkip\"> </h2>\n",
    "\n",
    "<b>Верно!👍:\\\n",
    "</b> Верное решение по обработке пропусков, в признаках их не много. Все наблюдения представляют собой последовательные измерения, заполнить пропуски можно методами `pandas`: `ffill`/ `bfill`/ `interpolate` , это вполне уместно.\\\n",
    "Хочу посоветовать тебе статью, которая рассматривает разные способы обработки пропусков, выделяет их плюсы и минусы, думаю, тебе может быть интересно: https://loginom.ru/blog/missing   "
   ]
  },
  {
   "cell_type": "markdown",
   "metadata": {},
   "source": [
    "## Анализ данных"
   ]
  },
  {
   "cell_type": "markdown",
   "metadata": {},
   "source": [
    "Для выполнения данного раздела необходимо пройти следующие этапы:\n",
    "\n",
    "1. Посмотреть, как меняется концентрация металлов (`Au`, `Ag`, `Pb`) на различных этапах: в сырье, в черновом концентрате, в концентрате после первой очистки и в финальном концентрате. Какие особенности имеют распределения? Описать выводы.\n",
    "2.  Сравнить распределения размеров гранул исходного сырья на обучающей и тестовой выборках. Если распределения сильно отличаются друг от друга, оценка модели будет неправильной.\n",
    "3. Исследовать суммарную концентрацию металлов на разных стадиях: в сырье, в черновом концентрате, в концентрате после первой очистки и в финальном концентрате."
   ]
  },
  {
   "cell_type": "markdown",
   "metadata": {},
   "source": [
    "### Концентрация металлов"
   ]
  },
  {
   "cell_type": "markdown",
   "metadata": {},
   "source": [
    "#### Концентрация золота (`Au`)"
   ]
  },
  {
   "cell_type": "code",
   "execution_count": 22,
   "metadata": {},
   "outputs": [
    {
     "data": {
      "image/png": "[encoded data removed]",
      "text/plain": [
       "<Figure size 1008x576 with 1 Axes>"
      ]
     },
     "metadata": {
      "needs_background": "light"
     },
     "output_type": "display_data"
    }
   ],
   "source": [
    "plt.figure(figsize=[14, 8])\n",
    "plt.hist(df_full['rougher.input.feed_au'], bins=100, label = 'Сырьё', alpha=0.5)\n",
    "plt.hist(df_full['rougher.output.concentrate_au'], bins=100, label = 'Черновой концентрат', alpha=0.5)\n",
    "plt.hist(df_full['primary_cleaner.output.concentrate_au'], bins=100, label = 'Концетрат после 1-ой очистки', alpha=0.5)\n",
    "plt.hist(df_full['final.output.concentrate_au'], bins=100, label = 'Финальный концентрат', alpha=0.5)\n",
    "plt.xlim([0, 55])\n",
    "plt.ylim([0, 1200])\n",
    "plt.xlabel(\"Концентрация на разных этапах\")\n",
    "plt.ylabel(\"Результаты\")\n",
    "plt.legend(loc='upper left', fontsize='x-large')\n",
    "plt.title(\"Концентрация золота\")\n",
    "plt.show()"
   ]
  },
  {
   "cell_type": "markdown",
   "metadata": {},
   "source": [
    "Можно увидеть большое количество нулевых значений, которые необходимо обработать в исходных данных перед работай с моделью."
   ]
  },
  {
   "cell_type": "code",
   "execution_count": 23,
   "metadata": {},
   "outputs": [],
   "source": [
    "df_full = df_full.drop(df_full[df_full['final.output.concentrate_au'] == 0].index)\n",
    "df_full = df_full.drop(df_full[df_full['primary_cleaner.output.concentrate_au'] == 0].index)\n",
    "df_full = df_full.drop(df_full[df_full['rougher.output.concentrate_au'] == 0].index)"
   ]
  },
  {
   "cell_type": "code",
   "execution_count": 24,
   "metadata": {},
   "outputs": [
    {
     "data": {
      "image/png": "[encoded data removed]",
      "text/plain": [
       "<Figure size 1008x576 with 1 Axes>"
      ]
     },
     "metadata": {
      "needs_background": "light"
     },
     "output_type": "display_data"
    }
   ],
   "source": [
    "plt.figure(figsize=[14, 8])\n",
    "plt.hist(df_full['rougher.input.feed_au'], bins=100, label = 'Сырьё', alpha=0.5)\n",
    "plt.hist(df_full['rougher.output.concentrate_au'], bins=100, label = 'Черновой концентрат', alpha=0.5)\n",
    "plt.hist(df_full['primary_cleaner.output.concentrate_au'], bins=100, label = 'Концетрат после 1-ой очистки', alpha=0.5)\n",
    "plt.hist(df_full['final.output.concentrate_au'], bins=100, label = 'Финальный концентрат', alpha=0.5)\n",
    "plt.xlim([0, 55])\n",
    "plt.ylim([0, 1200])\n",
    "plt.xlabel(\"Концентрация на разных этапах\")\n",
    "plt.ylabel(\"Результаты\")\n",
    "plt.legend(loc='upper left', fontsize='x-large')\n",
    "plt.title(\"Концентрация золота\")\n",
    "plt.show()"
   ]
  },
  {
   "cell_type": "markdown",
   "metadata": {},
   "source": [
    "__Вывод:__ по полученной гистограмме распределения можно сделать вывод, что концентарция золота растёт с каждым этапом технологического процесса."
   ]
  },
  {
   "cell_type": "markdown",
   "metadata": {},
   "source": [
    "<div class=\"alert alert-success\">\n",
    "<h2> Комментарий ревьюера <a class=\"tocSkip\"> </h2>\n",
    "\n",
    "<b>Верно!👍:\\\n",
    "</b> Видно, что золото растёт в концентрации - это здорово!) А серебро падает - ведь наша цель -  золото, верно?)\n",
    "А свинец - это побочный элемент химических реакций, по этой причине немного и увеличивается его концентрация"
   ]
  },
  {
   "cell_type": "markdown",
   "metadata": {},
   "source": [
    "#### Концентрация серебра (`Ag`)"
   ]
  },
  {
   "cell_type": "code",
   "execution_count": 25,
   "metadata": {},
   "outputs": [
    {
     "data": {
      "image/png": "[encoded data removed]",
      "text/plain": [
       "<Figure size 1008x576 with 1 Axes>"
      ]
     },
     "metadata": {
      "needs_background": "light"
     },
     "output_type": "display_data"
    }
   ],
   "source": [
    "plt.figure(figsize=[14, 8])\n",
    "plt.hist(df_full['rougher.input.feed_ag'], bins=100, label = 'Сырьё', alpha=0.5)\n",
    "plt.hist(df_full['rougher.output.concentrate_ag'], bins=100, label = 'Черновой концентрат', alpha=0.5)\n",
    "plt.hist(df_full['primary_cleaner.output.concentrate_ag'], bins=100, label = 'Концетрат после 1-ой очистки', alpha=0.5)\n",
    "plt.hist(df_full['final.output.concentrate_ag'], bins=100, label = 'Финальный концентрат', alpha=0.5)\n",
    "plt.xlim([0, 25])\n",
    "plt.ylim([0, 1000])\n",
    "plt.xlabel(\"Концентрация на разных этапах\")\n",
    "plt.ylabel(\"Результаты\")\n",
    "plt.legend(loc='upper left', fontsize='x-large')\n",
    "plt.title(\"Концентрация серебра\")\n",
    "plt.show()"
   ]
  },
  {
   "cell_type": "markdown",
   "metadata": {},
   "source": [
    "__Вывод:__ по гистограмме распределеия можно сделать вывод, что концентрация серебра понижается с каждым этапом технологического процесса. Скорее всего это связано с тем, что серебро проходит индивидуальный тех. процесс после отделения от сплава."
   ]
  },
  {
   "cell_type": "markdown",
   "metadata": {},
   "source": [
    "<div class=\"alert alert-success\">\n",
    "<h2> Комментарий ревьюера <a class=\"tocSkip\"> </h2>\n",
    "\n",
    "<b>Верно!👍:\\\n",
    "</b> Видно, что золото растёт в концентрации - это здорово!) А серебро падает - ведь наша цель -  золото, верно?)\n",
    "А свинец - это побочный элемент химических реакций, по этой причине немного и увеличивается его концентрация"
   ]
  },
  {
   "cell_type": "markdown",
   "metadata": {},
   "source": [
    "#### Концентрация свинца (`Pb`)"
   ]
  },
  {
   "cell_type": "code",
   "execution_count": 26,
   "metadata": {},
   "outputs": [
    {
     "data": {
      "image/png": "[encoded data removed]",
      "text/plain": [
       "<Figure size 1008x576 with 1 Axes>"
      ]
     },
     "metadata": {
      "needs_background": "light"
     },
     "output_type": "display_data"
    }
   ],
   "source": [
    "plt.figure(figsize=[14, 8])\n",
    "plt.hist(df_full['rougher.input.feed_pb'], bins=100, label = 'Сырьё', alpha=0.5)\n",
    "plt.hist(df_full['rougher.output.concentrate_pb'], bins=100, label = 'Черновой концентрат', alpha=0.5)\n",
    "plt.hist(df_full['primary_cleaner.output.concentrate_pb'], bins=100, label = 'Концетрат после 1-ой очистки', alpha=0.5)\n",
    "plt.hist(df_full['final.output.concentrate_pb'], bins=100, label = 'Финальный концентрат', alpha=0.5)\n",
    "plt.xlim([0, 25])\n",
    "plt.ylim([0, 1000])\n",
    "plt.xlabel(\"Концентрация на разных этапах\")\n",
    "plt.ylabel(\"Результаты\")\n",
    "plt.legend(loc='upper left', fontsize='x-large')\n",
    "plt.title(\"Концентрация свинца\")\n",
    "plt.show()"
   ]
  },
  {
   "cell_type": "markdown",
   "metadata": {},
   "source": [
    "__Вывод:__ по гистограмме распределения можно сделать вывод, что концентрация свинца меняется с каждым этапом технологического процесса, но нельзя сказать точно: в большую, или меньшую сторону."
   ]
  },
  {
   "cell_type": "markdown",
   "metadata": {},
   "source": [
    "<div class=\"alert alert-success\">\n",
    "<h2> Комментарий ревьюера <a class=\"tocSkip\"> </h2>\n",
    "\n",
    "<b>Верно!👍:\\\n",
    "</b> Видно, что золото растёт в концентрации - это здорово!) А серебро падает - ведь наша цель -  золото, верно?)\n",
    "А свинец - это побочный элемент химических реакций, по этой причине немного и увеличивается его концентрация"
   ]
  },
  {
   "cell_type": "markdown",
   "metadata": {},
   "source": [
    "### Распределение размеров гранул исходного сырья"
   ]
  },
  {
   "cell_type": "code",
   "execution_count": 27,
   "metadata": {},
   "outputs": [
    {
     "data": {
      "image/png": "[encoded data removed]",
      "text/plain": [
       "<Figure size 1008x576 with 1 Axes>"
      ]
     },
     "metadata": {
      "needs_background": "light"
     },
     "output_type": "display_data"
    }
   ],
   "source": [
    "plt.figure(figsize=[14, 8])\n",
    "sns.kdeplot (df_train['rougher.input.feed_size'], color='blue', fill=True, alpha=0.5) \n",
    "sns.kdeplot (df_test['rougher.input.feed_size'], color='orange', fill=True, alpha=0.5) \n",
    "plt.xlim([0, 200])\n",
    "plt.xlabel(\"Размер гранул сырья\")\n",
    "plt.ylabel(\"Результаты\")\n",
    "plt.title(\"Гранулы сырья перед флотацией\")\n",
    "plt.show()"
   ]
  },
  {
   "cell_type": "markdown",
   "metadata": {},
   "source": [
    "__Вывод:__ по графику плотности можно сделать вывод, что распределение размеров на обучающей и тестовой выборках практически совпадают, таким образом, тестовую выборку можно считать репрезентативной."
   ]
  },
  {
   "cell_type": "markdown",
   "metadata": {},
   "source": [
    " <br/>\n",
    "<div class=\"alert alert-block alert-danger\">\n",
    "<h2> Комментарий ревьюера <a class=\"tocSkip\"></h2>\n",
    "    \n",
    "<b>На доработку🤔:</b>\n",
    "\n",
    "Распределения примерно одинаковы. Для сравнения распределений выборок с разным размером лучше использовать графики плотности или kde вместо гистограмм частотности (по оси У доля относительно датасета вместо абсолютного количества). Наличие либо отсутствие разницы будет более очевидным.  Рекомендую тебе нормализовать гистограммы, например используя метод `sns.kdeplot`"
   ]
  },
  {
   "cell_type": "markdown",
   "metadata": {},
   "source": [
    "<div class=\"alert alert-success\">\n",
    "<h2> Комментарий ревьюера 2 <a class=\"tocSkip\"> </h2>\n",
    "\n",
    "<b>Все отлично!👍:</b>"
   ]
  },
  {
   "cell_type": "markdown",
   "metadata": {},
   "source": [
    "### Суммарная концентрация металлов"
   ]
  },
  {
   "cell_type": "markdown",
   "metadata": {},
   "source": [
    "#### Суммарная концентрация металлов в исходном сырье"
   ]
  },
  {
   "cell_type": "code",
   "execution_count": 28,
   "metadata": {},
   "outputs": [],
   "source": [
    "sum_rougher_input_concentration = (df_full['rougher.input.feed_au']+\n",
    "                                  df_full['rougher.input.feed_ag']+\n",
    "                                  df_full['rougher.input.feed_pb']+\n",
    "                                  df_full['rougher.input.feed_sol'])"
   ]
  },
  {
   "cell_type": "markdown",
   "metadata": {},
   "source": [
    "#### Суммарная концентрация металлов в черновом концентрате"
   ]
  },
  {
   "cell_type": "code",
   "execution_count": 29,
   "metadata": {},
   "outputs": [],
   "source": [
    "sum_rougher_output_concentration = (df_full['rougher.output.concentrate_au']+ \n",
    "                                   df_full['rougher.output.concentrate_ag']+ \n",
    "                                   df_full['rougher.output.concentrate_pb']+\n",
    "                                   df_full['rougher.output.concentrate_sol'])"
   ]
  },
  {
   "cell_type": "markdown",
   "metadata": {},
   "source": [
    "#### Суммарная концентрация металлов в концентрате после первой очистки"
   ]
  },
  {
   "cell_type": "code",
   "execution_count": 30,
   "metadata": {},
   "outputs": [],
   "source": [
    "sum_primary_cleaner_output_concentration = (df_full['primary_cleaner.output.concentrate_au']+ \n",
    "                                           df_full['primary_cleaner.output.concentrate_ag']+ \n",
    "                                           df_full['primary_cleaner.output.concentrate_pb']+\n",
    "                                           df_full['primary_cleaner.output.concentrate_sol'])"
   ]
  },
  {
   "cell_type": "markdown",
   "metadata": {},
   "source": [
    "#### Суммарная концентрация металлов  в финальном концентрате"
   ]
  },
  {
   "cell_type": "code",
   "execution_count": 31,
   "metadata": {},
   "outputs": [],
   "source": [
    "sum_final_output_concentration = (df_full['final.output.concentrate_au']+ \n",
    "                                 df_full['final.output.concentrate_ag']+ \n",
    "                                 df_full['final.output.concentrate_pb']+\n",
    "                                 df_full['final.output.concentrate_sol'])"
   ]
  },
  {
   "cell_type": "code",
   "execution_count": 32,
   "metadata": {},
   "outputs": [
    {
     "data": {
      "image/png": "[encoded data removed]",
      "text/plain": [
       "<Figure size 1008x576 with 1 Axes>"
      ]
     },
     "metadata": {
      "needs_background": "light"
     },
     "output_type": "display_data"
    }
   ],
   "source": [
    "plt.figure(figsize=[14,8])\n",
    "plt.hist(sum_rougher_input_concentration, bins=100, label = 'Сырьё', alpha=0.5)\n",
    "plt.hist(sum_rougher_output_concentration, bins=100, label = 'Черновой концентрат', alpha=0.5)\n",
    "plt.hist(sum_primary_cleaner_output_concentration, bins=100, label = 'Концентрат после 1-ой очистки', alpha=0.5)\n",
    "plt.hist(sum_final_output_concentration, bins=100, label = 'Финальный концентрат', alpha=0.5)\n",
    "plt.xlim([0, 100])\n",
    "plt.ylim([0, 1500])\n",
    "plt.xlabel(\"Суммарная концентраця\")\n",
    "plt.ylabel(\"Результаты\")\n",
    "plt.legend(loc='upper left', fontsize='x-large')\n",
    "plt.title(\"Концентрация на разных этапах технологического процесса\")\n",
    "plt.show()"
   ]
  },
  {
   "cell_type": "markdown",
   "metadata": {},
   "source": [
    "__Вывод:__ суммарная концентрация металлов стабильно повышается до этапа получения финального концентрата."
   ]
  },
  {
   "cell_type": "markdown",
   "metadata": {},
   "source": [
    "Перед обучением моделей также очистил обучающую выборку от нулевых значений."
   ]
  },
  {
   "cell_type": "code",
   "execution_count": 33,
   "metadata": {},
   "outputs": [],
   "source": [
    "df_train = df_train.drop(df_train[df_train['final.output.concentrate_au'] == 0].index)\n",
    "df_train = df_train.drop(df_train[df_train['primary_cleaner.output.concentrate_au'] == 0].index)\n",
    "df_train = df_train.drop(df_train[df_train['rougher.output.concentrate_au'] == 0].index)"
   ]
  },
  {
   "cell_type": "markdown",
   "metadata": {},
   "source": [
    "### Вывод по разделу:\n",
    "\n",
    "1. Концентарция золота растёт с каждым этапом технологического процесса.\n",
    "2. Концентрация серебра понижается с каждым этапом технологического процесса. Скорее всего, это связано с тем, что серебро проходит индивидуальный тех. процесс после отделения от сплава.\n",
    "3. Концентрация свинца меняется с каждым этапом технологического процесса, но нельзя сказать точно: в большую, или меньшую сторону. Аналогично серебру, это, может быть, связано с индивидуальным тех. процессом после отделения от сплава.\n",
    "4. Распределение размеров на обучающей и тестовой выборках практически совпадают, таким образом, тестовую выборку можно считать репрезентативной.\n",
    "5. Суммарная концентрация металлов стабильно повышается до этапа получения финального концентрата."
   ]
  },
  {
   "cell_type": "markdown",
   "metadata": {},
   "source": [
    "<div class=\"alert alert-success\">\n",
    "<h2> Комментарий ревьюера <a class=\"tocSkip\"> </h2>\n",
    "\n",
    "<b>Все отлично!👍:</b> \n",
    "Замечательно, суммарную концентрацию всех веществ на разных стадиях исследовали и нашли аномалии.\n",
    " \n",
    "Ведь отдельно по каждому веществу они могут быть (не всегда же есть крупицы золота в руде), а вот суммарно - вряд ли (в руде хоть какие-то элементы, но будут). А если мы имеем ноль, значит большая вероятность неточности в измерениях.\n",
    "    \n",
    "Обучающую выборку нужно очистить от таких аномалий\n"
   ]
  },
  {
   "cell_type": "markdown",
   "metadata": {},
   "source": [
    "## Модель"
   ]
  },
  {
   "cell_type": "markdown",
   "metadata": {},
   "source": [
    "Для выполнения данного раздела необходимо пройти следующие этапы:\n",
    "\n",
    "1. Написать функцию для вычисления итоговой `sMAPE`.\n",
    "2. Обучить разные модели и оценить их качество кросс-валидацией. Выберать лучшую модель и проверить её на тестовой выборке. Описать выводы."
   ]
  },
  {
   "cell_type": "markdown",
   "metadata": {},
   "source": [
    "### Написание функций для `sMAPE`"
   ]
  },
  {
   "attachments": {
    "smape_1576239058.jpg": {
     "image/jpeg": "[encoded data removed]"
    }
   },
   "cell_type": "markdown",
   "metadata": {},
   "source": [
    "Метрика __`sMAPE`__ вычисляется так:\n",
    "\n",
    "![smape_1576239058.jpg](attachment:smape_1576239058.jpg)\n",
    "\n",
    "Нужно спрогнозировать сразу две величины:\n",
    "1. Эффективность обогащения чернового концентрата `rougher.output.recovery`;\n",
    "2. Эффективность обогащения финального концентрата `final.output.recovery`."
   ]
  },
  {
   "cell_type": "code",
   "execution_count": 34,
   "metadata": {},
   "outputs": [],
   "source": [
    "def sMAPE(target, prediction):\n",
    "    smape = np.mean(abs(target - prediction)/((abs(target)+abs(prediction))/2))*100\n",
    "    return smape"
   ]
  },
  {
   "attachments": {
    "_smape_1576239054.jpg": {
     "image/jpeg": "[encoded data removed]"
    }
   },
   "cell_type": "markdown",
   "metadata": {},
   "source": [
    "Итоговая метрика __`sMAPE`__ складывается из двух величин:\n",
    "\n",
    "![_smape_1576239054.jpg](attachment:_smape_1576239054.jpg)"
   ]
  },
  {
   "cell_type": "code",
   "execution_count": 35,
   "metadata": {},
   "outputs": [],
   "source": [
    "def total_sMAPE(rougher, final):\n",
    "    total_smape = (0.25*rougher + 0.75*final)\n",
    "    return total_smape"
   ]
  },
  {
   "cell_type": "markdown",
   "metadata": {},
   "source": [
    "<div class=\"alert alert-success\">\n",
    "<h2> Комментарий ревьюера <a class=\"tocSkip\"> </h2>\n",
    "\n",
    "<b>Все отлично!👍:</b> \n",
    "\n",
    "Функция правильная)"
   ]
  },
  {
   "cell_type": "markdown",
   "metadata": {},
   "source": [
    "Задал счетчик функций с параметром `greater_is_better=False`."
   ]
  },
  {
   "cell_type": "code",
   "execution_count": 36,
   "metadata": {},
   "outputs": [],
   "source": [
    "scorer = make_scorer(sMAPE, greater_is_better=False)"
   ]
  },
  {
   "cell_type": "markdown",
   "metadata": {},
   "source": [
    "### Обучение моделей и выбор лучшей"
   ]
  },
  {
   "cell_type": "markdown",
   "metadata": {},
   "source": [
    "Для обучения моделей необходимо разбить выборки на `features` и `targets`, с учётом того, что необходимо спрогнозировать сразу две величны `rougher.output.recovery` и `final.output.recovery`."
   ]
  },
  {
   "cell_type": "code",
   "execution_count": 37,
   "metadata": {},
   "outputs": [],
   "source": [
    "features = df_test.columns[1:]\n",
    "features_rougher = set(features[:22])\n",
    "features_final = set(features)\n",
    "train_features_final = df_train.drop((set(df_train.columns) - features_final), axis=1)\n",
    "train_features_rougher = train_features_final.drop((set(train_features_final.columns) - features_rougher), axis=1)"
   ]
  },
  {
   "cell_type": "code",
   "execution_count": 38,
   "metadata": {},
   "outputs": [],
   "source": [
    "train_target_rougher = df_train['rougher.output.recovery']\n",
    "train_target_final = df_train['final.output.recovery']"
   ]
  },
  {
   "cell_type": "markdown",
   "metadata": {},
   "source": [
    "#### Модель RandomForestClassifier (\"случайный лес\")"
   ]
  },
  {
   "cell_type": "code",
   "execution_count": 39,
   "metadata": {},
   "outputs": [],
   "source": [
    "param_RR = {'max_depth': range (1, 11), 'n_estimators': range(1, 62, 20)}"
   ]
  },
  {
   "cell_type": "code",
   "execution_count": 40,
   "metadata": {},
   "outputs": [],
   "source": [
    "model_RR = RandomForestRegressor()\n",
    "rougher_RR = GridSearchCV(model_RR, param_grid = param_RR, scoring = scorer, cv = 5, n_jobs = -1)\n",
    "final_RR = GridSearchCV(model_RR, param_grid = param_RR, scoring = scorer, cv = 5, n_jobs = -1)"
   ]
  },
  {
   "cell_type": "code",
   "execution_count": 41,
   "metadata": {},
   "outputs": [
    {
     "data": {
      "text/plain": [
       "GridSearchCV(cv=5, estimator=RandomForestRegressor(), n_jobs=-1,\n",
       "             param_grid={'max_depth': range(1, 11),\n",
       "                         'n_estimators': range(1, 62, 20)},\n",
       "             scoring=make_scorer(sMAPE, greater_is_better=False))"
      ]
     },
     "execution_count": 41,
     "metadata": {},
     "output_type": "execute_result"
    }
   ],
   "source": [
    "rougher_RR.fit(train_features_rougher, train_target_rougher)\n",
    "final_RR.fit(train_features_final, train_target_final)"
   ]
  },
  {
   "cell_type": "code",
   "execution_count": 42,
   "metadata": {},
   "outputs": [
    {
     "name": "stdout",
     "output_type": "stream",
     "text": [
      "Лучшие параметры модели для rougher_RR: RandomForestRegressor(max_depth=3, n_estimators=61)\n",
      "Лучшие значение rougher_RR: -6.137714256038862\n",
      "\n",
      "Лучшие параметры модели для final_RR: RandomForestRegressor(max_depth=2, n_estimators=41)\n",
      "Лучшие значение final_RR: -8.853364414166418\n",
      "\n",
      "Итоговый sMAPE: -8.174451874634528\n"
     ]
    }
   ],
   "source": [
    "print('Лучшие параметры модели для rougher_RR:', rougher_RR.best_estimator_)\n",
    "print('Лучшие значение rougher_RR:', rougher_RR.best_score_)\n",
    "print('\\nЛучшие параметры модели для final_RR:', final_RR.best_estimator_)\n",
    "print('Лучшие значение final_RR:', final_RR.best_score_)\n",
    "print('\\nИтоговый sMAPE:', total_sMAPE(rougher_RR.best_score_,final_RR.best_score_))"
   ]
  },
  {
   "cell_type": "markdown",
   "metadata": {},
   "source": [
    "#### Модель DecisionTreeClassifier (\"решающее дерево\")"
   ]
  },
  {
   "cell_type": "code",
   "execution_count": 43,
   "metadata": {},
   "outputs": [],
   "source": [
    "param_DT = {'max_depth': range (1, 11), 'min_samples_split': range(2, 11)}"
   ]
  },
  {
   "cell_type": "code",
   "execution_count": 44,
   "metadata": {},
   "outputs": [],
   "source": [
    "model_DT = DecisionTreeRegressor()\n",
    "rougher_DT = GridSearchCV(model_DT, param_grid = param_DT, scoring = scorer, cv = 5, n_jobs = -1)\n",
    "final_DT = GridSearchCV(model_DT, param_grid = param_DT, scoring = scorer, cv = 5, n_jobs = -1)"
   ]
  },
  {
   "cell_type": "code",
   "execution_count": 45,
   "metadata": {},
   "outputs": [
    {
     "data": {
      "text/plain": [
       "GridSearchCV(cv=5, estimator=DecisionTreeRegressor(), n_jobs=-1,\n",
       "             param_grid={'max_depth': range(1, 11),\n",
       "                         'min_samples_split': range(2, 11)},\n",
       "             scoring=make_scorer(sMAPE, greater_is_better=False))"
      ]
     },
     "execution_count": 45,
     "metadata": {},
     "output_type": "execute_result"
    }
   ],
   "source": [
    "rougher_DT.fit(train_features_rougher, train_target_rougher)\n",
    "final_DT.fit(train_features_final, train_target_final)"
   ]
  },
  {
   "cell_type": "code",
   "execution_count": 46,
   "metadata": {},
   "outputs": [
    {
     "name": "stdout",
     "output_type": "stream",
     "text": [
      "Лучшие параметры модели для rougher_DT: DecisionTreeRegressor(max_depth=2, min_samples_split=3)\n",
      "Лучшие значение rougher_DT: -6.360897048307865\n",
      "\n",
      "Лучшие параметры модели для final_DT: DecisionTreeRegressor(max_depth=3, min_samples_split=4)\n",
      "Лучшие значение final_DT: -9.151524513510996\n",
      "\n",
      "Итоговый sMAPE: -8.453867647210213\n"
     ]
    }
   ],
   "source": [
    "print('Лучшие параметры модели для rougher_DT:', rougher_DT.best_estimator_)\n",
    "print('Лучшие значение rougher_DT:', rougher_DT.best_score_)\n",
    "print('\\nЛучшие параметры модели для final_DT:', final_DT.best_estimator_)\n",
    "print('Лучшие значение final_DT:', final_DT.best_score_)\n",
    "print('\\nИтоговый sMAPE:', total_sMAPE(rougher_DT.best_score_,final_DT.best_score_))"
   ]
  },
  {
   "cell_type": "markdown",
   "metadata": {},
   "source": [
    "#### Модель LinearRegression (\"линейная регрессия\")"
   ]
  },
  {
   "cell_type": "code",
   "execution_count": 47,
   "metadata": {},
   "outputs": [],
   "source": [
    "param_LR = {'fit_intercept':[True,False], 'normalize':[True,False]}"
   ]
  },
  {
   "cell_type": "code",
   "execution_count": 48,
   "metadata": {},
   "outputs": [],
   "source": [
    "model_LR = LinearRegression()\n",
    "rougher_LR = GridSearchCV(model_LR, param_grid = param_LR, scoring = scorer, cv = 5, n_jobs = -1)\n",
    "final_LR = GridSearchCV(model_LR, param_grid = param_LR, scoring = scorer, cv = 5, n_jobs = -1)"
   ]
  },
  {
   "cell_type": "code",
   "execution_count": 49,
   "metadata": {},
   "outputs": [
    {
     "data": {
      "text/plain": [
       "GridSearchCV(cv=5, estimator=LinearRegression(), n_jobs=-1,\n",
       "             param_grid={'fit_intercept': [True, False],\n",
       "                         'normalize': [True, False]},\n",
       "             scoring=make_scorer(sMAPE, greater_is_better=False))"
      ]
     },
     "execution_count": 49,
     "metadata": {},
     "output_type": "execute_result"
    }
   ],
   "source": [
    "rougher_LR.fit(train_features_rougher, train_target_rougher)\n",
    "final_LR.fit(train_features_final, train_target_final)"
   ]
  },
  {
   "cell_type": "code",
   "execution_count": 50,
   "metadata": {},
   "outputs": [
    {
     "name": "stdout",
     "output_type": "stream",
     "text": [
      "Лучшие параметры модели для rougher_LR: LinearRegression(normalize=True)\n",
      "Лучшие значение rougher_LR: -6.538962862995348\n",
      "\n",
      "Лучшие параметры модели для final_LR: LinearRegression(fit_intercept=False, normalize=True)\n",
      "Лучшие значение final_LR: -9.442047023272275\n",
      "\n",
      "Итоговый sMAPE: -8.716275983203044\n"
     ]
    }
   ],
   "source": [
    "print('Лучшие параметры модели для rougher_LR:', rougher_LR.best_estimator_)\n",
    "print('Лучшие значение rougher_LR:', rougher_LR.best_score_)\n",
    "print('\\nЛучшие параметры модели для final_LR:', final_LR.best_estimator_)\n",
    "print('Лучшие значение final_LR:', final_LR.best_score_)\n",
    "print('\\nИтоговый sMAPE:', total_sMAPE(rougher_LR.best_score_,final_LR.best_score_))"
   ]
  },
  {
   "cell_type": "markdown",
   "metadata": {},
   "source": [
    "__Вывод:__ наилучший результат расчета __итогового sMAPE__ в `8.15 %` показала модель `RandomForestClassifier()` со следующими параметрами: `max_depth = 2`, `n_estimators = 41`."
   ]
  },
  {
   "cell_type": "markdown",
   "metadata": {},
   "source": [
    "<div class=\"alert alert-success\">\n",
    "<h2> Комментарий ревьюера <a class=\"tocSkip\"> </h2>\n",
    "\n",
    "<b>Все отлично!👍:</b> \n",
    "        \n",
    "Лучшую модель определили, хорошо)"
   ]
  },
  {
   "cell_type": "markdown",
   "metadata": {},
   "source": [
    "### Проверка модели на тестовой выборке"
   ]
  },
  {
   "cell_type": "markdown",
   "metadata": {},
   "source": [
    "Далее необходимо подготовить тестовую выборку для предсказания на ней. Выделил `features` для двух величин."
   ]
  },
  {
   "cell_type": "code",
   "execution_count": 51,
   "metadata": {},
   "outputs": [],
   "source": [
    "test_features = df_test.drop('date', axis=1)\n",
    "test_features_final = test_features\n",
    "test_features_rougher = test_features_final.drop((set(test_features_final.columns) - set(features[:22])), axis=1)"
   ]
  },
  {
   "cell_type": "markdown",
   "metadata": {},
   "source": [
    "В тестовой выборке отсутствуют необходимые целевые признаки:\n",
    "\n",
    "1. `rougher.output.recovery` \n",
    "2. `final.output.recovery`\n",
    "\n",
    "Добавлю их в `df_test`, объединив с `df_full` по признаку `date`."
   ]
  },
  {
   "cell_type": "code",
   "execution_count": 52,
   "metadata": {},
   "outputs": [],
   "source": [
    "targets = df_full[['date','rougher.output.recovery','final.output.recovery']]\n",
    "df_test = df_test.merge(targets,on=['date'],how='left')"
   ]
  },
  {
   "cell_type": "markdown",
   "metadata": {},
   "source": [
    "<div class=\"alert alert-success\">\n",
    "<h2> Комментарий ревьюера <a class=\"tocSkip\"> </h2>\n",
    "\n",
    "<b>Все отлично!👍:</b> \n",
    "    \n",
    "Вытягивание целевых признаков в тестовую выборку правильное) Привязка к дате - верное решение"
   ]
  },
  {
   "cell_type": "markdown",
   "metadata": {},
   "source": [
    "Выделил `targets` для двух величин."
   ]
  },
  {
   "cell_type": "code",
   "execution_count": 53,
   "metadata": {},
   "outputs": [],
   "source": [
    "test_target_rougher = df_test['rougher.output.recovery']\n",
    "test_target_final = df_test['final.output.recovery']"
   ]
  },
  {
   "cell_type": "markdown",
   "metadata": {},
   "source": [
    "Проверим модель `RandomForestClassifier()` на тестовой выборке."
   ]
  },
  {
   "cell_type": "code",
   "execution_count": 54,
   "metadata": {},
   "outputs": [
    {
     "name": "stdout",
     "output_type": "stream",
     "text": [
      "Итоговый sMAPE для тестовой выборки: 7.445390069380684\n"
     ]
    }
   ],
   "source": [
    "test_rogher = rougher_RR.predict(test_features_rougher)\n",
    "test_final = final_RR.predict(test_features_final)\n",
    "print('Итоговый sMAPE для тестовой выборки:', total_sMAPE(sMAPE(test_target_rougher, test_rogher), sMAPE(test_target_final, test_final)))"
   ]
  },
  {
   "cell_type": "markdown",
   "metadata": {},
   "source": [
    "<div class=\"alert alert-success\">\n",
    "<h2> Комментарий ревьюера <a class=\"tocSkip\"> </h2>\n",
    "\n",
    "<b>Все отлично!👍:</b> \n",
    "        \n",
    "Тестирование лучшей модели проведено правильно"
   ]
  },
  {
   "cell_type": "markdown",
   "metadata": {},
   "source": [
    "### Сравнение полученной модели с константной моделью"
   ]
  },
  {
   "cell_type": "code",
   "execution_count": 55,
   "metadata": {},
   "outputs": [],
   "source": [
    "from sklearn.dummy import DummyRegressor"
   ]
  },
  {
   "cell_type": "code",
   "execution_count": 56,
   "metadata": {},
   "outputs": [
    {
     "name": "stdout",
     "output_type": "stream",
     "text": [
      "sMAPE для smape_dummy_rougher 6.108333121374752\n"
     ]
    }
   ],
   "source": [
    "dummy_rougher = DummyRegressor(strategy='mean')\n",
    "dummy_rougher.fit(train_features_rougher, train_target_rougher)\n",
    "dummy_rougher_pred = dummy_rougher.predict(test_rogher)\n",
    "smape_dummy_rougher = sMAPE(test_target_rougher, dummy_rougher_pred)\n",
    "print('sMAPE для smape_dummy_rougher', smape_dummy_rougher)"
   ]
  },
  {
   "cell_type": "code",
   "execution_count": 57,
   "metadata": {},
   "outputs": [
    {
     "name": "stdout",
     "output_type": "stream",
     "text": [
      "sMAPE для smape_dummy_final 9.26075329463676\n"
     ]
    }
   ],
   "source": [
    "dummy_final = DummyRegressor(strategy='mean')\n",
    "dummy_final.fit(train_features_final, train_target_final)\n",
    "dummy_final_pred = dummy_final.predict(test_final)\n",
    "smape_dummy_final = sMAPE(test_target_final, dummy_final_pred)\n",
    "print('sMAPE для smape_dummy_final', smape_dummy_final)"
   ]
  },
  {
   "cell_type": "code",
   "execution_count": 58,
   "metadata": {},
   "outputs": [
    {
     "name": "stdout",
     "output_type": "stream",
     "text": [
      "\n",
      "Итоговый sMAPE для константной модели: 8.472648251321258\n"
     ]
    }
   ],
   "source": [
    "total_smape_dummy = total_sMAPE(smape_dummy_rougher, smape_dummy_final)\n",
    "print('\\nИтоговый sMAPE для константной модели:', total_smape_dummy)"
   ]
  },
  {
   "cell_type": "markdown",
   "metadata": {},
   "source": [
    "__Вывод:__ итоговый `sMAPE` для тестовой и константной выборки отличается на `1,03 %`, можно сказать о хорошем качестве полученной модели."
   ]
  },
  {
   "cell_type": "markdown",
   "metadata": {},
   "source": [
    "<br/>\n",
    "<div class=\"alert alert-block alert-danger\">\n",
    "<h2> Комментарий ревьюера <a class=\"tocSkip\"></h2>\n",
    "    \n",
    "<b>На доработку🤔:</b>\n",
    "    \n",
    "В каждом проекте при оценке качества модели, имеет смысл сравнивать ее с константной моделью (к примеру, которая предсказывает медиану по таргету). И в наш проект важно добавить это сравнение.  Создавать константные модели можно либо вручную, либо воспользоваться готовым алгоритмом <a href='https://scikit-learn.org/stable/modules/generated/sklearn.dummy.DummyRegressor.html'>DummyRegressor</a> из пакета `sklearn`. "
   ]
  },
  {
   "cell_type": "markdown",
   "metadata": {},
   "source": [
    "<div class=\"alert alert-success\">\n",
    "<h2> Комментарий ревьюера 2 <a class=\"tocSkip\"> </h2>\n",
    "\n",
    "<b>Все отлично!👍:</b>"
   ]
  },
  {
   "cell_type": "markdown",
   "metadata": {},
   "source": [
    "## Общий вывод"
   ]
  },
  {
   "cell_type": "markdown",
   "metadata": {},
   "source": [
    "Данный проект посвящен подготовке прототипа модели машинного обучения для «Цифры», которая должна предсказать коэффициент восстановления золота из золотосодержащей руды. Используйте данные с параметрами добычи и очистки.\n",
    "\n",
    "На этапе __подготовки данных__ были выполнены следующие пункты:\n",
    "\n",
    "1. Значение средней абсолютной ошибки (`MAE`), рассчитаное на основе формулы эффективности обогащения, очень мало, поэтому можно утверждать, что расчеты по эффективности - верны.\n",
    "2. Данные проверены на наличие дубликатов, пропуски в обеих выборках заполнены предществующими значениями.\n",
    "\n",
    "На этапе __анализа данных__ были сделаны следующие выводы:\n",
    "\n",
    "1. Концентарция золота растёт с каждым этапом технологического процесса.\n",
    "2. Концентрация серебра понижается с каждым этапом технологического процесса. Скорее всего, это связано с тем, что серебро проходит индивидуальный тех. процесс после отделения от сплава.\n",
    "3. Концентрация свинца меняется с каждым этапом технологического процесса, но нельзя сказать точно: в большую, или меньшую сторону. Аналогично серебру, это, может быть, связано с индивидуальным тех. процессом после отделения от сплава.\n",
    "4. Распределение размеров на обучающей и тестовой выборках практически совпадают, таким образом, тестовую выборку можно считать репрезентативной.\n",
    "5. Суммарная концентрация металлов стабильно повышается до этапа получения финального концентрата.\n",
    "\n",
    "Последний этап __обучения и тестирования моделей__ содержит следующие пункты:\n",
    "\n",
    "1. Обучение моделей и выбор наилучшей.\n",
    "2. Проверка лучшей модели на тестовой выборке\n",
    "\n",
    "Наилучший результат расчета __итогового sMAPE__ в `8.15 %` показала модель `RandomForestClassifier()` со следующими параметрами: `max_depth = 2`, `n_estimators = 41`.\n",
    "\n",
    "После проверки данной модели на тестовой выборке получил __итоговый sMAPE__, равный `7.4 %`.\n",
    "\n",
    "Итоговый `sMAPE` для тестовой и константной выборки отличаются на `1,03 %`, можно сказать о хорошем качестве полученной модели."
   ]
  },
  {
   "cell_type": "markdown",
   "metadata": {},
   "source": [
    "<div style=\"border:solid Chocolate 2px; padding: 40px\">\n",
    "\n",
    "\n",
    "<h2> Итоговый комментарий ревьюера <a class=\"tocSkip\"> </h2>    \n",
    "    \n",
    "  \n",
    "У меня сложилось хорошее общее впечатление о проекте, тебе удалось неплохо справиться с таким объемным и сложным проектом. Молодец! Подготовлены данные для анализа, изучен каждый параметр. Все красиво визуализировано, построено несколько моделей регрессии и оценено их качество. Осмысленная аналитика и дельная модельная работа - многое удалось как надо)\n",
    "    \n",
    "Отмечу отдельные положительные моменты проекта🙂:\n",
    "    \n",
    "- в ходе проекта встречались функции, помогающие избавиться от дублирования кода;\n",
    "- много красивых визуализаций в проекте и хорошая интерпретация;\n",
    "- при обучении моделей использована кросс-валидация и поиск гиперпараметров.\n",
    "    \n",
    "Есть несколько моментов всего, на которые стоит ещё раз взглянуть, их я обзначил тебе в комментариях по ходу проекта. Предлагаю тебе доработать проект по моим комментариям, чтобы довести его до совершенства.\n",
    "\n",
    " \n",
    "</div>"
   ]
  },
  {
   "cell_type": "markdown",
   "metadata": {},
   "source": [
    "<div style=\"border:solid Chocolate 2px; padding: 40px\">\n",
    "\n",
    "\n",
    "<h2> Итоговый комментарий ревьюера v.2 <a class=\"tocSkip\"> </h2>    \n",
    "    \n",
    "     \n",
    "  \n",
    "Теперь почти идеально. Принимаю работу)\n",
    "    \n",
    "Если хочешь лучше разобраться в ML, то могу посоветовать тебе: \n",
    "    \n",
    "- Открытый курс машинного обучения: https://habr.com/ru/company/ods/blog/322626/   \n",
    "    \n",
    "- Книжка от ШАД: https://academy.yandex.ru/handbook/ml/\n",
    "    \n",
    "- Также рекомендую лекции от Andrew Ng: https://www.youtube.com/watch?v=PPLop4L2eGk&list=PLLssT5z_DsK-h9vYZkQkYNWcItqhlRJLN\n",
    "- Избежать утечки данных при кросс-валидации тебе поможет <a href=\"https://towardsdatascience.com/pipeline-columntransformer-and-featureunion-explained-f5491f815f\">конвеерная обработка данных</a>.     \n",
    "    \n",
    "- Не все признаки приносят пользу при моделировании. Инструмент <a href=\"https://proglib.io/p/feature-selector\">FeatureSelector</a> поможет тебе отобрать важные признаки и избавит от ручной обработки.  Также можешь посмотреть статью на <a href=\"https://www.kaggle.com/code/prashant111/comprehensive-guide-on-feature-selection/notebook\">Kaggle</a> (она сложнее).    \n",
    "    \n",
    "    \n",
    "В этом проекте были отработаны несколько моментов. А самый очевидный: заметно, что разность метрик качества (константной и нашей модели) -  не слишком большая. Такое расхождение метрик допустимо в этом проекте. Что тогда  для дальнейшего улучшения качества моделирования возможно тут пересмотреть?\n",
    "Попробую описать для тебя:\n",
    "1. Качество данных на входе модели машинного обучения: повторно оценить аномалии, пропуски, соответствие законам химии и физики, все ли правдоподобно?\n",
    "2. Работа с моделями машинного обучения:\n",
    "- Создание новых признаков для моделей, Features Engineering: возможно стоит обратиться к технологу производства и ещё раз пробежаться по бизнес-цепочке процесса.\n",
    "- Отбор самих моделей машинного обучения и гиперпараметров.\n",
    "    \n",
    "3. Параметры производственного процесса, к примеру: температура сырья, скорость ленточного конвейера, и.т.п.\n",
    "    \n",
    "\n",
    "Если провести Анализ измерительных систем, или MSA, то можно разобраться в причинах неточности полученных с производства данных. Статистический анализ данных, или SPC, - тоже будет являться незаменимым помощником в решении нашей задачи.\n",
    "    \n",
    "Добавлю здесь, что цель нашего проекта достигнута, а именно пройдены важные этапы подготовки данных и построения модели для производства золота.\n",
    "    \n",
    "Успехов тебе в следующем спринте!\n",
    "    \n",
    "Рад был помочь тебе)\n",
    "    \n",
    "</div>"
   ]
  },
  {
   "cell_type": "markdown",
   "metadata": {},
   "source": [
    "## Чек-лист готовности проекта"
   ]
  },
  {
   "cell_type": "markdown",
   "metadata": {},
   "source": [
    "- [x]  Jupyter Notebook открыт\n",
    "- [x]  Весь код выполняется без ошибок\n",
    "- [x]  Ячейки с кодом расположены в порядке выполнения\n",
    "- [x]  Выполнен шаг 1: данные подготовлены\n",
    "    - [x]  Проверена формула вычисления эффективности обогащения\n",
    "    - [x]  Проанализированы признаки, недоступные в тестовой выборке\n",
    "    - [x]  Проведена предобработка данных\n",
    "- [x]  Выполнен шаг 2: данные проанализированы\n",
    "    - [x]  Исследовано изменение концентрации элементов на каждом этапе\n",
    "    - [x]  Проанализированы распределения размеров гранул на обучающей и тестовой выборках\n",
    "    - [x]  Исследованы суммарные концентрации\n",
    "- [x]  Выполнен шаг 3: построена модель прогнозирования\n",
    "    - [x]  Написана функция для вычисления итогового *sMAPE*\n",
    "    - [x]  Обучено и проверено несколько моделей\n",
    "    - [x]  Выбрана лучшая модель, её качество проверено на тестовой выборке"
   ]
  }
 ],
 "metadata": {
  "ExecuteTimeLog": [
   {
    "duration": 2148,
    "start_time": "2023-05-12T12:23:12.732Z"
   },
   {
    "duration": 3566,
    "start_time": "2023-05-12T12:23:17.100Z"
   },
   {
    "duration": 4027,
    "start_time": "2023-05-12T12:24:19.701Z"
   },
   {
    "duration": 56,
    "start_time": "2023-05-12T12:25:27.696Z"
   },
   {
    "duration": 36,
    "start_time": "2023-05-12T12:25:39.554Z"
   },
   {
    "duration": 29,
    "start_time": "2023-05-12T13:20:16.650Z"
   },
   {
    "duration": 23,
    "start_time": "2023-05-12T13:20:24.759Z"
   },
   {
    "duration": 31,
    "start_time": "2023-05-12T13:20:47.950Z"
   },
   {
    "duration": 29,
    "start_time": "2023-05-12T13:20:50.886Z"
   },
   {
    "duration": 7,
    "start_time": "2023-05-12T14:03:48.124Z"
   },
   {
    "duration": 6,
    "start_time": "2023-05-12T14:03:54.731Z"
   },
   {
    "duration": 30,
    "start_time": "2023-05-12T14:07:51.072Z"
   },
   {
    "duration": 7,
    "start_time": "2023-05-12T14:08:09.488Z"
   },
   {
    "duration": 6,
    "start_time": "2023-05-12T14:08:12.042Z"
   },
   {
    "duration": 28,
    "start_time": "2023-05-12T14:08:23.840Z"
   },
   {
    "duration": 6,
    "start_time": "2023-05-12T14:15:29.313Z"
   },
   {
    "duration": 25,
    "start_time": "2023-05-12T14:15:31.810Z"
   },
   {
    "duration": 6,
    "start_time": "2023-05-12T14:15:33.014Z"
   },
   {
    "duration": 6,
    "start_time": "2023-05-12T14:15:37.337Z"
   },
   {
    "duration": 24,
    "start_time": "2023-05-12T14:15:37.531Z"
   },
   {
    "duration": 6,
    "start_time": "2023-05-12T14:15:37.735Z"
   },
   {
    "duration": 88,
    "start_time": "2023-05-13T05:52:50.926Z"
   },
   {
    "duration": 2217,
    "start_time": "2023-05-13T05:52:55.245Z"
   },
   {
    "duration": 10618,
    "start_time": "2023-05-13T05:52:57.482Z"
   },
   {
    "duration": 64,
    "start_time": "2023-05-13T05:53:08.106Z"
   },
   {
    "duration": 142,
    "start_time": "2023-05-13T05:53:08.179Z"
   },
   {
    "duration": 161,
    "start_time": "2023-05-13T05:53:08.333Z"
   },
   {
    "duration": 145,
    "start_time": "2023-05-13T05:53:08.502Z"
   },
   {
    "duration": 165,
    "start_time": "2023-05-13T05:53:08.653Z"
   },
   {
    "duration": 101,
    "start_time": "2023-05-13T05:53:08.823Z"
   },
   {
    "duration": 98,
    "start_time": "2023-05-13T05:53:08.932Z"
   },
   {
    "duration": 43,
    "start_time": "2023-05-13T05:53:15.507Z"
   },
   {
    "duration": 11,
    "start_time": "2023-05-13T06:02:42.255Z"
   },
   {
    "duration": 1786,
    "start_time": "2023-05-13T06:02:42.268Z"
   },
   {
    "duration": 30,
    "start_time": "2023-05-13T06:02:44.058Z"
   },
   {
    "duration": 186,
    "start_time": "2023-05-13T06:02:44.093Z"
   },
   {
    "duration": 106,
    "start_time": "2023-05-13T06:02:44.286Z"
   },
   {
    "duration": 120,
    "start_time": "2023-05-13T06:02:44.398Z"
   },
   {
    "duration": 139,
    "start_time": "2023-05-13T06:02:44.523Z"
   },
   {
    "duration": 129,
    "start_time": "2023-05-13T06:02:44.669Z"
   },
   {
    "duration": 151,
    "start_time": "2023-05-13T06:02:44.807Z"
   },
   {
    "duration": 150,
    "start_time": "2023-05-13T06:02:44.965Z"
   },
   {
    "duration": 14,
    "start_time": "2023-05-13T06:03:28.004Z"
   },
   {
    "duration": 1475,
    "start_time": "2023-05-13T06:03:28.023Z"
   },
   {
    "duration": 27,
    "start_time": "2023-05-13T06:03:29.499Z"
   },
   {
    "duration": 171,
    "start_time": "2023-05-13T06:03:29.527Z"
   },
   {
    "duration": 176,
    "start_time": "2023-05-13T06:03:29.702Z"
   },
   {
    "duration": 199,
    "start_time": "2023-05-13T06:03:29.883Z"
   },
   {
    "duration": 267,
    "start_time": "2023-05-13T06:03:30.087Z"
   },
   {
    "duration": 183,
    "start_time": "2023-05-13T06:03:30.359Z"
   },
   {
    "duration": 288,
    "start_time": "2023-05-13T06:03:30.554Z"
   },
   {
    "duration": 0,
    "start_time": "2023-05-13T06:03:30.847Z"
   },
   {
    "duration": 8,
    "start_time": "2023-05-13T06:03:46.645Z"
   },
   {
    "duration": 1617,
    "start_time": "2023-05-13T06:03:46.657Z"
   },
   {
    "duration": 28,
    "start_time": "2023-05-13T06:03:48.280Z"
   },
   {
    "duration": 125,
    "start_time": "2023-05-13T06:03:48.313Z"
   },
   {
    "duration": 154,
    "start_time": "2023-05-13T06:03:48.444Z"
   },
   {
    "duration": 165,
    "start_time": "2023-05-13T06:03:48.607Z"
   },
   {
    "duration": 116,
    "start_time": "2023-05-13T06:03:48.780Z"
   },
   {
    "duration": 186,
    "start_time": "2023-05-13T06:03:48.908Z"
   },
   {
    "duration": 162,
    "start_time": "2023-05-13T06:03:49.106Z"
   },
   {
    "duration": 9,
    "start_time": "2023-05-13T06:04:18.929Z"
   },
   {
    "duration": 1644,
    "start_time": "2023-05-13T06:04:18.950Z"
   },
   {
    "duration": 41,
    "start_time": "2023-05-13T06:04:20.607Z"
   },
   {
    "duration": 224,
    "start_time": "2023-05-13T06:04:20.658Z"
   },
   {
    "duration": 128,
    "start_time": "2023-05-13T06:04:20.903Z"
   },
   {
    "duration": 173,
    "start_time": "2023-05-13T06:04:21.037Z"
   },
   {
    "duration": 157,
    "start_time": "2023-05-13T06:04:21.217Z"
   },
   {
    "duration": 118,
    "start_time": "2023-05-13T06:04:21.380Z"
   },
   {
    "duration": 143,
    "start_time": "2023-05-13T06:04:21.507Z"
   },
   {
    "duration": 141,
    "start_time": "2023-05-13T06:04:21.665Z"
   },
   {
    "duration": 151,
    "start_time": "2023-05-13T06:04:21.815Z"
   },
   {
    "duration": 181,
    "start_time": "2023-05-13T06:09:11.145Z"
   },
   {
    "duration": 7,
    "start_time": "2023-05-13T06:20:45.219Z"
   },
   {
    "duration": 71,
    "start_time": "2023-05-13T06:52:01.779Z"
   },
   {
    "duration": 24,
    "start_time": "2023-05-13T06:52:17.646Z"
   },
   {
    "duration": 4128,
    "start_time": "2023-05-13T06:52:17.678Z"
   },
   {
    "duration": 39,
    "start_time": "2023-05-13T06:52:21.811Z"
   },
   {
    "duration": 55,
    "start_time": "2023-05-13T06:52:21.855Z"
   },
   {
    "duration": 90,
    "start_time": "2023-05-13T06:52:21.914Z"
   },
   {
    "duration": 93,
    "start_time": "2023-05-13T06:52:22.009Z"
   },
   {
    "duration": 113,
    "start_time": "2023-05-13T06:52:22.106Z"
   },
   {
    "duration": 93,
    "start_time": "2023-05-13T06:52:22.224Z"
   },
   {
    "duration": 53,
    "start_time": "2023-05-13T06:52:22.318Z"
   },
   {
    "duration": 23,
    "start_time": "2023-05-13T06:52:22.374Z"
   },
   {
    "duration": 74,
    "start_time": "2023-05-13T06:52:22.399Z"
   },
   {
    "duration": 104,
    "start_time": "2023-05-13T06:52:22.475Z"
   },
   {
    "duration": 82,
    "start_time": "2023-05-13T06:52:22.581Z"
   },
   {
    "duration": 127,
    "start_time": "2023-05-13T06:52:22.665Z"
   },
   {
    "duration": 1298,
    "start_time": "2023-05-14T12:26:27.647Z"
   },
   {
    "duration": 2634,
    "start_time": "2023-05-14T12:26:28.947Z"
   },
   {
    "duration": 20,
    "start_time": "2023-05-14T12:26:31.583Z"
   },
   {
    "duration": 37,
    "start_time": "2023-05-14T12:26:31.605Z"
   },
   {
    "duration": 37,
    "start_time": "2023-05-14T12:26:31.643Z"
   },
   {
    "duration": 33,
    "start_time": "2023-05-14T12:26:31.681Z"
   },
   {
    "duration": 46,
    "start_time": "2023-05-14T12:26:31.715Z"
   },
   {
    "duration": 47,
    "start_time": "2023-05-14T12:26:31.762Z"
   },
   {
    "duration": 16,
    "start_time": "2023-05-14T12:26:31.811Z"
   },
   {
    "duration": 27,
    "start_time": "2023-05-14T12:26:31.829Z"
   },
   {
    "duration": 17,
    "start_time": "2023-05-14T12:26:31.858Z"
   },
   {
    "duration": 37,
    "start_time": "2023-05-14T12:26:31.877Z"
   },
   {
    "duration": 55,
    "start_time": "2023-05-14T12:26:31.915Z"
   },
   {
    "duration": 22,
    "start_time": "2023-05-14T12:26:31.971Z"
   },
   {
    "duration": 107,
    "start_time": "2023-05-14T12:29:59.629Z"
   },
   {
    "duration": 23,
    "start_time": "2023-05-14T12:30:10.592Z"
   },
   {
    "duration": 16,
    "start_time": "2023-05-14T12:32:59.193Z"
   },
   {
    "duration": 14,
    "start_time": "2023-05-14T12:33:02.341Z"
   },
   {
    "duration": 8,
    "start_time": "2023-05-14T12:34:02.948Z"
   },
   {
    "duration": 13,
    "start_time": "2023-05-14T12:34:56.096Z"
   },
   {
    "duration": 6,
    "start_time": "2023-05-14T12:35:19.505Z"
   },
   {
    "duration": 13,
    "start_time": "2023-05-14T12:35:23.697Z"
   },
   {
    "duration": 6,
    "start_time": "2023-05-14T12:36:09.305Z"
   },
   {
    "duration": 12,
    "start_time": "2023-05-14T12:36:09.997Z"
   },
   {
    "duration": 5,
    "start_time": "2023-05-14T12:41:10.807Z"
   },
   {
    "duration": 607,
    "start_time": "2023-05-14T12:43:51.422Z"
   },
   {
    "duration": 364,
    "start_time": "2023-05-14T12:44:30.392Z"
   },
   {
    "duration": 6,
    "start_time": "2023-05-14T12:45:18.712Z"
   },
   {
    "duration": 5,
    "start_time": "2023-05-14T12:45:28.240Z"
   },
   {
    "duration": 11,
    "start_time": "2023-05-14T12:45:38.397Z"
   },
   {
    "duration": 5,
    "start_time": "2023-05-14T12:45:57.289Z"
   },
   {
    "duration": 3,
    "start_time": "2023-05-14T12:47:41.192Z"
   },
   {
    "duration": 5,
    "start_time": "2023-05-14T12:48:37.477Z"
   },
   {
    "duration": 13,
    "start_time": "2023-05-14T12:48:53.855Z"
   },
   {
    "duration": 48,
    "start_time": "2023-05-14T12:49:55.243Z"
   },
   {
    "duration": 21,
    "start_time": "2023-05-14T12:50:24.840Z"
   },
   {
    "duration": 47,
    "start_time": "2023-05-14T12:50:56.696Z"
   },
   {
    "duration": 11,
    "start_time": "2023-05-14T12:51:08.942Z"
   },
   {
    "duration": 8,
    "start_time": "2023-05-14T12:51:43.682Z"
   },
   {
    "duration": 14,
    "start_time": "2023-05-14T12:54:27.454Z"
   },
   {
    "duration": 4,
    "start_time": "2023-05-14T12:56:02.855Z"
   },
   {
    "duration": 16,
    "start_time": "2023-05-14T12:57:23.226Z"
   },
   {
    "duration": 4,
    "start_time": "2023-05-14T12:57:37.187Z"
   },
   {
    "duration": 655,
    "start_time": "2023-05-14T12:57:37.193Z"
   },
   {
    "duration": 18,
    "start_time": "2023-05-14T12:57:37.850Z"
   },
   {
    "duration": 28,
    "start_time": "2023-05-14T12:57:37.869Z"
   },
   {
    "duration": 23,
    "start_time": "2023-05-14T12:57:37.899Z"
   },
   {
    "duration": 11,
    "start_time": "2023-05-14T12:57:37.923Z"
   },
   {
    "duration": 20,
    "start_time": "2023-05-14T12:57:37.936Z"
   },
   {
    "duration": 19,
    "start_time": "2023-05-14T12:57:37.958Z"
   },
   {
    "duration": 5,
    "start_time": "2023-05-14T12:57:37.979Z"
   },
   {
    "duration": 42,
    "start_time": "2023-05-14T12:57:37.985Z"
   },
   {
    "duration": 5,
    "start_time": "2023-05-14T12:57:38.029Z"
   },
   {
    "duration": 11,
    "start_time": "2023-05-14T12:57:38.035Z"
   },
   {
    "duration": 40,
    "start_time": "2023-05-14T12:57:38.048Z"
   },
   {
    "duration": 106,
    "start_time": "2023-05-14T12:57:38.091Z"
   },
   {
    "duration": 25,
    "start_time": "2023-05-14T12:57:38.199Z"
   },
   {
    "duration": 21,
    "start_time": "2023-05-14T12:57:38.227Z"
   },
   {
    "duration": 4,
    "start_time": "2023-05-14T12:57:38.249Z"
   },
   {
    "duration": 39,
    "start_time": "2023-05-14T12:57:38.254Z"
   },
   {
    "duration": 6,
    "start_time": "2023-05-14T12:57:38.296Z"
   },
   {
    "duration": 14,
    "start_time": "2023-05-14T12:58:12.878Z"
   },
   {
    "duration": 3,
    "start_time": "2023-05-14T12:58:24.856Z"
   },
   {
    "duration": 691,
    "start_time": "2023-05-14T12:58:24.861Z"
   },
   {
    "duration": 21,
    "start_time": "2023-05-14T12:58:25.554Z"
   },
   {
    "duration": 16,
    "start_time": "2023-05-14T12:58:25.576Z"
   },
   {
    "duration": 32,
    "start_time": "2023-05-14T12:58:25.594Z"
   },
   {
    "duration": 14,
    "start_time": "2023-05-14T12:58:25.628Z"
   },
   {
    "duration": 18,
    "start_time": "2023-05-14T12:58:25.644Z"
   },
   {
    "duration": 48,
    "start_time": "2023-05-14T12:58:25.663Z"
   },
   {
    "duration": 5,
    "start_time": "2023-05-14T12:58:25.721Z"
   },
   {
    "duration": 7,
    "start_time": "2023-05-14T12:58:25.728Z"
   },
   {
    "duration": 6,
    "start_time": "2023-05-14T12:58:25.736Z"
   },
   {
    "duration": 5,
    "start_time": "2023-05-14T12:58:25.743Z"
   },
   {
    "duration": 21,
    "start_time": "2023-05-14T12:58:25.749Z"
   },
   {
    "duration": 125,
    "start_time": "2023-05-14T12:58:25.772Z"
   },
   {
    "duration": 25,
    "start_time": "2023-05-14T12:58:56.256Z"
   },
   {
    "duration": 9,
    "start_time": "2023-05-14T13:11:53.131Z"
   },
   {
    "duration": 7,
    "start_time": "2023-05-14T13:11:53.751Z"
   },
   {
    "duration": 4,
    "start_time": "2023-05-14T13:11:58.426Z"
   },
   {
    "duration": 635,
    "start_time": "2023-05-14T13:11:58.431Z"
   },
   {
    "duration": 21,
    "start_time": "2023-05-14T13:11:59.068Z"
   },
   {
    "duration": 31,
    "start_time": "2023-05-14T13:11:59.090Z"
   },
   {
    "duration": 19,
    "start_time": "2023-05-14T13:11:59.123Z"
   },
   {
    "duration": 10,
    "start_time": "2023-05-14T13:11:59.144Z"
   },
   {
    "duration": 17,
    "start_time": "2023-05-14T13:11:59.156Z"
   },
   {
    "duration": 47,
    "start_time": "2023-05-14T13:11:59.174Z"
   },
   {
    "duration": 6,
    "start_time": "2023-05-14T13:11:59.222Z"
   },
   {
    "duration": 7,
    "start_time": "2023-05-14T13:11:59.229Z"
   },
   {
    "duration": 6,
    "start_time": "2023-05-14T13:11:59.237Z"
   },
   {
    "duration": 5,
    "start_time": "2023-05-14T13:11:59.245Z"
   },
   {
    "duration": 21,
    "start_time": "2023-05-14T13:11:59.251Z"
   },
   {
    "duration": 119,
    "start_time": "2023-05-14T13:11:59.275Z"
   },
   {
    "duration": 29,
    "start_time": "2023-05-14T13:11:59.396Z"
   },
   {
    "duration": 21,
    "start_time": "2023-05-14T13:11:59.426Z"
   },
   {
    "duration": 4,
    "start_time": "2023-05-14T13:11:59.448Z"
   },
   {
    "duration": 8,
    "start_time": "2023-05-14T13:11:59.453Z"
   },
   {
    "duration": 5,
    "start_time": "2023-05-14T13:11:59.463Z"
   },
   {
    "duration": 11,
    "start_time": "2023-05-14T13:11:59.469Z"
   },
   {
    "duration": 33,
    "start_time": "2023-05-14T13:11:59.482Z"
   },
   {
    "duration": 26,
    "start_time": "2023-05-14T13:12:09.821Z"
   },
   {
    "duration": 7,
    "start_time": "2023-05-14T13:12:19.649Z"
   },
   {
    "duration": 3,
    "start_time": "2023-05-14T13:20:13.082Z"
   },
   {
    "duration": 659,
    "start_time": "2023-05-14T13:20:13.087Z"
   },
   {
    "duration": 19,
    "start_time": "2023-05-14T13:20:13.748Z"
   },
   {
    "duration": 14,
    "start_time": "2023-05-14T13:20:13.769Z"
   },
   {
    "duration": 50,
    "start_time": "2023-05-14T13:20:13.786Z"
   },
   {
    "duration": 21,
    "start_time": "2023-05-14T13:20:13.838Z"
   },
   {
    "duration": 24,
    "start_time": "2023-05-14T13:20:13.860Z"
   },
   {
    "duration": 47,
    "start_time": "2023-05-14T13:20:13.886Z"
   },
   {
    "duration": 6,
    "start_time": "2023-05-14T13:20:13.935Z"
   },
   {
    "duration": 7,
    "start_time": "2023-05-14T13:20:13.943Z"
   },
   {
    "duration": 15,
    "start_time": "2023-05-14T13:20:13.952Z"
   },
   {
    "duration": 4,
    "start_time": "2023-05-14T13:20:55.555Z"
   },
   {
    "duration": 667,
    "start_time": "2023-05-14T13:20:55.560Z"
   },
   {
    "duration": 25,
    "start_time": "2023-05-14T13:20:56.229Z"
   },
   {
    "duration": 19,
    "start_time": "2023-05-14T13:20:56.255Z"
   },
   {
    "duration": 45,
    "start_time": "2023-05-14T13:20:56.277Z"
   },
   {
    "duration": 12,
    "start_time": "2023-05-14T13:20:56.323Z"
   },
   {
    "duration": 17,
    "start_time": "2023-05-14T13:20:56.337Z"
   },
   {
    "duration": 15,
    "start_time": "2023-05-14T13:20:56.356Z"
   },
   {
    "duration": 4,
    "start_time": "2023-05-14T13:20:56.373Z"
   },
   {
    "duration": 32,
    "start_time": "2023-05-14T13:20:56.378Z"
   },
   {
    "duration": 21,
    "start_time": "2023-05-14T13:20:56.414Z"
   },
   {
    "duration": 8,
    "start_time": "2023-05-14T13:20:56.437Z"
   },
   {
    "duration": 27,
    "start_time": "2023-05-14T13:20:56.446Z"
   },
   {
    "duration": 111,
    "start_time": "2023-05-14T13:20:56.476Z"
   },
   {
    "duration": 36,
    "start_time": "2023-05-14T13:20:56.588Z"
   },
   {
    "duration": 15,
    "start_time": "2023-05-14T13:20:56.625Z"
   },
   {
    "duration": 4,
    "start_time": "2023-05-14T13:20:56.641Z"
   },
   {
    "duration": 9,
    "start_time": "2023-05-14T13:20:56.646Z"
   },
   {
    "duration": 13,
    "start_time": "2023-05-14T13:20:56.656Z"
   },
   {
    "duration": 8,
    "start_time": "2023-05-14T13:20:56.670Z"
   },
   {
    "duration": 6,
    "start_time": "2023-05-14T13:20:56.680Z"
   },
   {
    "duration": 12,
    "start_time": "2023-05-14T13:27:41.480Z"
   },
   {
    "duration": 285,
    "start_time": "2023-05-14T13:28:03.544Z"
   },
   {
    "duration": 14,
    "start_time": "2023-05-14T13:33:28.276Z"
   },
   {
    "duration": 783,
    "start_time": "2023-05-14T13:33:54.836Z"
   },
   {
    "duration": 16,
    "start_time": "2023-05-14T13:34:44.400Z"
   },
   {
    "duration": 712,
    "start_time": "2023-05-14T13:40:17.912Z"
   },
   {
    "duration": 783,
    "start_time": "2023-05-14T13:40:29.276Z"
   },
   {
    "duration": 1845,
    "start_time": "2023-05-14T13:40:44.888Z"
   },
   {
    "duration": 907,
    "start_time": "2023-05-14T13:40:52.278Z"
   },
   {
    "duration": 665,
    "start_time": "2023-05-14T13:44:20.780Z"
   },
   {
    "duration": 898,
    "start_time": "2023-05-14T13:45:10.180Z"
   },
   {
    "duration": 732,
    "start_time": "2023-05-14T13:51:35.458Z"
   },
   {
    "duration": 935,
    "start_time": "2023-05-14T13:51:51.300Z"
   },
   {
    "duration": 6,
    "start_time": "2023-05-14T13:57:42.557Z"
   },
   {
    "duration": 824,
    "start_time": "2023-05-14T13:57:42.565Z"
   },
   {
    "duration": 40,
    "start_time": "2023-05-14T13:57:43.391Z"
   },
   {
    "duration": 23,
    "start_time": "2023-05-14T13:57:43.444Z"
   },
   {
    "duration": 28,
    "start_time": "2023-05-14T13:57:43.469Z"
   },
   {
    "duration": 19,
    "start_time": "2023-05-14T13:57:43.498Z"
   },
   {
    "duration": 41,
    "start_time": "2023-05-14T13:57:43.519Z"
   },
   {
    "duration": 18,
    "start_time": "2023-05-14T13:57:43.561Z"
   },
   {
    "duration": 5,
    "start_time": "2023-05-14T13:57:43.581Z"
   },
   {
    "duration": 6,
    "start_time": "2023-05-14T13:57:43.588Z"
   },
   {
    "duration": 9,
    "start_time": "2023-05-14T13:57:43.606Z"
   },
   {
    "duration": 6,
    "start_time": "2023-05-14T13:57:43.617Z"
   },
   {
    "duration": 41,
    "start_time": "2023-05-14T13:57:43.625Z"
   },
   {
    "duration": 129,
    "start_time": "2023-05-14T13:57:43.668Z"
   },
   {
    "duration": 45,
    "start_time": "2023-05-14T13:57:43.799Z"
   },
   {
    "duration": 16,
    "start_time": "2023-05-14T13:57:43.852Z"
   },
   {
    "duration": 5,
    "start_time": "2023-05-14T13:57:43.870Z"
   },
   {
    "duration": 8,
    "start_time": "2023-05-14T13:57:43.877Z"
   },
   {
    "duration": 9,
    "start_time": "2023-05-14T13:57:43.886Z"
   },
   {
    "duration": 8,
    "start_time": "2023-05-14T13:57:43.897Z"
   },
   {
    "duration": 18,
    "start_time": "2023-05-14T13:57:43.907Z"
   },
   {
    "duration": 737,
    "start_time": "2023-05-14T13:57:43.928Z"
   },
   {
    "duration": 833,
    "start_time": "2023-05-14T13:57:44.666Z"
   },
   {
    "duration": 733,
    "start_time": "2023-05-14T13:57:45.500Z"
   },
   {
    "duration": 714,
    "start_time": "2023-05-14T13:58:09.076Z"
   },
   {
    "duration": 13,
    "start_time": "2023-05-14T14:03:32.655Z"
   },
   {
    "duration": 759,
    "start_time": "2023-05-14T14:04:03.577Z"
   },
   {
    "duration": 668,
    "start_time": "2023-05-14T14:04:19.495Z"
   },
   {
    "duration": 510,
    "start_time": "2023-05-14T14:04:41.103Z"
   },
   {
    "duration": 395,
    "start_time": "2023-05-14T14:04:52.260Z"
   },
   {
    "duration": 488,
    "start_time": "2023-05-14T14:06:26.293Z"
   },
   {
    "duration": 701,
    "start_time": "2023-05-14T14:06:43.057Z"
   },
   {
    "duration": 586,
    "start_time": "2023-05-14T14:06:52.173Z"
   },
   {
    "duration": 1033,
    "start_time": "2023-05-14T14:11:21.666Z"
   },
   {
    "duration": 375,
    "start_time": "2023-05-14T14:12:20.248Z"
   },
   {
    "duration": 683,
    "start_time": "2023-05-14T14:13:13.696Z"
   },
   {
    "duration": 445,
    "start_time": "2023-05-14T14:13:33.832Z"
   },
   {
    "duration": 485,
    "start_time": "2023-05-14T14:14:04.762Z"
   },
   {
    "duration": 283,
    "start_time": "2023-05-14T14:14:39.165Z"
   },
   {
    "duration": 550,
    "start_time": "2023-05-14T14:15:18.933Z"
   },
   {
    "duration": 419,
    "start_time": "2023-05-14T14:15:47.929Z"
   },
   {
    "duration": 15,
    "start_time": "2023-05-14T14:17:23.214Z"
   },
   {
    "duration": 8,
    "start_time": "2023-05-14T14:17:37.537Z"
   },
   {
    "duration": 7,
    "start_time": "2023-05-14T14:17:46.697Z"
   },
   {
    "duration": 5,
    "start_time": "2023-05-14T14:19:24.086Z"
   },
   {
    "duration": 255,
    "start_time": "2023-05-14T14:19:37.592Z"
   },
   {
    "duration": 229,
    "start_time": "2023-05-14T14:20:00.268Z"
   },
   {
    "duration": 234,
    "start_time": "2023-05-14T14:20:06.061Z"
   },
   {
    "duration": 279,
    "start_time": "2023-05-14T14:21:24.455Z"
   },
   {
    "duration": 280,
    "start_time": "2023-05-14T14:21:29.720Z"
   },
   {
    "duration": 7,
    "start_time": "2023-05-14T14:22:04.378Z"
   },
   {
    "duration": 5,
    "start_time": "2023-05-14T14:22:04.858Z"
   },
   {
    "duration": 5,
    "start_time": "2023-05-14T14:22:05.288Z"
   },
   {
    "duration": 7,
    "start_time": "2023-05-14T14:22:48.376Z"
   },
   {
    "duration": 640,
    "start_time": "2023-05-14T14:22:54.459Z"
   },
   {
    "duration": 745,
    "start_time": "2023-05-14T14:23:21.993Z"
   },
   {
    "duration": 718,
    "start_time": "2023-05-14T14:23:35.736Z"
   },
   {
    "duration": 756,
    "start_time": "2023-05-14T14:23:55.261Z"
   },
   {
    "duration": 467,
    "start_time": "2023-05-14T14:25:16.196Z"
   },
   {
    "duration": 590,
    "start_time": "2023-05-14T14:28:42.366Z"
   },
   {
    "duration": 626,
    "start_time": "2023-05-14T14:28:51.361Z"
   },
   {
    "duration": 11,
    "start_time": "2023-05-14T14:34:04.446Z"
   },
   {
    "duration": 68,
    "start_time": "2023-05-14T14:35:34.380Z"
   },
   {
    "duration": 6,
    "start_time": "2023-05-14T14:35:49.266Z"
   },
   {
    "duration": 8,
    "start_time": "2023-05-14T14:35:56.420Z"
   },
   {
    "duration": 14,
    "start_time": "2023-05-14T14:37:42.025Z"
   },
   {
    "duration": 911,
    "start_time": "2023-05-14T14:37:42.756Z"
   },
   {
    "duration": 923,
    "start_time": "2023-05-14T14:38:25.327Z"
   },
   {
    "duration": 23,
    "start_time": "2023-05-14T14:38:44.100Z"
   },
   {
    "duration": 8,
    "start_time": "2023-05-14T14:39:42.636Z"
   },
   {
    "duration": 5,
    "start_time": "2023-05-14T14:39:54.645Z"
   },
   {
    "duration": 14,
    "start_time": "2023-05-14T14:40:40.226Z"
   },
   {
    "duration": 5,
    "start_time": "2023-05-14T14:42:29.395Z"
   },
   {
    "duration": 38,
    "start_time": "2023-05-14T14:46:10.266Z"
   },
   {
    "duration": 13,
    "start_time": "2023-05-14T14:46:17.557Z"
   },
   {
    "duration": 5,
    "start_time": "2023-05-14T14:46:51.428Z"
   },
   {
    "duration": 850,
    "start_time": "2023-05-14T14:46:51.435Z"
   },
   {
    "duration": 30,
    "start_time": "2023-05-14T14:46:52.289Z"
   },
   {
    "duration": 24,
    "start_time": "2023-05-14T14:46:52.326Z"
   },
   {
    "duration": 43,
    "start_time": "2023-05-14T14:46:52.357Z"
   },
   {
    "duration": 25,
    "start_time": "2023-05-14T14:46:52.402Z"
   },
   {
    "duration": 23,
    "start_time": "2023-05-14T14:46:52.435Z"
   },
   {
    "duration": 23,
    "start_time": "2023-05-14T14:46:52.463Z"
   },
   {
    "duration": 5,
    "start_time": "2023-05-14T14:46:52.488Z"
   },
   {
    "duration": 7,
    "start_time": "2023-05-14T14:46:52.495Z"
   },
   {
    "duration": 8,
    "start_time": "2023-05-14T14:46:52.512Z"
   },
   {
    "duration": 33,
    "start_time": "2023-05-14T14:46:52.530Z"
   },
   {
    "duration": 28,
    "start_time": "2023-05-14T14:46:52.568Z"
   },
   {
    "duration": 165,
    "start_time": "2023-05-14T14:46:52.599Z"
   },
   {
    "duration": 26,
    "start_time": "2023-05-14T14:46:52.768Z"
   },
   {
    "duration": 27,
    "start_time": "2023-05-14T14:46:52.796Z"
   },
   {
    "duration": 7,
    "start_time": "2023-05-14T14:46:52.825Z"
   },
   {
    "duration": 24,
    "start_time": "2023-05-14T14:46:52.834Z"
   },
   {
    "duration": 6,
    "start_time": "2023-05-14T14:46:52.865Z"
   },
   {
    "duration": 26,
    "start_time": "2023-05-14T14:46:52.873Z"
   },
   {
    "duration": 18,
    "start_time": "2023-05-14T14:46:52.901Z"
   },
   {
    "duration": 1004,
    "start_time": "2023-05-14T14:46:52.921Z"
   },
   {
    "duration": 1134,
    "start_time": "2023-05-14T14:46:53.930Z"
   },
   {
    "duration": 873,
    "start_time": "2023-05-14T14:46:55.070Z"
   },
   {
    "duration": 487,
    "start_time": "2023-05-14T14:46:55.949Z"
   },
   {
    "duration": 7,
    "start_time": "2023-05-14T14:46:56.442Z"
   },
   {
    "duration": 8,
    "start_time": "2023-05-14T14:46:56.453Z"
   },
   {
    "duration": 7,
    "start_time": "2023-05-14T14:46:56.464Z"
   },
   {
    "duration": 7,
    "start_time": "2023-05-14T14:46:56.472Z"
   },
   {
    "duration": 945,
    "start_time": "2023-05-14T14:46:56.481Z"
   },
   {
    "duration": 820,
    "start_time": "2023-05-14T14:47:12.733Z"
   },
   {
    "duration": 5,
    "start_time": "2023-05-14T14:50:44.167Z"
   },
   {
    "duration": 759,
    "start_time": "2023-05-14T14:50:44.174Z"
   },
   {
    "duration": 38,
    "start_time": "2023-05-14T14:50:44.935Z"
   },
   {
    "duration": 20,
    "start_time": "2023-05-14T14:50:44.976Z"
   },
   {
    "duration": 29,
    "start_time": "2023-05-14T14:50:44.999Z"
   },
   {
    "duration": 23,
    "start_time": "2023-05-14T14:50:45.032Z"
   },
   {
    "duration": 38,
    "start_time": "2023-05-14T14:50:45.058Z"
   },
   {
    "duration": 26,
    "start_time": "2023-05-14T14:50:45.098Z"
   },
   {
    "duration": 18,
    "start_time": "2023-05-14T14:50:45.129Z"
   },
   {
    "duration": 8,
    "start_time": "2023-05-14T14:50:45.149Z"
   },
   {
    "duration": 5,
    "start_time": "2023-05-14T14:50:45.159Z"
   },
   {
    "duration": 7,
    "start_time": "2023-05-14T14:50:45.167Z"
   },
   {
    "duration": 25,
    "start_time": "2023-05-14T14:50:45.178Z"
   },
   {
    "duration": 132,
    "start_time": "2023-05-14T14:50:45.204Z"
   },
   {
    "duration": 21,
    "start_time": "2023-05-14T14:50:45.339Z"
   },
   {
    "duration": 16,
    "start_time": "2023-05-14T14:50:45.361Z"
   },
   {
    "duration": 4,
    "start_time": "2023-05-14T14:50:45.379Z"
   },
   {
    "duration": 29,
    "start_time": "2023-05-14T14:50:45.384Z"
   },
   {
    "duration": 6,
    "start_time": "2023-05-14T14:50:45.414Z"
   },
   {
    "duration": 13,
    "start_time": "2023-05-14T14:50:45.428Z"
   },
   {
    "duration": 10,
    "start_time": "2023-05-14T14:50:45.443Z"
   },
   {
    "duration": 964,
    "start_time": "2023-05-14T14:50:45.454Z"
   },
   {
    "duration": 757,
    "start_time": "2023-05-14T14:50:46.427Z"
   },
   {
    "duration": 869,
    "start_time": "2023-05-14T14:50:47.185Z"
   },
   {
    "duration": 452,
    "start_time": "2023-05-14T14:50:48.056Z"
   },
   {
    "duration": 9,
    "start_time": "2023-05-14T14:50:48.511Z"
   },
   {
    "duration": 1029,
    "start_time": "2023-05-14T14:50:48.521Z"
   },
   {
    "duration": 0,
    "start_time": "2023-05-14T14:50:49.552Z"
   },
   {
    "duration": 0,
    "start_time": "2023-05-14T14:50:49.553Z"
   },
   {
    "duration": 0,
    "start_time": "2023-05-14T14:50:49.554Z"
   },
   {
    "duration": 1036,
    "start_time": "2023-05-14T14:51:48.443Z"
   },
   {
    "duration": 1010,
    "start_time": "2023-05-14T14:51:53.149Z"
   },
   {
    "duration": 5,
    "start_time": "2023-05-14T14:57:43.242Z"
   },
   {
    "duration": 803,
    "start_time": "2023-05-14T14:57:43.252Z"
   },
   {
    "duration": 21,
    "start_time": "2023-05-14T14:57:44.058Z"
   },
   {
    "duration": 31,
    "start_time": "2023-05-14T14:57:44.080Z"
   },
   {
    "duration": 28,
    "start_time": "2023-05-14T14:57:44.117Z"
   },
   {
    "duration": 12,
    "start_time": "2023-05-14T14:57:44.147Z"
   },
   {
    "duration": 21,
    "start_time": "2023-05-14T14:57:44.160Z"
   },
   {
    "duration": 48,
    "start_time": "2023-05-14T14:57:44.183Z"
   },
   {
    "duration": 11,
    "start_time": "2023-05-14T14:57:44.232Z"
   },
   {
    "duration": 6,
    "start_time": "2023-05-14T14:57:44.244Z"
   },
   {
    "duration": 6,
    "start_time": "2023-05-14T14:57:44.253Z"
   },
   {
    "duration": 15,
    "start_time": "2023-05-14T14:57:44.260Z"
   },
   {
    "duration": 24,
    "start_time": "2023-05-14T14:57:44.277Z"
   },
   {
    "duration": 155,
    "start_time": "2023-05-14T14:57:44.302Z"
   },
   {
    "duration": 18,
    "start_time": "2023-05-14T14:57:44.458Z"
   },
   {
    "duration": 22,
    "start_time": "2023-05-14T14:57:44.477Z"
   },
   {
    "duration": 11,
    "start_time": "2023-05-14T14:57:44.500Z"
   },
   {
    "duration": 21,
    "start_time": "2023-05-14T14:57:44.518Z"
   },
   {
    "duration": 8,
    "start_time": "2023-05-14T14:57:44.541Z"
   },
   {
    "duration": 13,
    "start_time": "2023-05-14T14:57:44.551Z"
   },
   {
    "duration": 6,
    "start_time": "2023-05-14T14:57:44.565Z"
   },
   {
    "duration": 843,
    "start_time": "2023-05-14T14:57:44.573Z"
   },
   {
    "duration": 678,
    "start_time": "2023-05-14T14:57:45.417Z"
   },
   {
    "duration": 685,
    "start_time": "2023-05-14T14:57:46.096Z"
   },
   {
    "duration": 594,
    "start_time": "2023-05-14T14:57:46.783Z"
   },
   {
    "duration": 4,
    "start_time": "2023-05-14T14:57:47.378Z"
   },
   {
    "duration": 7,
    "start_time": "2023-05-14T14:57:47.384Z"
   },
   {
    "duration": 21,
    "start_time": "2023-05-14T14:57:47.392Z"
   },
   {
    "duration": 16,
    "start_time": "2023-05-14T14:57:47.422Z"
   },
   {
    "duration": 5,
    "start_time": "2023-05-14T15:02:43.948Z"
   },
   {
    "duration": 782,
    "start_time": "2023-05-14T15:02:43.956Z"
   },
   {
    "duration": 20,
    "start_time": "2023-05-14T15:02:44.743Z"
   },
   {
    "duration": 21,
    "start_time": "2023-05-14T15:02:44.765Z"
   },
   {
    "duration": 43,
    "start_time": "2023-05-14T15:02:44.788Z"
   },
   {
    "duration": 16,
    "start_time": "2023-05-14T15:02:44.836Z"
   },
   {
    "duration": 20,
    "start_time": "2023-05-14T15:02:44.853Z"
   },
   {
    "duration": 21,
    "start_time": "2023-05-14T15:02:44.874Z"
   },
   {
    "duration": 22,
    "start_time": "2023-05-14T15:02:44.897Z"
   },
   {
    "duration": 13,
    "start_time": "2023-05-14T15:02:44.920Z"
   },
   {
    "duration": 6,
    "start_time": "2023-05-14T15:02:44.935Z"
   },
   {
    "duration": 4,
    "start_time": "2023-05-14T15:02:44.943Z"
   },
   {
    "duration": 22,
    "start_time": "2023-05-14T15:02:44.949Z"
   },
   {
    "duration": 151,
    "start_time": "2023-05-14T15:02:44.973Z"
   },
   {
    "duration": 25,
    "start_time": "2023-05-14T15:02:45.130Z"
   },
   {
    "duration": 5,
    "start_time": "2023-05-14T15:02:45.156Z"
   },
   {
    "duration": 16,
    "start_time": "2023-05-14T15:02:45.163Z"
   },
   {
    "duration": 13,
    "start_time": "2023-05-14T15:02:45.181Z"
   },
   {
    "duration": 18,
    "start_time": "2023-05-14T15:02:45.196Z"
   },
   {
    "duration": 12,
    "start_time": "2023-05-14T15:02:45.222Z"
   },
   {
    "duration": 690,
    "start_time": "2023-05-14T15:02:45.235Z"
   },
   {
    "duration": 804,
    "start_time": "2023-05-14T15:02:45.927Z"
   },
   {
    "duration": 664,
    "start_time": "2023-05-14T15:02:46.732Z"
   },
   {
    "duration": 452,
    "start_time": "2023-05-14T15:02:47.398Z"
   },
   {
    "duration": 4,
    "start_time": "2023-05-14T15:02:47.852Z"
   },
   {
    "duration": 8,
    "start_time": "2023-05-14T15:02:47.857Z"
   },
   {
    "duration": 19,
    "start_time": "2023-05-14T15:02:47.866Z"
   },
   {
    "duration": 7,
    "start_time": "2023-05-14T15:02:47.886Z"
   },
   {
    "duration": 888,
    "start_time": "2023-05-14T15:02:47.895Z"
   },
   {
    "duration": 34,
    "start_time": "2023-05-14T15:05:02.478Z"
   },
   {
    "duration": 11,
    "start_time": "2023-05-14T15:05:12.548Z"
   },
   {
    "duration": 22,
    "start_time": "2023-05-14T15:06:08.753Z"
   },
   {
    "duration": 42,
    "start_time": "2023-05-14T15:06:34.732Z"
   },
   {
    "duration": 13,
    "start_time": "2023-05-14T15:06:44.976Z"
   },
   {
    "duration": 12,
    "start_time": "2023-05-14T15:06:55.993Z"
   },
   {
    "duration": 20,
    "start_time": "2023-05-14T15:07:00.803Z"
   },
   {
    "duration": 900,
    "start_time": "2023-05-14T15:07:13.070Z"
   },
   {
    "duration": 12,
    "start_time": "2023-05-14T15:07:18.364Z"
   },
   {
    "duration": 20,
    "start_time": "2023-05-14T15:08:37.641Z"
   },
   {
    "duration": 35,
    "start_time": "2023-05-14T15:09:33.503Z"
   },
   {
    "duration": 34,
    "start_time": "2023-05-14T15:09:50.089Z"
   },
   {
    "duration": 28,
    "start_time": "2023-05-14T15:09:54.869Z"
   },
   {
    "duration": 13,
    "start_time": "2023-05-14T15:10:29.548Z"
   },
   {
    "duration": 13,
    "start_time": "2023-05-14T15:11:03.962Z"
   },
   {
    "duration": 12,
    "start_time": "2023-05-14T15:11:09.847Z"
   },
   {
    "duration": 12,
    "start_time": "2023-05-14T15:11:13.745Z"
   },
   {
    "duration": 11,
    "start_time": "2023-05-14T15:11:18.057Z"
   },
   {
    "duration": 36,
    "start_time": "2023-05-14T15:11:36.189Z"
   },
   {
    "duration": 4,
    "start_time": "2023-05-14T15:13:12.260Z"
   },
   {
    "duration": 856,
    "start_time": "2023-05-14T15:13:12.267Z"
   },
   {
    "duration": 23,
    "start_time": "2023-05-14T15:13:13.130Z"
   },
   {
    "duration": 15,
    "start_time": "2023-05-14T15:13:13.154Z"
   },
   {
    "duration": 18,
    "start_time": "2023-05-14T15:13:13.170Z"
   },
   {
    "duration": 25,
    "start_time": "2023-05-14T15:13:13.189Z"
   },
   {
    "duration": 27,
    "start_time": "2023-05-14T15:13:13.216Z"
   },
   {
    "duration": 15,
    "start_time": "2023-05-14T15:13:13.245Z"
   },
   {
    "duration": 4,
    "start_time": "2023-05-14T15:13:13.261Z"
   },
   {
    "duration": 10,
    "start_time": "2023-05-14T15:13:13.267Z"
   },
   {
    "duration": 9,
    "start_time": "2023-05-14T15:13:13.278Z"
   },
   {
    "duration": 4,
    "start_time": "2023-05-14T15:13:13.288Z"
   },
   {
    "duration": 24,
    "start_time": "2023-05-14T15:13:13.309Z"
   },
   {
    "duration": 118,
    "start_time": "2023-05-14T15:13:13.335Z"
   },
   {
    "duration": 18,
    "start_time": "2023-05-14T15:13:13.454Z"
   },
   {
    "duration": 4,
    "start_time": "2023-05-14T15:13:13.474Z"
   },
   {
    "duration": 22,
    "start_time": "2023-05-14T15:13:13.480Z"
   },
   {
    "duration": 17,
    "start_time": "2023-05-14T15:13:13.503Z"
   },
   {
    "duration": 20,
    "start_time": "2023-05-14T15:13:13.521Z"
   },
   {
    "duration": 9,
    "start_time": "2023-05-14T15:13:13.543Z"
   },
   {
    "duration": 665,
    "start_time": "2023-05-14T15:13:13.553Z"
   },
   {
    "duration": 834,
    "start_time": "2023-05-14T15:13:14.219Z"
   },
   {
    "duration": 720,
    "start_time": "2023-05-14T15:13:15.055Z"
   },
   {
    "duration": 596,
    "start_time": "2023-05-14T15:13:15.776Z"
   },
   {
    "duration": 4,
    "start_time": "2023-05-14T15:13:16.374Z"
   },
   {
    "duration": 14,
    "start_time": "2023-05-14T15:13:16.379Z"
   },
   {
    "duration": 7,
    "start_time": "2023-05-14T15:13:16.395Z"
   },
   {
    "duration": 10,
    "start_time": "2023-05-14T15:13:16.405Z"
   },
   {
    "duration": 663,
    "start_time": "2023-05-14T15:13:16.417Z"
   },
   {
    "duration": 4,
    "start_time": "2023-05-14T15:13:30.280Z"
   },
   {
    "duration": 12,
    "start_time": "2023-05-14T15:13:30.627Z"
   },
   {
    "duration": 4,
    "start_time": "2023-05-14T15:13:30.953Z"
   },
   {
    "duration": 920,
    "start_time": "2023-05-14T15:13:31.161Z"
   },
   {
    "duration": 4,
    "start_time": "2023-05-14T15:13:44.381Z"
   },
   {
    "duration": 4,
    "start_time": "2023-05-14T15:13:44.768Z"
   },
   {
    "duration": 663,
    "start_time": "2023-05-14T15:13:44.936Z"
   },
   {
    "duration": 5,
    "start_time": "2023-05-14T15:14:00.751Z"
   },
   {
    "duration": 4,
    "start_time": "2023-05-14T15:14:01.064Z"
   },
   {
    "duration": 5,
    "start_time": "2023-05-14T15:14:01.392Z"
   },
   {
    "duration": 769,
    "start_time": "2023-05-14T15:14:01.549Z"
   },
   {
    "duration": 8,
    "start_time": "2023-05-14T15:15:21.589Z"
   },
   {
    "duration": 9,
    "start_time": "2023-05-14T15:15:28.329Z"
   },
   {
    "duration": 4,
    "start_time": "2023-05-14T15:16:03.937Z"
   },
   {
    "duration": 753,
    "start_time": "2023-05-14T15:16:03.943Z"
   },
   {
    "duration": 25,
    "start_time": "2023-05-14T15:16:04.698Z"
   },
   {
    "duration": 206,
    "start_time": "2023-05-14T15:16:04.724Z"
   },
   {
    "duration": 27,
    "start_time": "2023-05-14T15:16:04.933Z"
   },
   {
    "duration": 10,
    "start_time": "2023-05-14T15:16:04.962Z"
   },
   {
    "duration": 26,
    "start_time": "2023-05-14T15:16:04.974Z"
   },
   {
    "duration": 45,
    "start_time": "2023-05-14T15:16:05.001Z"
   },
   {
    "duration": 12,
    "start_time": "2023-05-14T15:16:05.048Z"
   },
   {
    "duration": 10,
    "start_time": "2023-05-14T15:16:05.062Z"
   },
   {
    "duration": 28,
    "start_time": "2023-05-14T15:16:05.073Z"
   },
   {
    "duration": 33,
    "start_time": "2023-05-14T15:16:05.102Z"
   },
   {
    "duration": 38,
    "start_time": "2023-05-14T15:16:05.137Z"
   },
   {
    "duration": 117,
    "start_time": "2023-05-14T15:16:05.176Z"
   },
   {
    "duration": 27,
    "start_time": "2023-05-14T15:16:05.294Z"
   },
   {
    "duration": 6,
    "start_time": "2023-05-14T15:16:05.328Z"
   },
   {
    "duration": 18,
    "start_time": "2023-05-14T15:16:05.336Z"
   },
   {
    "duration": 35,
    "start_time": "2023-05-14T15:16:05.355Z"
   },
   {
    "duration": 34,
    "start_time": "2023-05-14T15:16:05.393Z"
   },
   {
    "duration": 16,
    "start_time": "2023-05-14T15:16:05.428Z"
   },
   {
    "duration": 791,
    "start_time": "2023-05-14T15:16:05.446Z"
   },
   {
    "duration": 698,
    "start_time": "2023-05-14T15:16:06.243Z"
   },
   {
    "duration": 837,
    "start_time": "2023-05-14T15:16:06.943Z"
   },
   {
    "duration": 434,
    "start_time": "2023-05-14T15:16:07.782Z"
   },
   {
    "duration": 11,
    "start_time": "2023-05-14T15:16:08.217Z"
   },
   {
    "duration": 0,
    "start_time": "2023-05-14T15:16:08.229Z"
   },
   {
    "duration": 0,
    "start_time": "2023-05-14T15:16:08.230Z"
   },
   {
    "duration": 0,
    "start_time": "2023-05-14T15:16:08.231Z"
   },
   {
    "duration": 0,
    "start_time": "2023-05-14T15:16:08.234Z"
   },
   {
    "duration": 0,
    "start_time": "2023-05-14T15:16:08.235Z"
   },
   {
    "duration": 18,
    "start_time": "2023-05-14T15:16:33.661Z"
   },
   {
    "duration": 3,
    "start_time": "2023-05-14T15:16:35.161Z"
   },
   {
    "duration": 4,
    "start_time": "2023-05-14T15:16:35.499Z"
   },
   {
    "duration": 3,
    "start_time": "2023-05-14T15:16:35.860Z"
   },
   {
    "duration": 4,
    "start_time": "2023-05-14T15:16:36.278Z"
   },
   {
    "duration": 852,
    "start_time": "2023-05-14T15:16:36.919Z"
   },
   {
    "duration": 14,
    "start_time": "2023-05-14T15:17:11.228Z"
   },
   {
    "duration": 6,
    "start_time": "2023-05-14T15:17:22.835Z"
   },
   {
    "duration": 849,
    "start_time": "2023-05-14T15:17:22.846Z"
   },
   {
    "duration": 43,
    "start_time": "2023-05-14T15:17:23.697Z"
   },
   {
    "duration": 21,
    "start_time": "2023-05-14T15:17:23.743Z"
   },
   {
    "duration": 20,
    "start_time": "2023-05-14T15:17:23.767Z"
   },
   {
    "duration": 43,
    "start_time": "2023-05-14T15:17:23.789Z"
   },
   {
    "duration": 22,
    "start_time": "2023-05-14T15:17:23.850Z"
   },
   {
    "duration": 47,
    "start_time": "2023-05-14T15:17:23.874Z"
   },
   {
    "duration": 11,
    "start_time": "2023-05-14T15:17:23.923Z"
   },
   {
    "duration": 13,
    "start_time": "2023-05-14T15:17:23.939Z"
   },
   {
    "duration": 6,
    "start_time": "2023-05-14T15:17:23.957Z"
   },
   {
    "duration": 13,
    "start_time": "2023-05-14T15:17:23.966Z"
   },
   {
    "duration": 38,
    "start_time": "2023-05-14T15:17:23.981Z"
   },
   {
    "duration": 138,
    "start_time": "2023-05-14T15:17:24.043Z"
   },
   {
    "duration": 20,
    "start_time": "2023-05-14T15:17:24.183Z"
   },
   {
    "duration": 5,
    "start_time": "2023-05-14T15:17:24.214Z"
   },
   {
    "duration": 22,
    "start_time": "2023-05-14T15:17:24.221Z"
   },
   {
    "duration": 11,
    "start_time": "2023-05-14T15:17:24.245Z"
   },
   {
    "duration": 14,
    "start_time": "2023-05-14T15:17:24.258Z"
   },
   {
    "duration": 8,
    "start_time": "2023-05-14T15:17:24.273Z"
   },
   {
    "duration": 847,
    "start_time": "2023-05-14T15:17:24.282Z"
   },
   {
    "duration": 994,
    "start_time": "2023-05-14T15:17:25.131Z"
   },
   {
    "duration": 801,
    "start_time": "2023-05-14T15:17:26.127Z"
   },
   {
    "duration": 503,
    "start_time": "2023-05-14T15:17:26.930Z"
   },
   {
    "duration": 5,
    "start_time": "2023-05-14T15:17:27.438Z"
   },
   {
    "duration": 8,
    "start_time": "2023-05-14T15:17:27.448Z"
   },
   {
    "duration": 5,
    "start_time": "2023-05-14T15:17:27.458Z"
   },
   {
    "duration": 10,
    "start_time": "2023-05-14T15:17:27.465Z"
   },
   {
    "duration": 901,
    "start_time": "2023-05-14T15:17:27.476Z"
   },
   {
    "duration": 4,
    "start_time": "2023-05-14T15:19:19.487Z"
   },
   {
    "duration": 768,
    "start_time": "2023-05-14T15:19:19.492Z"
   },
   {
    "duration": 22,
    "start_time": "2023-05-14T15:19:20.262Z"
   },
   {
    "duration": 33,
    "start_time": "2023-05-14T15:19:20.286Z"
   },
   {
    "duration": 31,
    "start_time": "2023-05-14T15:19:20.321Z"
   },
   {
    "duration": 12,
    "start_time": "2023-05-14T15:19:20.354Z"
   },
   {
    "duration": 19,
    "start_time": "2023-05-14T15:19:20.368Z"
   },
   {
    "duration": 28,
    "start_time": "2023-05-14T15:19:20.411Z"
   },
   {
    "duration": 5,
    "start_time": "2023-05-14T15:19:20.441Z"
   },
   {
    "duration": 16,
    "start_time": "2023-05-14T15:19:20.448Z"
   },
   {
    "duration": 19,
    "start_time": "2023-05-14T15:19:20.465Z"
   },
   {
    "duration": 6,
    "start_time": "2023-05-14T15:19:20.486Z"
   },
   {
    "duration": 24,
    "start_time": "2023-05-14T15:19:20.493Z"
   },
   {
    "duration": 128,
    "start_time": "2023-05-14T15:19:20.518Z"
   },
   {
    "duration": 24,
    "start_time": "2023-05-14T15:19:20.656Z"
   },
   {
    "duration": 5,
    "start_time": "2023-05-14T15:19:20.681Z"
   },
   {
    "duration": 11,
    "start_time": "2023-05-14T15:19:20.687Z"
   },
   {
    "duration": 15,
    "start_time": "2023-05-14T15:19:20.709Z"
   },
   {
    "duration": 10,
    "start_time": "2023-05-14T15:19:20.730Z"
   },
   {
    "duration": 14,
    "start_time": "2023-05-14T15:19:20.742Z"
   },
   {
    "duration": 703,
    "start_time": "2023-05-14T15:19:20.757Z"
   },
   {
    "duration": 908,
    "start_time": "2023-05-14T15:19:21.462Z"
   },
   {
    "duration": 747,
    "start_time": "2023-05-14T15:19:22.372Z"
   },
   {
    "duration": 653,
    "start_time": "2023-05-14T15:19:23.120Z"
   },
   {
    "duration": 7,
    "start_time": "2023-05-14T15:19:23.774Z"
   },
   {
    "duration": 4,
    "start_time": "2023-05-14T15:19:23.782Z"
   },
   {
    "duration": 22,
    "start_time": "2023-05-14T15:19:23.788Z"
   },
   {
    "duration": 5,
    "start_time": "2023-05-14T15:19:23.816Z"
   },
   {
    "duration": 12,
    "start_time": "2023-05-14T15:19:23.825Z"
   },
   {
    "duration": 747,
    "start_time": "2023-05-14T15:19:23.839Z"
   },
   {
    "duration": 14,
    "start_time": "2023-05-14T15:20:03.531Z"
   },
   {
    "duration": 9,
    "start_time": "2023-05-14T15:20:04.220Z"
   },
   {
    "duration": 10,
    "start_time": "2023-05-14T15:20:04.504Z"
   },
   {
    "duration": 5,
    "start_time": "2023-05-14T15:20:04.777Z"
   },
   {
    "duration": 5,
    "start_time": "2023-05-14T15:20:05.132Z"
   },
   {
    "duration": 680,
    "start_time": "2023-05-14T15:20:06.656Z"
   },
   {
    "duration": 19,
    "start_time": "2023-05-14T15:20:31.483Z"
   },
   {
    "duration": 5,
    "start_time": "2023-05-14T15:20:32.182Z"
   },
   {
    "duration": 5,
    "start_time": "2023-05-14T15:20:32.485Z"
   },
   {
    "duration": 4,
    "start_time": "2023-05-14T15:20:32.782Z"
   },
   {
    "duration": 5,
    "start_time": "2023-05-14T15:20:33.093Z"
   },
   {
    "duration": 890,
    "start_time": "2023-05-14T15:20:33.245Z"
   },
   {
    "duration": 32,
    "start_time": "2023-05-14T15:21:11.193Z"
   },
   {
    "duration": 5,
    "start_time": "2023-05-14T15:21:11.660Z"
   },
   {
    "duration": 4,
    "start_time": "2023-05-14T15:21:11.963Z"
   },
   {
    "duration": 4,
    "start_time": "2023-05-14T15:21:12.257Z"
   },
   {
    "duration": 7,
    "start_time": "2023-05-14T15:21:12.572Z"
   },
   {
    "duration": 789,
    "start_time": "2023-05-14T15:21:12.732Z"
   },
   {
    "duration": 21,
    "start_time": "2023-05-14T15:21:28.041Z"
   },
   {
    "duration": 16,
    "start_time": "2023-05-14T15:21:28.606Z"
   },
   {
    "duration": 4,
    "start_time": "2023-05-14T15:21:28.953Z"
   },
   {
    "duration": 5,
    "start_time": "2023-05-14T15:21:29.294Z"
   },
   {
    "duration": 8,
    "start_time": "2023-05-14T15:21:29.631Z"
   },
   {
    "duration": 862,
    "start_time": "2023-05-14T15:21:29.828Z"
   },
   {
    "duration": 19,
    "start_time": "2023-05-14T15:21:39.552Z"
   },
   {
    "duration": 9,
    "start_time": "2023-05-14T15:21:40.137Z"
   },
   {
    "duration": 6,
    "start_time": "2023-05-14T15:21:40.446Z"
   },
   {
    "duration": 4,
    "start_time": "2023-05-14T15:21:40.746Z"
   },
   {
    "duration": 4,
    "start_time": "2023-05-14T15:21:41.063Z"
   },
   {
    "duration": 700,
    "start_time": "2023-05-14T15:21:41.261Z"
   },
   {
    "duration": 4,
    "start_time": "2023-05-14T15:21:52.967Z"
   },
   {
    "duration": 855,
    "start_time": "2023-05-14T15:21:52.973Z"
   },
   {
    "duration": 36,
    "start_time": "2023-05-14T15:21:53.830Z"
   },
   {
    "duration": 21,
    "start_time": "2023-05-14T15:21:53.869Z"
   },
   {
    "duration": 36,
    "start_time": "2023-05-14T15:21:53.893Z"
   },
   {
    "duration": 23,
    "start_time": "2023-05-14T15:21:53.931Z"
   },
   {
    "duration": 30,
    "start_time": "2023-05-14T15:21:53.956Z"
   },
   {
    "duration": 49,
    "start_time": "2023-05-14T15:21:53.990Z"
   },
   {
    "duration": 6,
    "start_time": "2023-05-14T15:21:54.048Z"
   },
   {
    "duration": 11,
    "start_time": "2023-05-14T15:21:54.056Z"
   },
   {
    "duration": 5,
    "start_time": "2023-05-14T15:21:54.069Z"
   },
   {
    "duration": 4,
    "start_time": "2023-05-14T15:21:54.077Z"
   },
   {
    "duration": 45,
    "start_time": "2023-05-14T15:21:54.083Z"
   },
   {
    "duration": 151,
    "start_time": "2023-05-14T15:21:54.131Z"
   },
   {
    "duration": 31,
    "start_time": "2023-05-14T15:21:54.284Z"
   },
   {
    "duration": 10,
    "start_time": "2023-05-14T15:21:54.316Z"
   },
   {
    "duration": 18,
    "start_time": "2023-05-14T15:21:54.334Z"
   },
   {
    "duration": 14,
    "start_time": "2023-05-14T15:21:54.354Z"
   },
   {
    "duration": 20,
    "start_time": "2023-05-14T15:21:54.370Z"
   },
   {
    "duration": 10,
    "start_time": "2023-05-14T15:21:54.392Z"
   },
   {
    "duration": 1060,
    "start_time": "2023-05-14T15:21:54.404Z"
   },
   {
    "duration": 833,
    "start_time": "2023-05-14T15:21:55.466Z"
   },
   {
    "duration": 893,
    "start_time": "2023-05-14T15:21:56.300Z"
   },
   {
    "duration": 479,
    "start_time": "2023-05-14T15:21:57.195Z"
   },
   {
    "duration": 18,
    "start_time": "2023-05-14T15:21:57.676Z"
   },
   {
    "duration": 21,
    "start_time": "2023-05-14T15:21:57.696Z"
   },
   {
    "duration": 16,
    "start_time": "2023-05-14T15:21:57.721Z"
   },
   {
    "duration": 8,
    "start_time": "2023-05-14T15:21:57.744Z"
   },
   {
    "duration": 15,
    "start_time": "2023-05-14T15:21:57.753Z"
   },
   {
    "duration": 707,
    "start_time": "2023-05-14T15:21:57.769Z"
   },
   {
    "duration": 4,
    "start_time": "2023-05-14T15:22:31.458Z"
   },
   {
    "duration": 802,
    "start_time": "2023-05-14T15:22:31.464Z"
   },
   {
    "duration": 19,
    "start_time": "2023-05-14T15:22:32.267Z"
   },
   {
    "duration": 208,
    "start_time": "2023-05-14T15:22:32.287Z"
   },
   {
    "duration": 51,
    "start_time": "2023-05-14T15:22:32.497Z"
   },
   {
    "duration": 16,
    "start_time": "2023-05-14T15:22:32.551Z"
   },
   {
    "duration": 25,
    "start_time": "2023-05-14T15:22:32.569Z"
   },
   {
    "duration": 35,
    "start_time": "2023-05-14T15:22:32.596Z"
   },
   {
    "duration": 11,
    "start_time": "2023-05-14T15:22:32.634Z"
   },
   {
    "duration": 20,
    "start_time": "2023-05-14T15:22:32.647Z"
   },
   {
    "duration": 4,
    "start_time": "2023-05-14T15:22:32.673Z"
   },
   {
    "duration": 10,
    "start_time": "2023-05-14T15:22:32.679Z"
   },
   {
    "duration": 35,
    "start_time": "2023-05-14T15:22:32.692Z"
   },
   {
    "duration": 149,
    "start_time": "2023-05-14T15:22:32.728Z"
   },
   {
    "duration": 32,
    "start_time": "2023-05-14T15:22:32.883Z"
   },
   {
    "duration": 6,
    "start_time": "2023-05-14T15:22:32.919Z"
   },
   {
    "duration": 19,
    "start_time": "2023-05-14T15:22:32.927Z"
   },
   {
    "duration": 15,
    "start_time": "2023-05-14T15:22:32.948Z"
   },
   {
    "duration": 13,
    "start_time": "2023-05-14T15:22:32.965Z"
   },
   {
    "duration": 11,
    "start_time": "2023-05-14T15:22:32.981Z"
   },
   {
    "duration": 721,
    "start_time": "2023-05-14T15:22:32.994Z"
   },
   {
    "duration": 700,
    "start_time": "2023-05-14T15:22:33.720Z"
   },
   {
    "duration": 844,
    "start_time": "2023-05-14T15:22:34.421Z"
   },
   {
    "duration": 429,
    "start_time": "2023-05-14T15:22:35.267Z"
   },
   {
    "duration": 13,
    "start_time": "2023-05-14T15:22:35.698Z"
   },
   {
    "duration": 10,
    "start_time": "2023-05-14T15:22:35.716Z"
   },
   {
    "duration": 6,
    "start_time": "2023-05-14T15:22:35.733Z"
   },
   {
    "duration": 19,
    "start_time": "2023-05-14T15:22:35.741Z"
   },
   {
    "duration": 970,
    "start_time": "2023-05-14T15:22:35.762Z"
   },
   {
    "duration": 11,
    "start_time": "2023-05-14T15:22:44.709Z"
   },
   {
    "duration": 753,
    "start_time": "2023-05-14T15:22:44.723Z"
   },
   {
    "duration": 41,
    "start_time": "2023-05-14T15:22:45.478Z"
   },
   {
    "duration": 28,
    "start_time": "2023-05-14T15:22:45.526Z"
   },
   {
    "duration": 30,
    "start_time": "2023-05-14T15:22:45.556Z"
   },
   {
    "duration": 20,
    "start_time": "2023-05-14T15:22:45.588Z"
   },
   {
    "duration": 29,
    "start_time": "2023-05-14T15:22:45.612Z"
   },
   {
    "duration": 21,
    "start_time": "2023-05-14T15:22:45.646Z"
   },
   {
    "duration": 4,
    "start_time": "2023-05-14T15:22:45.668Z"
   },
   {
    "duration": 7,
    "start_time": "2023-05-14T15:22:45.674Z"
   },
   {
    "duration": 4,
    "start_time": "2023-05-14T15:22:45.683Z"
   },
   {
    "duration": 32,
    "start_time": "2023-05-14T15:22:45.689Z"
   },
   {
    "duration": 32,
    "start_time": "2023-05-14T15:22:45.723Z"
   },
   {
    "duration": 113,
    "start_time": "2023-05-14T15:22:45.757Z"
   },
   {
    "duration": 19,
    "start_time": "2023-05-14T15:22:45.872Z"
   },
   {
    "duration": 19,
    "start_time": "2023-05-14T15:22:45.893Z"
   },
   {
    "duration": 19,
    "start_time": "2023-05-14T15:22:45.914Z"
   },
   {
    "duration": 13,
    "start_time": "2023-05-14T15:22:45.936Z"
   },
   {
    "duration": 12,
    "start_time": "2023-05-14T15:22:45.950Z"
   },
   {
    "duration": 9,
    "start_time": "2023-05-14T15:22:45.963Z"
   },
   {
    "duration": 711,
    "start_time": "2023-05-14T15:22:45.974Z"
   },
   {
    "duration": 862,
    "start_time": "2023-05-14T15:22:46.687Z"
   },
   {
    "duration": 745,
    "start_time": "2023-05-14T15:22:47.552Z"
   },
   {
    "duration": 463,
    "start_time": "2023-05-14T15:22:48.298Z"
   },
   {
    "duration": 15,
    "start_time": "2023-05-14T15:22:48.762Z"
   },
   {
    "duration": 9,
    "start_time": "2023-05-14T15:22:48.778Z"
   },
   {
    "duration": 7,
    "start_time": "2023-05-14T15:22:48.788Z"
   },
   {
    "duration": 5,
    "start_time": "2023-05-14T15:22:48.809Z"
   },
   {
    "duration": 18,
    "start_time": "2023-05-14T15:22:48.815Z"
   },
   {
    "duration": 841,
    "start_time": "2023-05-14T15:22:48.835Z"
   },
   {
    "duration": 4,
    "start_time": "2023-05-14T15:23:28.746Z"
   },
   {
    "duration": 699,
    "start_time": "2023-05-14T15:23:28.753Z"
   },
   {
    "duration": 20,
    "start_time": "2023-05-14T15:23:29.454Z"
   },
   {
    "duration": 38,
    "start_time": "2023-05-14T15:23:29.476Z"
   },
   {
    "duration": 34,
    "start_time": "2023-05-14T15:23:29.516Z"
   },
   {
    "duration": 14,
    "start_time": "2023-05-14T15:23:29.555Z"
   },
   {
    "duration": 23,
    "start_time": "2023-05-14T15:23:29.571Z"
   },
   {
    "duration": 37,
    "start_time": "2023-05-14T15:23:29.596Z"
   },
   {
    "duration": 7,
    "start_time": "2023-05-14T15:23:29.635Z"
   },
   {
    "duration": 23,
    "start_time": "2023-05-14T15:23:29.643Z"
   },
   {
    "duration": 11,
    "start_time": "2023-05-14T15:23:29.668Z"
   },
   {
    "duration": 5,
    "start_time": "2023-05-14T15:23:29.681Z"
   },
   {
    "duration": 29,
    "start_time": "2023-05-14T15:23:29.688Z"
   },
   {
    "duration": 122,
    "start_time": "2023-05-14T15:23:29.728Z"
   },
   {
    "duration": 26,
    "start_time": "2023-05-14T15:23:29.852Z"
   },
   {
    "duration": 4,
    "start_time": "2023-05-14T15:23:29.880Z"
   },
   {
    "duration": 30,
    "start_time": "2023-05-14T15:23:29.886Z"
   },
   {
    "duration": 6,
    "start_time": "2023-05-14T15:23:29.918Z"
   },
   {
    "duration": 11,
    "start_time": "2023-05-14T15:23:29.927Z"
   },
   {
    "duration": 12,
    "start_time": "2023-05-14T15:23:29.940Z"
   },
   {
    "duration": 739,
    "start_time": "2023-05-14T15:23:29.954Z"
   },
   {
    "duration": 869,
    "start_time": "2023-05-14T15:23:30.695Z"
   },
   {
    "duration": 752,
    "start_time": "2023-05-14T15:23:31.566Z"
   },
   {
    "duration": 669,
    "start_time": "2023-05-14T15:23:32.319Z"
   },
   {
    "duration": 29,
    "start_time": "2023-05-14T15:23:32.990Z"
   },
   {
    "duration": 0,
    "start_time": "2023-05-14T15:23:33.021Z"
   },
   {
    "duration": 0,
    "start_time": "2023-05-14T15:23:33.022Z"
   },
   {
    "duration": 0,
    "start_time": "2023-05-14T15:23:33.022Z"
   },
   {
    "duration": 0,
    "start_time": "2023-05-14T15:23:33.023Z"
   },
   {
    "duration": 0,
    "start_time": "2023-05-14T15:23:33.024Z"
   },
   {
    "duration": 3,
    "start_time": "2023-05-14T15:24:00.547Z"
   },
   {
    "duration": 763,
    "start_time": "2023-05-14T15:24:00.552Z"
   },
   {
    "duration": 26,
    "start_time": "2023-05-14T15:24:01.320Z"
   },
   {
    "duration": 36,
    "start_time": "2023-05-14T15:24:01.347Z"
   },
   {
    "duration": 44,
    "start_time": "2023-05-14T15:24:01.385Z"
   },
   {
    "duration": 35,
    "start_time": "2023-05-14T15:24:01.430Z"
   },
   {
    "duration": 61,
    "start_time": "2023-05-14T15:24:01.467Z"
   },
   {
    "duration": 22,
    "start_time": "2023-05-14T15:24:01.536Z"
   },
   {
    "duration": 24,
    "start_time": "2023-05-14T15:24:01.560Z"
   },
   {
    "duration": 39,
    "start_time": "2023-05-14T15:24:01.586Z"
   },
   {
    "duration": 68,
    "start_time": "2023-05-14T15:24:01.626Z"
   },
   {
    "duration": 57,
    "start_time": "2023-05-14T15:24:01.696Z"
   },
   {
    "duration": 106,
    "start_time": "2023-05-14T15:24:01.756Z"
   },
   {
    "duration": 133,
    "start_time": "2023-05-14T15:24:01.864Z"
   },
   {
    "duration": 32,
    "start_time": "2023-05-14T15:24:01.998Z"
   },
   {
    "duration": 40,
    "start_time": "2023-05-14T15:24:02.038Z"
   },
   {
    "duration": 76,
    "start_time": "2023-05-14T15:24:02.080Z"
   },
   {
    "duration": 20,
    "start_time": "2023-05-14T15:24:02.158Z"
   },
   {
    "duration": 20,
    "start_time": "2023-05-14T15:24:02.180Z"
   },
   {
    "duration": 18,
    "start_time": "2023-05-14T15:24:02.202Z"
   },
   {
    "duration": 774,
    "start_time": "2023-05-14T15:24:02.221Z"
   },
   {
    "duration": 829,
    "start_time": "2023-05-14T15:24:02.997Z"
   },
   {
    "duration": 694,
    "start_time": "2023-05-14T15:24:03.828Z"
   },
   {
    "duration": 432,
    "start_time": "2023-05-14T15:24:04.524Z"
   },
   {
    "duration": 4,
    "start_time": "2023-05-14T15:24:04.958Z"
   },
   {
    "duration": 15,
    "start_time": "2023-05-14T15:24:04.964Z"
   },
   {
    "duration": 11,
    "start_time": "2023-05-14T15:24:04.980Z"
   },
   {
    "duration": 9,
    "start_time": "2023-05-14T15:24:04.992Z"
   },
   {
    "duration": 921,
    "start_time": "2023-05-14T15:24:05.002Z"
   },
   {
    "duration": 19,
    "start_time": "2023-05-14T15:24:10.932Z"
   },
   {
    "duration": 800,
    "start_time": "2023-05-14T15:29:12.646Z"
   },
   {
    "duration": 883,
    "start_time": "2023-05-14T15:29:24.478Z"
   },
   {
    "duration": 669,
    "start_time": "2023-05-14T15:29:30.212Z"
   },
   {
    "duration": 62,
    "start_time": "2023-05-14T15:29:35.720Z"
   },
   {
    "duration": 11,
    "start_time": "2023-05-14T15:29:54.206Z"
   },
   {
    "duration": 768,
    "start_time": "2023-05-14T15:29:54.223Z"
   },
   {
    "duration": 40,
    "start_time": "2023-05-14T15:29:54.993Z"
   },
   {
    "duration": 17,
    "start_time": "2023-05-14T15:29:55.039Z"
   },
   {
    "duration": 22,
    "start_time": "2023-05-14T15:29:55.058Z"
   },
   {
    "duration": 14,
    "start_time": "2023-05-14T15:29:55.082Z"
   },
   {
    "duration": 34,
    "start_time": "2023-05-14T15:29:55.108Z"
   },
   {
    "duration": 21,
    "start_time": "2023-05-14T15:29:55.144Z"
   },
   {
    "duration": 5,
    "start_time": "2023-05-14T15:29:55.167Z"
   },
   {
    "duration": 6,
    "start_time": "2023-05-14T15:29:55.173Z"
   },
   {
    "duration": 5,
    "start_time": "2023-05-14T15:29:55.180Z"
   },
   {
    "duration": 28,
    "start_time": "2023-05-14T15:29:55.187Z"
   },
   {
    "duration": 27,
    "start_time": "2023-05-14T15:29:55.219Z"
   },
   {
    "duration": 134,
    "start_time": "2023-05-14T15:29:55.248Z"
   },
   {
    "duration": 43,
    "start_time": "2023-05-14T15:29:55.384Z"
   },
   {
    "duration": 9,
    "start_time": "2023-05-14T15:29:55.431Z"
   },
   {
    "duration": 10,
    "start_time": "2023-05-14T15:29:55.442Z"
   },
   {
    "duration": 6,
    "start_time": "2023-05-14T15:29:55.453Z"
   },
   {
    "duration": 12,
    "start_time": "2023-05-14T15:29:55.461Z"
   },
   {
    "duration": 9,
    "start_time": "2023-05-14T15:29:55.474Z"
   },
   {
    "duration": 877,
    "start_time": "2023-05-14T15:29:55.485Z"
   },
   {
    "duration": 688,
    "start_time": "2023-05-14T15:29:56.363Z"
   },
   {
    "duration": 813,
    "start_time": "2023-05-14T15:29:57.052Z"
   },
   {
    "duration": 432,
    "start_time": "2023-05-14T15:29:57.869Z"
   },
   {
    "duration": 6,
    "start_time": "2023-05-14T15:29:58.302Z"
   },
   {
    "duration": 7,
    "start_time": "2023-05-14T15:29:58.309Z"
   },
   {
    "duration": 8,
    "start_time": "2023-05-14T15:29:58.318Z"
   },
   {
    "duration": 17,
    "start_time": "2023-05-14T15:29:58.329Z"
   },
   {
    "duration": 688,
    "start_time": "2023-05-14T15:29:58.347Z"
   },
   {
    "duration": 16,
    "start_time": "2023-05-14T15:29:59.040Z"
   },
   {
    "duration": 3,
    "start_time": "2023-05-14T17:45:49.580Z"
   },
   {
    "duration": 802,
    "start_time": "2023-05-14T17:45:49.585Z"
   },
   {
    "duration": 34,
    "start_time": "2023-05-14T17:45:50.388Z"
   },
   {
    "duration": 27,
    "start_time": "2023-05-14T17:45:50.430Z"
   },
   {
    "duration": 18,
    "start_time": "2023-05-14T17:45:50.459Z"
   },
   {
    "duration": 17,
    "start_time": "2023-05-14T17:45:50.478Z"
   },
   {
    "duration": 47,
    "start_time": "2023-05-14T17:45:50.497Z"
   },
   {
    "duration": 18,
    "start_time": "2023-05-14T17:45:50.546Z"
   },
   {
    "duration": 4,
    "start_time": "2023-05-14T17:45:50.566Z"
   },
   {
    "duration": 7,
    "start_time": "2023-05-14T17:45:50.572Z"
   },
   {
    "duration": 7,
    "start_time": "2023-05-14T17:45:50.580Z"
   },
   {
    "duration": 4,
    "start_time": "2023-05-14T17:45:50.588Z"
   },
   {
    "duration": 42,
    "start_time": "2023-05-14T17:45:50.594Z"
   },
   {
    "duration": 123,
    "start_time": "2023-05-14T17:45:50.637Z"
   },
   {
    "duration": 17,
    "start_time": "2023-05-14T17:45:50.762Z"
   },
   {
    "duration": 11,
    "start_time": "2023-05-14T17:45:50.781Z"
   },
   {
    "duration": 30,
    "start_time": "2023-05-14T17:45:50.793Z"
   },
   {
    "duration": 7,
    "start_time": "2023-05-14T17:45:50.829Z"
   },
   {
    "duration": 11,
    "start_time": "2023-05-14T17:45:50.837Z"
   },
   {
    "duration": 9,
    "start_time": "2023-05-14T17:45:50.850Z"
   },
   {
    "duration": 893,
    "start_time": "2023-05-14T17:45:50.860Z"
   },
   {
    "duration": 721,
    "start_time": "2023-05-14T17:45:51.755Z"
   },
   {
    "duration": 1005,
    "start_time": "2023-05-14T17:45:52.478Z"
   },
   {
    "duration": 506,
    "start_time": "2023-05-14T17:45:53.485Z"
   },
   {
    "duration": 4,
    "start_time": "2023-05-14T17:45:53.993Z"
   },
   {
    "duration": 18,
    "start_time": "2023-05-14T17:45:53.999Z"
   },
   {
    "duration": 10,
    "start_time": "2023-05-14T17:45:54.018Z"
   },
   {
    "duration": 10,
    "start_time": "2023-05-14T17:45:54.033Z"
   },
   {
    "duration": 1009,
    "start_time": "2023-05-14T17:45:54.048Z"
   },
   {
    "duration": 15,
    "start_time": "2023-05-14T17:45:55.059Z"
   },
   {
    "duration": 3,
    "start_time": "2023-05-14T17:45:55.076Z"
   },
   {
    "duration": 7,
    "start_time": "2023-05-14T17:45:55.080Z"
   },
   {
    "duration": 29,
    "start_time": "2023-05-14T17:45:55.088Z"
   },
   {
    "duration": 0,
    "start_time": "2023-05-14T17:45:55.130Z"
   },
   {
    "duration": 0,
    "start_time": "2023-05-14T17:45:55.134Z"
   },
   {
    "duration": 0,
    "start_time": "2023-05-14T17:45:55.135Z"
   },
   {
    "duration": 9,
    "start_time": "2023-05-14T17:46:03.741Z"
   },
   {
    "duration": 3,
    "start_time": "2023-05-14T17:46:54.675Z"
   },
   {
    "duration": 40,
    "start_time": "2023-05-14T17:47:21.904Z"
   },
   {
    "duration": 4,
    "start_time": "2023-05-14T17:48:22.960Z"
   },
   {
    "duration": 5,
    "start_time": "2023-05-14T17:48:28.039Z"
   },
   {
    "duration": 5,
    "start_time": "2023-05-14T17:48:34.189Z"
   },
   {
    "duration": 3,
    "start_time": "2023-05-14T17:48:38.762Z"
   },
   {
    "duration": 6,
    "start_time": "2023-05-14T17:48:46.828Z"
   },
   {
    "duration": 5,
    "start_time": "2023-05-14T17:48:54.489Z"
   },
   {
    "duration": 4,
    "start_time": "2023-05-14T17:49:05.956Z"
   },
   {
    "duration": 4,
    "start_time": "2023-05-14T17:49:11.357Z"
   },
   {
    "duration": 9,
    "start_time": "2023-05-14T17:49:15.729Z"
   },
   {
    "duration": 5,
    "start_time": "2023-05-14T17:49:24.029Z"
   },
   {
    "duration": 11,
    "start_time": "2023-05-14T17:50:24.532Z"
   },
   {
    "duration": 5,
    "start_time": "2023-05-14T17:50:36.438Z"
   },
   {
    "duration": 737,
    "start_time": "2023-05-14T17:50:36.445Z"
   },
   {
    "duration": 27,
    "start_time": "2023-05-14T17:50:37.184Z"
   },
   {
    "duration": 23,
    "start_time": "2023-05-14T17:50:37.219Z"
   },
   {
    "duration": 26,
    "start_time": "2023-05-14T17:50:37.245Z"
   },
   {
    "duration": 17,
    "start_time": "2023-05-14T17:50:37.272Z"
   },
   {
    "duration": 27,
    "start_time": "2023-05-14T17:50:37.291Z"
   },
   {
    "duration": 26,
    "start_time": "2023-05-14T17:50:37.328Z"
   },
   {
    "duration": 9,
    "start_time": "2023-05-14T17:50:37.356Z"
   },
   {
    "duration": 5,
    "start_time": "2023-05-14T17:50:37.367Z"
   },
   {
    "duration": 7,
    "start_time": "2023-05-14T17:50:37.374Z"
   },
   {
    "duration": 11,
    "start_time": "2023-05-14T17:50:37.383Z"
   },
   {
    "duration": 34,
    "start_time": "2023-05-14T17:50:37.395Z"
   },
   {
    "duration": 119,
    "start_time": "2023-05-14T17:50:37.432Z"
   },
   {
    "duration": 21,
    "start_time": "2023-05-14T17:50:37.554Z"
   },
   {
    "duration": 4,
    "start_time": "2023-05-14T17:50:37.576Z"
   },
   {
    "duration": 12,
    "start_time": "2023-05-14T17:50:37.582Z"
   },
   {
    "duration": 28,
    "start_time": "2023-05-14T17:50:37.596Z"
   },
   {
    "duration": 16,
    "start_time": "2023-05-14T17:50:37.632Z"
   },
   {
    "duration": 9,
    "start_time": "2023-05-14T17:50:37.650Z"
   },
   {
    "duration": 712,
    "start_time": "2023-05-14T17:50:37.660Z"
   },
   {
    "duration": 868,
    "start_time": "2023-05-14T17:50:38.373Z"
   },
   {
    "duration": 678,
    "start_time": "2023-05-14T17:50:39.245Z"
   },
   {
    "duration": 435,
    "start_time": "2023-05-14T17:50:39.927Z"
   },
   {
    "duration": 4,
    "start_time": "2023-05-14T17:50:40.364Z"
   },
   {
    "duration": 5,
    "start_time": "2023-05-14T17:50:40.369Z"
   },
   {
    "duration": 4,
    "start_time": "2023-05-14T17:50:40.376Z"
   },
   {
    "duration": 11,
    "start_time": "2023-05-14T17:50:40.382Z"
   },
   {
    "duration": 932,
    "start_time": "2023-05-14T17:50:40.394Z"
   },
   {
    "duration": 19,
    "start_time": "2023-05-14T17:50:41.328Z"
   },
   {
    "duration": 3,
    "start_time": "2023-05-14T17:50:41.349Z"
   },
   {
    "duration": 4,
    "start_time": "2023-05-14T17:50:41.354Z"
   },
   {
    "duration": 4,
    "start_time": "2023-05-14T17:50:41.359Z"
   },
   {
    "duration": 45,
    "start_time": "2023-05-14T17:50:41.364Z"
   },
   {
    "duration": 5,
    "start_time": "2023-05-14T17:50:41.410Z"
   },
   {
    "duration": 5,
    "start_time": "2023-05-14T17:51:43.561Z"
   },
   {
    "duration": 4,
    "start_time": "2023-05-14T17:51:53.085Z"
   },
   {
    "duration": 4,
    "start_time": "2023-05-14T17:52:07.597Z"
   },
   {
    "duration": 4,
    "start_time": "2023-05-14T17:52:33.249Z"
   },
   {
    "duration": 5,
    "start_time": "2023-05-14T17:53:50.786Z"
   },
   {
    "duration": 5,
    "start_time": "2023-05-14T17:54:01.977Z"
   },
   {
    "duration": 6,
    "start_time": "2023-05-14T17:54:18.834Z"
   },
   {
    "duration": 9,
    "start_time": "2023-05-14T17:54:21.640Z"
   },
   {
    "duration": 782,
    "start_time": "2023-05-14T17:54:21.650Z"
   },
   {
    "duration": 28,
    "start_time": "2023-05-14T17:54:22.440Z"
   },
   {
    "duration": 17,
    "start_time": "2023-05-14T17:54:22.470Z"
   },
   {
    "duration": 25,
    "start_time": "2023-05-14T17:54:22.488Z"
   },
   {
    "duration": 22,
    "start_time": "2023-05-14T17:54:22.520Z"
   },
   {
    "duration": 30,
    "start_time": "2023-05-14T17:54:22.543Z"
   },
   {
    "duration": 17,
    "start_time": "2023-05-14T17:54:22.574Z"
   },
   {
    "duration": 5,
    "start_time": "2023-05-14T17:54:22.593Z"
   },
   {
    "duration": 8,
    "start_time": "2023-05-14T17:54:22.611Z"
   },
   {
    "duration": 13,
    "start_time": "2023-05-14T17:54:22.620Z"
   },
   {
    "duration": 24,
    "start_time": "2023-05-14T17:54:22.636Z"
   },
   {
    "duration": 26,
    "start_time": "2023-05-14T17:54:22.662Z"
   },
   {
    "duration": 138,
    "start_time": "2023-05-14T17:54:22.690Z"
   },
   {
    "duration": 33,
    "start_time": "2023-05-14T17:54:22.838Z"
   },
   {
    "duration": 5,
    "start_time": "2023-05-14T17:54:22.873Z"
   },
   {
    "duration": 11,
    "start_time": "2023-05-14T17:54:22.880Z"
   },
   {
    "duration": 10,
    "start_time": "2023-05-14T17:54:22.893Z"
   },
   {
    "duration": 26,
    "start_time": "2023-05-14T17:54:22.904Z"
   },
   {
    "duration": 9,
    "start_time": "2023-05-14T17:54:22.933Z"
   },
   {
    "duration": 712,
    "start_time": "2023-05-14T17:54:22.943Z"
   },
   {
    "duration": 932,
    "start_time": "2023-05-14T17:54:23.656Z"
   },
   {
    "duration": 772,
    "start_time": "2023-05-14T17:54:24.590Z"
   },
   {
    "duration": 479,
    "start_time": "2023-05-14T17:54:25.363Z"
   },
   {
    "duration": 5,
    "start_time": "2023-05-14T17:54:25.844Z"
   },
   {
    "duration": 7,
    "start_time": "2023-05-14T17:54:25.852Z"
   },
   {
    "duration": 5,
    "start_time": "2023-05-14T17:54:25.861Z"
   },
   {
    "duration": 12,
    "start_time": "2023-05-14T17:54:25.868Z"
   },
   {
    "duration": 962,
    "start_time": "2023-05-14T17:54:25.882Z"
   },
   {
    "duration": 21,
    "start_time": "2023-05-14T17:54:26.850Z"
   },
   {
    "duration": 3,
    "start_time": "2023-05-14T17:54:26.873Z"
   },
   {
    "duration": 11,
    "start_time": "2023-05-14T17:54:26.878Z"
   },
   {
    "duration": 5,
    "start_time": "2023-05-14T17:54:26.890Z"
   },
   {
    "duration": 58,
    "start_time": "2023-05-14T17:54:26.896Z"
   },
   {
    "duration": 6,
    "start_time": "2023-05-14T17:54:32.446Z"
   },
   {
    "duration": 5,
    "start_time": "2023-05-14T17:54:44.681Z"
   },
   {
    "duration": 4,
    "start_time": "2023-05-14T17:54:57.662Z"
   },
   {
    "duration": 4,
    "start_time": "2023-05-14T17:55:01.598Z"
   },
   {
    "duration": 4,
    "start_time": "2023-05-14T17:55:07.274Z"
   },
   {
    "duration": 9,
    "start_time": "2023-05-14T17:55:10.623Z"
   },
   {
    "duration": 4,
    "start_time": "2023-05-14T17:55:14.461Z"
   },
   {
    "duration": 7,
    "start_time": "2023-05-14T17:55:17.935Z"
   },
   {
    "duration": 4,
    "start_time": "2023-05-14T17:55:21.847Z"
   },
   {
    "duration": 8,
    "start_time": "2023-05-14T17:55:31.743Z"
   },
   {
    "duration": 5,
    "start_time": "2023-05-14T17:55:35.354Z"
   },
   {
    "duration": 4,
    "start_time": "2023-05-14T17:56:05.681Z"
   },
   {
    "duration": 4,
    "start_time": "2023-05-14T17:56:50.593Z"
   },
   {
    "duration": 7,
    "start_time": "2023-05-14T17:57:12.841Z"
   },
   {
    "duration": 4,
    "start_time": "2023-05-14T17:57:20.754Z"
   },
   {
    "duration": 5,
    "start_time": "2023-05-14T17:57:25.593Z"
   },
   {
    "duration": 4,
    "start_time": "2023-05-14T17:57:32.187Z"
   },
   {
    "duration": 12,
    "start_time": "2023-05-14T17:57:38.709Z"
   },
   {
    "duration": 4,
    "start_time": "2023-05-14T17:58:12.894Z"
   },
   {
    "duration": 4,
    "start_time": "2023-05-14T17:58:17.796Z"
   },
   {
    "duration": 4,
    "start_time": "2023-05-14T17:58:21.793Z"
   },
   {
    "duration": 4,
    "start_time": "2023-05-14T17:58:26.543Z"
   },
   {
    "duration": 3,
    "start_time": "2023-05-14T17:58:40.146Z"
   },
   {
    "duration": 8,
    "start_time": "2023-05-14T17:59:30.875Z"
   },
   {
    "duration": 4,
    "start_time": "2023-05-14T17:59:37.857Z"
   },
   {
    "duration": 5,
    "start_time": "2023-05-14T17:59:50.045Z"
   },
   {
    "duration": 9,
    "start_time": "2023-05-14T18:00:02.526Z"
   },
   {
    "duration": 6,
    "start_time": "2023-05-14T18:00:11.579Z"
   },
   {
    "duration": 3,
    "start_time": "2023-05-14T18:00:17.978Z"
   },
   {
    "duration": 3,
    "start_time": "2023-05-14T18:02:37.186Z"
   },
   {
    "duration": 10,
    "start_time": "2023-05-14T18:02:47.832Z"
   },
   {
    "duration": 4,
    "start_time": "2023-05-14T18:03:41.294Z"
   },
   {
    "duration": 4,
    "start_time": "2023-05-14T18:03:58.256Z"
   },
   {
    "duration": 4,
    "start_time": "2023-05-14T18:04:08.153Z"
   },
   {
    "duration": 4,
    "start_time": "2023-05-14T18:06:47.345Z"
   },
   {
    "duration": 698,
    "start_time": "2023-05-14T18:06:47.350Z"
   },
   {
    "duration": 18,
    "start_time": "2023-05-14T18:06:48.050Z"
   },
   {
    "duration": 22,
    "start_time": "2023-05-14T18:06:48.069Z"
   },
   {
    "duration": 22,
    "start_time": "2023-05-14T18:06:48.093Z"
   },
   {
    "duration": 19,
    "start_time": "2023-05-14T18:06:48.122Z"
   },
   {
    "duration": 18,
    "start_time": "2023-05-14T18:06:48.143Z"
   },
   {
    "duration": 18,
    "start_time": "2023-05-14T18:06:48.163Z"
   },
   {
    "duration": 4,
    "start_time": "2023-05-14T18:06:48.182Z"
   },
   {
    "duration": 8,
    "start_time": "2023-05-14T18:06:48.188Z"
   },
   {
    "duration": 11,
    "start_time": "2023-05-14T18:06:48.210Z"
   },
   {
    "duration": 5,
    "start_time": "2023-05-14T18:06:48.227Z"
   },
   {
    "duration": 126,
    "start_time": "2023-05-14T18:06:48.233Z"
   },
   {
    "duration": 22,
    "start_time": "2023-05-14T18:06:48.362Z"
   },
   {
    "duration": 5,
    "start_time": "2023-05-14T18:06:48.385Z"
   },
   {
    "duration": 29,
    "start_time": "2023-05-14T18:06:48.391Z"
   },
   {
    "duration": 7,
    "start_time": "2023-05-14T18:06:48.422Z"
   },
   {
    "duration": 29,
    "start_time": "2023-05-14T18:06:48.430Z"
   },
   {
    "duration": 8,
    "start_time": "2023-05-14T18:06:48.461Z"
   },
   {
    "duration": 692,
    "start_time": "2023-05-14T18:06:48.470Z"
   },
   {
    "duration": 861,
    "start_time": "2023-05-14T18:06:49.164Z"
   },
   {
    "duration": 761,
    "start_time": "2023-05-14T18:06:50.027Z"
   },
   {
    "duration": 665,
    "start_time": "2023-05-14T18:06:50.789Z"
   },
   {
    "duration": 5,
    "start_time": "2023-05-14T18:06:51.456Z"
   },
   {
    "duration": 11,
    "start_time": "2023-05-14T18:06:51.462Z"
   },
   {
    "duration": 14,
    "start_time": "2023-05-14T18:06:51.474Z"
   },
   {
    "duration": 5,
    "start_time": "2023-05-14T18:06:51.489Z"
   },
   {
    "duration": 730,
    "start_time": "2023-05-14T18:06:51.495Z"
   },
   {
    "duration": 19,
    "start_time": "2023-05-14T18:06:52.233Z"
   },
   {
    "duration": 23,
    "start_time": "2023-05-14T18:06:52.254Z"
   },
   {
    "duration": 28,
    "start_time": "2023-05-14T18:06:52.278Z"
   },
   {
    "duration": 32,
    "start_time": "2023-05-14T18:06:52.310Z"
   },
   {
    "duration": 8,
    "start_time": "2023-05-14T18:06:52.345Z"
   },
   {
    "duration": 4,
    "start_time": "2023-05-14T18:06:54.955Z"
   },
   {
    "duration": 5,
    "start_time": "2023-05-14T18:08:19.874Z"
   },
   {
    "duration": 6,
    "start_time": "2023-05-14T18:09:25.267Z"
   },
   {
    "duration": 4,
    "start_time": "2023-05-14T18:09:31.359Z"
   },
   {
    "duration": 4,
    "start_time": "2023-05-14T18:09:42.171Z"
   },
   {
    "duration": 3,
    "start_time": "2023-05-14T18:09:46.183Z"
   },
   {
    "duration": 13,
    "start_time": "2023-05-14T18:09:49.424Z"
   },
   {
    "duration": 7,
    "start_time": "2023-05-14T18:09:52.596Z"
   },
   {
    "duration": 6,
    "start_time": "2023-05-14T18:09:56.361Z"
   },
   {
    "duration": 4,
    "start_time": "2023-05-14T18:09:59.560Z"
   },
   {
    "duration": 8,
    "start_time": "2023-05-14T18:10:09.835Z"
   },
   {
    "duration": 14,
    "start_time": "2023-05-14T18:12:37.937Z"
   },
   {
    "duration": 4,
    "start_time": "2023-05-14T18:12:45.629Z"
   },
   {
    "duration": 8,
    "start_time": "2023-05-14T18:12:52.337Z"
   },
   {
    "duration": 11,
    "start_time": "2023-05-14T18:12:58.423Z"
   },
   {
    "duration": 13,
    "start_time": "2023-05-14T18:14:24.837Z"
   },
   {
    "duration": 6,
    "start_time": "2023-05-14T18:14:34.856Z"
   },
   {
    "duration": 5,
    "start_time": "2023-05-14T18:14:47.380Z"
   },
   {
    "duration": 6,
    "start_time": "2023-05-14T18:15:41.150Z"
   },
   {
    "duration": 10,
    "start_time": "2023-05-14T18:15:48.736Z"
   },
   {
    "duration": 4,
    "start_time": "2023-05-14T18:16:08.949Z"
   },
   {
    "duration": 765,
    "start_time": "2023-05-14T18:16:08.954Z"
   },
   {
    "duration": 30,
    "start_time": "2023-05-14T18:16:09.721Z"
   },
   {
    "duration": 15,
    "start_time": "2023-05-14T18:16:09.753Z"
   },
   {
    "duration": 21,
    "start_time": "2023-05-14T18:16:09.769Z"
   },
   {
    "duration": 37,
    "start_time": "2023-05-14T18:16:09.791Z"
   },
   {
    "duration": 30,
    "start_time": "2023-05-14T18:16:09.830Z"
   },
   {
    "duration": 20,
    "start_time": "2023-05-14T18:16:09.861Z"
   },
   {
    "duration": 18,
    "start_time": "2023-05-14T18:16:09.883Z"
   },
   {
    "duration": 35,
    "start_time": "2023-05-14T18:16:09.904Z"
   },
   {
    "duration": 12,
    "start_time": "2023-05-14T18:16:09.941Z"
   },
   {
    "duration": 16,
    "start_time": "2023-05-14T18:16:09.955Z"
   },
   {
    "duration": 125,
    "start_time": "2023-05-14T18:16:09.972Z"
   },
   {
    "duration": 37,
    "start_time": "2023-05-14T18:16:10.098Z"
   },
   {
    "duration": 7,
    "start_time": "2023-05-14T18:16:10.138Z"
   },
   {
    "duration": 9,
    "start_time": "2023-05-14T18:16:10.148Z"
   },
   {
    "duration": 8,
    "start_time": "2023-05-14T18:16:10.159Z"
   },
   {
    "duration": 11,
    "start_time": "2023-05-14T18:16:10.168Z"
   },
   {
    "duration": 7,
    "start_time": "2023-05-14T18:16:10.180Z"
   },
   {
    "duration": 904,
    "start_time": "2023-05-14T18:16:10.188Z"
   },
   {
    "duration": 682,
    "start_time": "2023-05-14T18:16:11.094Z"
   },
   {
    "duration": 906,
    "start_time": "2023-05-14T18:16:11.778Z"
   },
   {
    "duration": 450,
    "start_time": "2023-05-14T18:16:12.687Z"
   },
   {
    "duration": 10,
    "start_time": "2023-05-14T18:16:13.141Z"
   },
   {
    "duration": 4,
    "start_time": "2023-05-14T18:16:13.152Z"
   },
   {
    "duration": 5,
    "start_time": "2023-05-14T18:16:13.157Z"
   },
   {
    "duration": 6,
    "start_time": "2023-05-14T18:16:13.163Z"
   },
   {
    "duration": 721,
    "start_time": "2023-05-14T18:16:13.172Z"
   },
   {
    "duration": 28,
    "start_time": "2023-05-14T18:16:13.895Z"
   },
   {
    "duration": 3,
    "start_time": "2023-05-14T18:16:13.927Z"
   },
   {
    "duration": 14,
    "start_time": "2023-05-14T18:16:13.939Z"
   },
   {
    "duration": 11,
    "start_time": "2023-05-14T18:16:13.954Z"
   },
   {
    "duration": 15,
    "start_time": "2023-05-14T18:16:13.967Z"
   },
   {
    "duration": 11,
    "start_time": "2023-05-14T18:19:50.244Z"
   },
   {
    "duration": 38,
    "start_time": "2023-05-14T18:19:55.800Z"
   },
   {
    "duration": 38,
    "start_time": "2023-05-14T18:21:12.542Z"
   },
   {
    "duration": 25,
    "start_time": "2023-05-14T18:21:18.360Z"
   },
   {
    "duration": 17,
    "start_time": "2023-05-14T18:22:03.540Z"
   },
   {
    "duration": 7,
    "start_time": "2023-05-14T18:22:07.787Z"
   },
   {
    "duration": 12,
    "start_time": "2023-05-14T18:23:07.476Z"
   },
   {
    "duration": 6,
    "start_time": "2023-05-14T18:23:17.879Z"
   },
   {
    "duration": 8,
    "start_time": "2023-05-14T18:24:52.926Z"
   },
   {
    "duration": 906,
    "start_time": "2023-05-14T18:24:52.937Z"
   },
   {
    "duration": 37,
    "start_time": "2023-05-14T18:24:53.852Z"
   },
   {
    "duration": 32,
    "start_time": "2023-05-14T18:24:53.891Z"
   },
   {
    "duration": 26,
    "start_time": "2023-05-14T18:24:53.930Z"
   },
   {
    "duration": 26,
    "start_time": "2023-05-14T18:24:53.958Z"
   },
   {
    "duration": 23,
    "start_time": "2023-05-14T18:24:53.986Z"
   },
   {
    "duration": 42,
    "start_time": "2023-05-14T18:24:54.011Z"
   },
   {
    "duration": 5,
    "start_time": "2023-05-14T18:24:54.055Z"
   },
   {
    "duration": 17,
    "start_time": "2023-05-14T18:24:54.064Z"
   },
   {
    "duration": 10,
    "start_time": "2023-05-14T18:24:54.082Z"
   },
   {
    "duration": 9,
    "start_time": "2023-05-14T18:24:54.093Z"
   },
   {
    "duration": 152,
    "start_time": "2023-05-14T18:24:54.103Z"
   },
   {
    "duration": 27,
    "start_time": "2023-05-14T18:24:54.258Z"
   },
   {
    "duration": 4,
    "start_time": "2023-05-14T18:24:54.286Z"
   },
   {
    "duration": 29,
    "start_time": "2023-05-14T18:24:54.292Z"
   },
   {
    "duration": 11,
    "start_time": "2023-05-14T18:24:54.323Z"
   },
   {
    "duration": 34,
    "start_time": "2023-05-14T18:24:54.339Z"
   },
   {
    "duration": 8,
    "start_time": "2023-05-14T18:24:54.375Z"
   },
   {
    "duration": 907,
    "start_time": "2023-05-14T18:24:54.385Z"
   },
   {
    "duration": 748,
    "start_time": "2023-05-14T18:24:55.293Z"
   },
   {
    "duration": 914,
    "start_time": "2023-05-14T18:24:56.048Z"
   },
   {
    "duration": 478,
    "start_time": "2023-05-14T18:24:56.967Z"
   },
   {
    "duration": 4,
    "start_time": "2023-05-14T18:24:57.446Z"
   },
   {
    "duration": 4,
    "start_time": "2023-05-14T18:24:57.452Z"
   },
   {
    "duration": 12,
    "start_time": "2023-05-14T18:24:57.457Z"
   },
   {
    "duration": 7,
    "start_time": "2023-05-14T18:24:57.471Z"
   },
   {
    "duration": 715,
    "start_time": "2023-05-14T18:24:57.479Z"
   },
   {
    "duration": 27,
    "start_time": "2023-05-14T18:24:58.195Z"
   },
   {
    "duration": 11,
    "start_time": "2023-05-14T18:24:58.224Z"
   },
   {
    "duration": 16,
    "start_time": "2023-05-14T18:24:58.236Z"
   },
   {
    "duration": 8,
    "start_time": "2023-05-14T18:24:58.253Z"
   },
   {
    "duration": 8,
    "start_time": "2023-05-14T18:24:58.262Z"
   },
   {
    "duration": 6,
    "start_time": "2023-05-14T18:29:43.323Z"
   },
   {
    "duration": 2,
    "start_time": "2023-05-14T18:29:45.390Z"
   },
   {
    "duration": 27,
    "start_time": "2023-05-14T18:29:46.639Z"
   },
   {
    "duration": 3,
    "start_time": "2023-05-14T18:31:00.266Z"
   },
   {
    "duration": 219534,
    "start_time": "2023-05-14T18:31:01.292Z"
   },
   {
    "duration": 16,
    "start_time": "2023-05-14T18:34:42.629Z"
   },
   {
    "duration": 8,
    "start_time": "2023-05-14T18:34:43.142Z"
   },
   {
    "duration": 364008,
    "start_time": "2023-05-14T18:34:43.841Z"
   },
   {
    "duration": 68,
    "start_time": "2023-05-14T18:40:47.850Z"
   },
   {
    "duration": 5,
    "start_time": "2023-05-14T18:42:20.045Z"
   },
   {
    "duration": 3,
    "start_time": "2023-05-14T18:43:31.172Z"
   },
   {
    "duration": 3,
    "start_time": "2023-05-14T18:43:31.546Z"
   },
   {
    "duration": 2796684,
    "start_time": "2023-05-14T18:43:32.153Z"
   },
   {
    "duration": 0,
    "start_time": "2023-05-14T19:30:08.839Z"
   },
   {
    "duration": 0,
    "start_time": "2023-05-14T19:30:08.841Z"
   },
   {
    "duration": 0,
    "start_time": "2023-05-14T19:30:08.841Z"
   },
   {
    "duration": 0,
    "start_time": "2023-05-14T19:30:08.842Z"
   },
   {
    "duration": 0,
    "start_time": "2023-05-14T19:30:08.843Z"
   },
   {
    "duration": 0,
    "start_time": "2023-05-14T19:30:08.844Z"
   },
   {
    "duration": 0,
    "start_time": "2023-05-14T19:30:08.845Z"
   },
   {
    "duration": 2,
    "start_time": "2023-05-14T19:30:28.191Z"
   },
   {
    "duration": 3,
    "start_time": "2023-05-14T19:30:28.566Z"
   },
   {
    "duration": 0,
    "start_time": "2023-05-14T19:42:52.027Z"
   },
   {
    "duration": 0,
    "start_time": "2023-05-14T19:42:52.028Z"
   },
   {
    "duration": 0,
    "start_time": "2023-05-14T19:42:52.029Z"
   },
   {
    "duration": 0,
    "start_time": "2023-05-14T19:42:52.030Z"
   },
   {
    "duration": 0,
    "start_time": "2023-05-14T19:42:52.031Z"
   },
   {
    "duration": 0,
    "start_time": "2023-05-14T19:42:52.031Z"
   },
   {
    "duration": 0,
    "start_time": "2023-05-14T19:42:52.032Z"
   },
   {
    "duration": 0,
    "start_time": "2023-05-14T19:42:52.033Z"
   },
   {
    "duration": 0,
    "start_time": "2023-05-14T19:42:52.036Z"
   },
   {
    "duration": 0,
    "start_time": "2023-05-14T19:42:52.037Z"
   },
   {
    "duration": 0,
    "start_time": "2023-05-14T19:42:52.038Z"
   },
   {
    "duration": 0,
    "start_time": "2023-05-14T19:42:52.038Z"
   },
   {
    "duration": 0,
    "start_time": "2023-05-14T19:42:52.039Z"
   },
   {
    "duration": 0,
    "start_time": "2023-05-14T19:42:52.040Z"
   },
   {
    "duration": 0,
    "start_time": "2023-05-14T19:42:52.041Z"
   },
   {
    "duration": 0,
    "start_time": "2023-05-14T19:42:52.042Z"
   },
   {
    "duration": 0,
    "start_time": "2023-05-14T19:42:52.043Z"
   },
   {
    "duration": 0,
    "start_time": "2023-05-14T19:42:52.044Z"
   },
   {
    "duration": 0,
    "start_time": "2023-05-14T19:42:52.046Z"
   },
   {
    "duration": 0,
    "start_time": "2023-05-14T19:42:52.047Z"
   },
   {
    "duration": 0,
    "start_time": "2023-05-14T19:42:52.048Z"
   },
   {
    "duration": 0,
    "start_time": "2023-05-14T19:42:52.049Z"
   },
   {
    "duration": 0,
    "start_time": "2023-05-14T19:42:52.050Z"
   },
   {
    "duration": 0,
    "start_time": "2023-05-14T19:42:52.051Z"
   },
   {
    "duration": 0,
    "start_time": "2023-05-14T19:42:52.052Z"
   },
   {
    "duration": 0,
    "start_time": "2023-05-14T19:42:52.054Z"
   },
   {
    "duration": 0,
    "start_time": "2023-05-14T19:42:52.055Z"
   },
   {
    "duration": 0,
    "start_time": "2023-05-14T19:42:52.056Z"
   },
   {
    "duration": 0,
    "start_time": "2023-05-14T19:42:52.057Z"
   },
   {
    "duration": 0,
    "start_time": "2023-05-14T19:42:52.058Z"
   },
   {
    "duration": 0,
    "start_time": "2023-05-14T19:42:52.059Z"
   },
   {
    "duration": 0,
    "start_time": "2023-05-14T19:42:52.060Z"
   },
   {
    "duration": 0,
    "start_time": "2023-05-14T19:42:52.062Z"
   },
   {
    "duration": 0,
    "start_time": "2023-05-14T19:42:52.063Z"
   },
   {
    "duration": 3,
    "start_time": "2023-05-14T19:42:55.895Z"
   },
   {
    "duration": 714,
    "start_time": "2023-05-14T19:42:58.623Z"
   },
   {
    "duration": 21,
    "start_time": "2023-05-14T19:42:59.344Z"
   },
   {
    "duration": 16,
    "start_time": "2023-05-14T19:42:59.367Z"
   },
   {
    "duration": 47,
    "start_time": "2023-05-14T19:42:59.385Z"
   },
   {
    "duration": 17,
    "start_time": "2023-05-14T19:42:59.439Z"
   },
   {
    "duration": 20,
    "start_time": "2023-05-14T19:42:59.458Z"
   },
   {
    "duration": 22,
    "start_time": "2023-05-14T19:42:59.500Z"
   },
   {
    "duration": 5,
    "start_time": "2023-05-14T19:43:00.241Z"
   },
   {
    "duration": 5,
    "start_time": "2023-05-14T19:43:00.399Z"
   },
   {
    "duration": 5,
    "start_time": "2023-05-14T19:43:00.688Z"
   },
   {
    "duration": 4,
    "start_time": "2023-05-14T19:43:01.152Z"
   },
   {
    "duration": 120,
    "start_time": "2023-05-14T19:43:01.771Z"
   },
   {
    "duration": 21,
    "start_time": "2023-05-14T19:43:01.931Z"
   },
   {
    "duration": 6,
    "start_time": "2023-05-14T19:43:02.591Z"
   },
   {
    "duration": 10,
    "start_time": "2023-05-14T19:43:02.741Z"
   },
   {
    "duration": 6,
    "start_time": "2023-05-14T19:43:02.881Z"
   },
   {
    "duration": 9,
    "start_time": "2023-05-14T19:43:03.353Z"
   },
   {
    "duration": 8,
    "start_time": "2023-05-14T19:43:03.533Z"
   },
   {
    "duration": 662,
    "start_time": "2023-05-14T19:43:04.528Z"
   },
   {
    "duration": 800,
    "start_time": "2023-05-14T19:43:05.191Z"
   },
   {
    "duration": 700,
    "start_time": "2023-05-14T19:43:05.993Z"
   },
   {
    "duration": 566,
    "start_time": "2023-05-14T19:43:06.694Z"
   },
   {
    "duration": 4,
    "start_time": "2023-05-14T19:43:07.262Z"
   },
   {
    "duration": 9,
    "start_time": "2023-05-14T19:43:07.267Z"
   },
   {
    "duration": 4,
    "start_time": "2023-05-14T19:43:07.373Z"
   },
   {
    "duration": 4,
    "start_time": "2023-05-14T19:43:07.701Z"
   },
   {
    "duration": 663,
    "start_time": "2023-05-14T19:43:07.896Z"
   },
   {
    "duration": 17,
    "start_time": "2023-05-14T19:43:08.560Z"
   },
   {
    "duration": 3,
    "start_time": "2023-05-14T19:43:10.289Z"
   },
   {
    "duration": 2,
    "start_time": "2023-05-14T19:43:11.691Z"
   },
   {
    "duration": 6,
    "start_time": "2023-05-14T19:43:12.415Z"
   },
   {
    "duration": 7,
    "start_time": "2023-05-14T19:43:13.941Z"
   },
   {
    "duration": 2,
    "start_time": "2023-05-14T19:43:16.456Z"
   },
   {
    "duration": 4,
    "start_time": "2023-05-14T19:43:17.127Z"
   },
   {
    "duration": 3,
    "start_time": "2023-05-14T19:43:17.732Z"
   },
   {
    "duration": 699152,
    "start_time": "2023-05-14T19:43:18.381Z"
   },
   {
    "duration": 0,
    "start_time": "2023-05-14T19:54:57.535Z"
   },
   {
    "duration": 6,
    "start_time": "2023-05-14T19:55:11.334Z"
   },
   {
    "duration": 4,
    "start_time": "2023-05-14T19:55:12.454Z"
   },
   {
    "duration": 3,
    "start_time": "2023-05-14T19:55:13.576Z"
   },
   {
    "duration": 3,
    "start_time": "2023-05-14T19:55:14.420Z"
   },
   {
    "duration": 363923,
    "start_time": "2023-05-14T19:55:15.054Z"
   },
   {
    "duration": 3,
    "start_time": "2023-05-14T20:05:12.867Z"
   },
   {
    "duration": 677,
    "start_time": "2023-05-14T20:05:12.873Z"
   },
   {
    "duration": 19,
    "start_time": "2023-05-14T20:05:13.551Z"
   },
   {
    "duration": 23,
    "start_time": "2023-05-14T20:05:13.572Z"
   },
   {
    "duration": 20,
    "start_time": "2023-05-14T20:05:13.608Z"
   },
   {
    "duration": 12,
    "start_time": "2023-05-14T20:05:13.629Z"
   },
   {
    "duration": 17,
    "start_time": "2023-05-14T20:05:13.643Z"
   },
   {
    "duration": 19,
    "start_time": "2023-05-14T20:05:13.662Z"
   },
   {
    "duration": 5,
    "start_time": "2023-05-14T20:05:13.706Z"
   },
   {
    "duration": 9,
    "start_time": "2023-05-14T20:05:13.712Z"
   },
   {
    "duration": 8,
    "start_time": "2023-05-14T20:05:13.722Z"
   },
   {
    "duration": 3,
    "start_time": "2023-05-14T20:05:13.732Z"
   },
   {
    "duration": 130,
    "start_time": "2023-05-14T20:05:13.737Z"
   },
   {
    "duration": 18,
    "start_time": "2023-05-14T20:05:13.871Z"
   },
   {
    "duration": 4,
    "start_time": "2023-05-14T20:05:13.890Z"
   },
   {
    "duration": 8,
    "start_time": "2023-05-14T20:05:13.915Z"
   },
   {
    "duration": 8,
    "start_time": "2023-05-14T20:05:13.925Z"
   },
   {
    "duration": 11,
    "start_time": "2023-05-14T20:05:13.935Z"
   },
   {
    "duration": 9,
    "start_time": "2023-05-14T20:05:13.947Z"
   },
   {
    "duration": 827,
    "start_time": "2023-05-14T20:05:13.958Z"
   },
   {
    "duration": 623,
    "start_time": "2023-05-14T20:05:14.787Z"
   },
   {
    "duration": 757,
    "start_time": "2023-05-14T20:05:15.415Z"
   },
   {
    "duration": 399,
    "start_time": "2023-05-14T20:05:16.173Z"
   },
   {
    "duration": 4,
    "start_time": "2023-05-14T20:05:16.573Z"
   },
   {
    "duration": 5,
    "start_time": "2023-05-14T20:05:16.578Z"
   },
   {
    "duration": 3,
    "start_time": "2023-05-14T20:05:16.585Z"
   },
   {
    "duration": 17,
    "start_time": "2023-05-14T20:05:16.590Z"
   },
   {
    "duration": 603,
    "start_time": "2023-05-14T20:05:16.616Z"
   },
   {
    "duration": 13,
    "start_time": "2023-05-14T20:05:17.221Z"
   },
   {
    "duration": 3,
    "start_time": "2023-05-14T20:05:17.235Z"
   },
   {
    "duration": 6,
    "start_time": "2023-05-14T20:05:17.239Z"
   },
   {
    "duration": 4,
    "start_time": "2023-05-14T20:05:17.246Z"
   },
   {
    "duration": 7,
    "start_time": "2023-05-14T20:06:16.452Z"
   },
   {
    "duration": 10,
    "start_time": "2023-05-14T20:06:17.171Z"
   },
   {
    "duration": 6,
    "start_time": "2023-05-14T20:06:33.866Z"
   },
   {
    "duration": 127,
    "start_time": "2023-05-14T20:06:36.618Z"
   },
   {
    "duration": 10,
    "start_time": "2023-05-14T20:06:43.893Z"
   },
   {
    "duration": 13,
    "start_time": "2023-05-14T20:09:57.354Z"
   },
   {
    "duration": 20,
    "start_time": "2023-05-14T20:10:04.705Z"
   },
   {
    "duration": 13,
    "start_time": "2023-05-14T20:10:27.972Z"
   },
   {
    "duration": 23,
    "start_time": "2023-05-14T20:10:42.617Z"
   },
   {
    "duration": 724,
    "start_time": "2023-05-14T20:12:57.565Z"
   },
   {
    "duration": 4,
    "start_time": "2023-05-14T20:13:11.218Z"
   },
   {
    "duration": 822,
    "start_time": "2023-05-14T20:13:11.224Z"
   },
   {
    "duration": 17,
    "start_time": "2023-05-14T20:13:12.048Z"
   },
   {
    "duration": 15,
    "start_time": "2023-05-14T20:13:12.066Z"
   },
   {
    "duration": 37,
    "start_time": "2023-05-14T20:13:12.083Z"
   },
   {
    "duration": 19,
    "start_time": "2023-05-14T20:13:12.122Z"
   },
   {
    "duration": 16,
    "start_time": "2023-05-14T20:13:12.143Z"
   },
   {
    "duration": 15,
    "start_time": "2023-05-14T20:13:12.161Z"
   },
   {
    "duration": 4,
    "start_time": "2023-05-14T20:13:12.177Z"
   },
   {
    "duration": 11,
    "start_time": "2023-05-14T20:13:12.182Z"
   },
   {
    "duration": 23,
    "start_time": "2023-05-14T20:13:12.194Z"
   },
   {
    "duration": 12,
    "start_time": "2023-05-14T20:13:12.219Z"
   },
   {
    "duration": 108,
    "start_time": "2023-05-14T20:13:12.232Z"
   },
   {
    "duration": 18,
    "start_time": "2023-05-14T20:13:12.343Z"
   },
   {
    "duration": 4,
    "start_time": "2023-05-14T20:13:12.362Z"
   },
   {
    "duration": 8,
    "start_time": "2023-05-14T20:13:12.368Z"
   },
   {
    "duration": 8,
    "start_time": "2023-05-14T20:13:12.378Z"
   },
   {
    "duration": 35,
    "start_time": "2023-05-14T20:13:12.388Z"
   },
   {
    "duration": 10,
    "start_time": "2023-05-14T20:13:12.425Z"
   },
   {
    "duration": 688,
    "start_time": "2023-05-14T20:13:12.436Z"
   },
   {
    "duration": 596,
    "start_time": "2023-05-14T20:13:13.126Z"
   },
   {
    "duration": 771,
    "start_time": "2023-05-14T20:13:13.724Z"
   },
   {
    "duration": 396,
    "start_time": "2023-05-14T20:13:14.497Z"
   },
   {
    "duration": 4,
    "start_time": "2023-05-14T20:13:14.894Z"
   },
   {
    "duration": 4,
    "start_time": "2023-05-14T20:13:14.905Z"
   },
   {
    "duration": 24,
    "start_time": "2023-05-14T20:13:14.911Z"
   },
   {
    "duration": 10,
    "start_time": "2023-05-14T20:13:14.936Z"
   },
   {
    "duration": 751,
    "start_time": "2023-05-14T20:13:14.947Z"
   },
   {
    "duration": 35,
    "start_time": "2023-05-14T20:13:15.699Z"
   },
   {
    "duration": 2,
    "start_time": "2023-05-14T20:13:15.737Z"
   },
   {
    "duration": 4,
    "start_time": "2023-05-14T20:13:15.741Z"
   },
   {
    "duration": 5,
    "start_time": "2023-05-14T20:13:15.746Z"
   },
   {
    "duration": 9,
    "start_time": "2023-05-14T20:13:15.752Z"
   },
   {
    "duration": 4,
    "start_time": "2023-05-14T20:13:15.762Z"
   },
   {
    "duration": 2,
    "start_time": "2023-05-14T20:13:21.297Z"
   },
   {
    "duration": 3,
    "start_time": "2023-05-14T20:13:21.825Z"
   },
   {
    "duration": 99975,
    "start_time": "2023-05-14T20:13:22.896Z"
   },
   {
    "duration": 0,
    "start_time": "2023-05-14T20:15:02.873Z"
   },
   {
    "duration": 26,
    "start_time": "2023-05-14T20:15:04.132Z"
   },
   {
    "duration": 5,
    "start_time": "2023-05-14T20:17:52.496Z"
   },
   {
    "duration": 7,
    "start_time": "2023-05-14T20:19:48.786Z"
   },
   {
    "duration": 7,
    "start_time": "2023-05-14T20:20:07.352Z"
   },
   {
    "duration": 6,
    "start_time": "2023-05-14T20:21:46.652Z"
   },
   {
    "duration": 15,
    "start_time": "2023-05-14T20:23:10.369Z"
   },
   {
    "duration": 8,
    "start_time": "2023-05-14T20:23:37.240Z"
   },
   {
    "duration": 4,
    "start_time": "2023-05-14T20:26:12.090Z"
   },
   {
    "duration": 744,
    "start_time": "2023-05-14T20:26:12.097Z"
   },
   {
    "duration": 19,
    "start_time": "2023-05-14T20:26:12.843Z"
   },
   {
    "duration": 16,
    "start_time": "2023-05-14T20:26:12.864Z"
   },
   {
    "duration": 51,
    "start_time": "2023-05-14T20:26:12.881Z"
   },
   {
    "duration": 13,
    "start_time": "2023-05-14T20:26:12.934Z"
   },
   {
    "duration": 19,
    "start_time": "2023-05-14T20:26:12.948Z"
   },
   {
    "duration": 17,
    "start_time": "2023-05-14T20:26:12.968Z"
   },
   {
    "duration": 4,
    "start_time": "2023-05-14T20:26:12.987Z"
   },
   {
    "duration": 15,
    "start_time": "2023-05-14T20:26:12.992Z"
   },
   {
    "duration": 8,
    "start_time": "2023-05-14T20:26:13.012Z"
   },
   {
    "duration": 8,
    "start_time": "2023-05-14T20:26:13.022Z"
   },
   {
    "duration": 113,
    "start_time": "2023-05-14T20:26:13.032Z"
   },
   {
    "duration": 16,
    "start_time": "2023-05-14T20:26:13.147Z"
   },
   {
    "duration": 3,
    "start_time": "2023-05-14T20:26:13.166Z"
   },
   {
    "duration": 11,
    "start_time": "2023-05-14T20:26:13.170Z"
   },
   {
    "duration": 6,
    "start_time": "2023-05-14T20:26:13.182Z"
   },
   {
    "duration": 16,
    "start_time": "2023-05-14T20:26:13.206Z"
   },
   {
    "duration": 9,
    "start_time": "2023-05-14T20:26:13.224Z"
   },
   {
    "duration": 645,
    "start_time": "2023-05-14T20:26:13.234Z"
   },
   {
    "duration": 839,
    "start_time": "2023-05-14T20:26:13.881Z"
   },
   {
    "duration": 634,
    "start_time": "2023-05-14T20:26:14.728Z"
   },
   {
    "duration": 410,
    "start_time": "2023-05-14T20:26:15.363Z"
   },
   {
    "duration": 4,
    "start_time": "2023-05-14T20:26:15.774Z"
   },
   {
    "duration": 9,
    "start_time": "2023-05-14T20:26:15.780Z"
   },
   {
    "duration": 5,
    "start_time": "2023-05-14T20:26:15.790Z"
   },
   {
    "duration": 11,
    "start_time": "2023-05-14T20:26:15.796Z"
   },
   {
    "duration": 831,
    "start_time": "2023-05-14T20:26:15.808Z"
   },
   {
    "duration": 15,
    "start_time": "2023-05-14T20:26:16.641Z"
   },
   {
    "duration": 3,
    "start_time": "2023-05-14T20:26:16.657Z"
   },
   {
    "duration": 22,
    "start_time": "2023-05-14T20:26:16.661Z"
   },
   {
    "duration": 4,
    "start_time": "2023-05-14T20:26:16.685Z"
   },
   {
    "duration": 9,
    "start_time": "2023-05-14T20:26:16.690Z"
   },
   {
    "duration": 8,
    "start_time": "2023-05-14T20:26:16.700Z"
   },
   {
    "duration": 17,
    "start_time": "2023-05-14T20:26:16.711Z"
   },
   {
    "duration": 3,
    "start_time": "2023-05-14T20:26:20.687Z"
   },
   {
    "duration": 1179830,
    "start_time": "2023-05-14T20:26:27.600Z"
   },
   {
    "duration": 3,
    "start_time": "2023-05-14T20:47:47.133Z"
   },
   {
    "duration": 12,
    "start_time": "2023-05-14T20:47:47.589Z"
   },
   {
    "duration": 627736,
    "start_time": "2023-05-14T20:47:49.089Z"
   },
   {
    "duration": 5,
    "start_time": "2023-05-14T20:58:17.719Z"
   },
   {
    "duration": 6,
    "start_time": "2023-05-14T20:58:18.210Z"
   },
   {
    "duration": 31639,
    "start_time": "2023-05-14T20:58:18.628Z"
   },
   {
    "duration": 5,
    "start_time": "2023-05-14T20:58:50.269Z"
   },
   {
    "duration": 3,
    "start_time": "2023-05-14T20:59:10.033Z"
   },
   {
    "duration": 9,
    "start_time": "2023-05-14T20:59:11.630Z"
   },
   {
    "duration": 3,
    "start_time": "2023-05-14T21:00:21.493Z"
   },
   {
    "duration": 20,
    "start_time": "2023-05-14T21:00:22.303Z"
   },
   {
    "duration": 2,
    "start_time": "2023-05-14T21:00:53.854Z"
   },
   {
    "duration": 4,
    "start_time": "2023-05-14T21:00:54.853Z"
   },
   {
    "duration": 31825,
    "start_time": "2023-05-14T21:00:56.083Z"
   },
   {
    "duration": 6,
    "start_time": "2023-05-14T21:02:09.227Z"
   },
   {
    "duration": 3,
    "start_time": "2023-05-14T21:02:17.926Z"
   },
   {
    "duration": 3,
    "start_time": "2023-05-14T21:02:19.796Z"
   },
   {
    "duration": 19747,
    "start_time": "2023-05-14T21:02:21.767Z"
   },
   {
    "duration": 5,
    "start_time": "2023-05-14T21:02:52.640Z"
   },
   {
    "duration": 4,
    "start_time": "2023-05-14T21:03:23.953Z"
   },
   {
    "duration": 4,
    "start_time": "2023-05-14T21:04:02.584Z"
   },
   {
    "duration": 2,
    "start_time": "2023-05-14T21:04:21.387Z"
   },
   {
    "duration": 3,
    "start_time": "2023-05-14T21:04:24.566Z"
   },
   {
    "duration": 65149,
    "start_time": "2023-05-14T21:04:25.307Z"
   },
   {
    "duration": 5,
    "start_time": "2023-05-14T21:05:30.457Z"
   },
   {
    "duration": 67,
    "start_time": "2023-05-14T21:07:52.202Z"
   },
   {
    "duration": 5,
    "start_time": "2023-05-14T21:07:58.383Z"
   },
   {
    "duration": 4,
    "start_time": "2023-05-14T21:09:04.260Z"
   },
   {
    "duration": 716,
    "start_time": "2023-05-14T21:09:04.265Z"
   },
   {
    "duration": 26,
    "start_time": "2023-05-14T21:09:04.982Z"
   },
   {
    "duration": 23,
    "start_time": "2023-05-14T21:09:05.010Z"
   },
   {
    "duration": 18,
    "start_time": "2023-05-14T21:09:05.036Z"
   },
   {
    "duration": 12,
    "start_time": "2023-05-14T21:09:05.055Z"
   },
   {
    "duration": 17,
    "start_time": "2023-05-14T21:09:05.068Z"
   },
   {
    "duration": 39,
    "start_time": "2023-05-14T21:09:05.087Z"
   },
   {
    "duration": 10,
    "start_time": "2023-05-14T21:09:05.127Z"
   },
   {
    "duration": 7,
    "start_time": "2023-05-14T21:09:05.138Z"
   },
   {
    "duration": 14,
    "start_time": "2023-05-14T21:09:05.147Z"
   },
   {
    "duration": 9,
    "start_time": "2023-05-14T21:09:05.163Z"
   },
   {
    "duration": 125,
    "start_time": "2023-05-14T21:09:05.174Z"
   },
   {
    "duration": 24,
    "start_time": "2023-05-14T21:09:05.302Z"
   },
   {
    "duration": 5,
    "start_time": "2023-05-14T21:09:05.331Z"
   },
   {
    "duration": 13,
    "start_time": "2023-05-14T21:09:05.338Z"
   },
   {
    "duration": 6,
    "start_time": "2023-05-14T21:09:05.353Z"
   },
   {
    "duration": 14,
    "start_time": "2023-05-14T21:09:05.360Z"
   },
   {
    "duration": 7,
    "start_time": "2023-05-14T21:09:05.376Z"
   },
   {
    "duration": 812,
    "start_time": "2023-05-14T21:09:05.384Z"
   },
   {
    "duration": 690,
    "start_time": "2023-05-14T21:09:06.198Z"
   },
   {
    "duration": 816,
    "start_time": "2023-05-14T21:09:06.890Z"
   },
   {
    "duration": 416,
    "start_time": "2023-05-14T21:09:07.707Z"
   },
   {
    "duration": 9,
    "start_time": "2023-05-14T21:09:08.126Z"
   },
   {
    "duration": 5,
    "start_time": "2023-05-14T21:09:08.137Z"
   },
   {
    "duration": 8,
    "start_time": "2023-05-14T21:09:08.144Z"
   },
   {
    "duration": 13,
    "start_time": "2023-05-14T21:09:08.153Z"
   },
   {
    "duration": 622,
    "start_time": "2023-05-14T21:09:08.168Z"
   },
   {
    "duration": 25,
    "start_time": "2023-05-14T21:09:08.792Z"
   },
   {
    "duration": 4,
    "start_time": "2023-05-14T21:09:08.821Z"
   },
   {
    "duration": 10,
    "start_time": "2023-05-14T21:09:08.826Z"
   },
   {
    "duration": 4,
    "start_time": "2023-05-14T21:09:08.837Z"
   },
   {
    "duration": 9,
    "start_time": "2023-05-14T21:09:10.584Z"
   },
   {
    "duration": 6,
    "start_time": "2023-05-14T21:09:14.504Z"
   },
   {
    "duration": 3,
    "start_time": "2023-05-14T21:09:18.125Z"
   },
   {
    "duration": 3,
    "start_time": "2023-05-14T21:09:19.385Z"
   },
   {
    "duration": 22,
    "start_time": "2023-05-14T21:09:20.344Z"
   },
   {
    "duration": 3,
    "start_time": "2023-05-14T21:09:54.393Z"
   },
   {
    "duration": 3,
    "start_time": "2023-05-14T21:09:55.170Z"
   },
   {
    "duration": 4043,
    "start_time": "2023-05-14T21:09:55.483Z"
   },
   {
    "duration": 7,
    "start_time": "2023-05-14T21:09:59.528Z"
   },
   {
    "duration": 4,
    "start_time": "2023-05-14T21:10:37.817Z"
   },
   {
    "duration": 3,
    "start_time": "2023-05-14T21:10:38.703Z"
   },
   {
    "duration": 2,
    "start_time": "2023-05-14T21:10:39.144Z"
   },
   {
    "duration": 9,
    "start_time": "2023-05-14T21:10:40.070Z"
   },
   {
    "duration": 2,
    "start_time": "2023-05-14T21:10:40.379Z"
   },
   {
    "duration": 3,
    "start_time": "2023-05-14T21:10:44.104Z"
   },
   {
    "duration": 3,
    "start_time": "2023-05-14T21:10:44.866Z"
   },
   {
    "duration": 3968,
    "start_time": "2023-05-14T21:10:45.398Z"
   },
   {
    "duration": 6,
    "start_time": "2023-05-14T21:10:49.368Z"
   },
   {
    "duration": 3,
    "start_time": "2023-05-14T21:12:40.238Z"
   },
   {
    "duration": 4,
    "start_time": "2023-05-14T21:12:42.210Z"
   },
   {
    "duration": 235606,
    "start_time": "2023-05-14T21:12:42.607Z"
   },
   {
    "duration": 5,
    "start_time": "2023-05-14T21:16:38.214Z"
   },
   {
    "duration": 11,
    "start_time": "2023-05-14T21:17:43.422Z"
   },
   {
    "duration": 707,
    "start_time": "2023-05-14T21:17:43.436Z"
   },
   {
    "duration": 17,
    "start_time": "2023-05-14T21:17:44.145Z"
   },
   {
    "duration": 16,
    "start_time": "2023-05-14T21:17:44.163Z"
   },
   {
    "duration": 35,
    "start_time": "2023-05-14T21:17:44.181Z"
   },
   {
    "duration": 19,
    "start_time": "2023-05-14T21:17:44.218Z"
   },
   {
    "duration": 20,
    "start_time": "2023-05-14T21:17:44.239Z"
   },
   {
    "duration": 16,
    "start_time": "2023-05-14T21:17:44.262Z"
   },
   {
    "duration": 26,
    "start_time": "2023-05-14T21:17:44.280Z"
   },
   {
    "duration": 13,
    "start_time": "2023-05-14T21:17:44.315Z"
   },
   {
    "duration": 5,
    "start_time": "2023-05-14T21:17:44.332Z"
   },
   {
    "duration": 8,
    "start_time": "2023-05-14T21:17:44.338Z"
   },
   {
    "duration": 113,
    "start_time": "2023-05-14T21:17:44.348Z"
   },
   {
    "duration": 18,
    "start_time": "2023-05-14T21:17:44.464Z"
   },
   {
    "duration": 4,
    "start_time": "2023-05-14T21:17:44.483Z"
   },
   {
    "duration": 22,
    "start_time": "2023-05-14T21:17:44.488Z"
   },
   {
    "duration": 10,
    "start_time": "2023-05-14T21:17:44.514Z"
   },
   {
    "duration": 12,
    "start_time": "2023-05-14T21:17:44.526Z"
   },
   {
    "duration": 9,
    "start_time": "2023-05-14T21:17:44.539Z"
   },
   {
    "duration": 901,
    "start_time": "2023-05-14T21:17:44.549Z"
   },
   {
    "duration": 735,
    "start_time": "2023-05-14T21:17:45.452Z"
   },
   {
    "duration": 880,
    "start_time": "2023-05-14T21:17:46.189Z"
   },
   {
    "duration": 454,
    "start_time": "2023-05-14T21:17:47.070Z"
   },
   {
    "duration": 5,
    "start_time": "2023-05-14T21:17:47.526Z"
   },
   {
    "duration": 11,
    "start_time": "2023-05-14T21:17:47.532Z"
   },
   {
    "duration": 16,
    "start_time": "2023-05-14T21:17:47.544Z"
   },
   {
    "duration": 25,
    "start_time": "2023-05-14T21:17:47.562Z"
   },
   {
    "duration": 698,
    "start_time": "2023-05-14T21:17:47.588Z"
   },
   {
    "duration": 27,
    "start_time": "2023-05-14T21:17:48.287Z"
   },
   {
    "duration": 4,
    "start_time": "2023-05-14T21:17:48.316Z"
   },
   {
    "duration": 13,
    "start_time": "2023-05-14T21:17:48.322Z"
   },
   {
    "duration": 3,
    "start_time": "2023-05-14T21:17:48.337Z"
   },
   {
    "duration": 15,
    "start_time": "2023-05-14T21:17:48.341Z"
   },
   {
    "duration": 16,
    "start_time": "2023-05-14T21:17:48.358Z"
   },
   {
    "duration": 14,
    "start_time": "2023-05-14T21:17:48.375Z"
   },
   {
    "duration": 3,
    "start_time": "2023-05-14T21:17:48.391Z"
   },
   {
    "duration": 21,
    "start_time": "2023-05-14T21:17:48.396Z"
   },
   {
    "duration": 32062,
    "start_time": "2023-05-14T21:17:48.424Z"
   },
   {
    "duration": 4,
    "start_time": "2023-05-14T21:18:20.488Z"
   },
   {
    "duration": 24,
    "start_time": "2023-05-14T21:18:20.493Z"
   },
   {
    "duration": 4,
    "start_time": "2023-05-14T21:18:20.523Z"
   },
   {
    "duration": 6459,
    "start_time": "2023-05-14T21:18:20.528Z"
   },
   {
    "duration": 0,
    "start_time": "2023-05-14T21:18:26.989Z"
   },
   {
    "duration": 0,
    "start_time": "2023-05-14T21:18:26.990Z"
   },
   {
    "duration": 0,
    "start_time": "2023-05-14T21:18:26.991Z"
   },
   {
    "duration": 0,
    "start_time": "2023-05-14T21:18:26.992Z"
   },
   {
    "duration": 0,
    "start_time": "2023-05-14T21:18:26.993Z"
   },
   {
    "duration": 0,
    "start_time": "2023-05-14T21:18:26.995Z"
   },
   {
    "duration": 0,
    "start_time": "2023-05-14T21:18:26.996Z"
   },
   {
    "duration": 0,
    "start_time": "2023-05-14T21:18:27.008Z"
   },
   {
    "duration": 0,
    "start_time": "2023-05-14T21:18:27.009Z"
   },
   {
    "duration": 0,
    "start_time": "2023-05-14T21:18:27.010Z"
   },
   {
    "duration": 0,
    "start_time": "2023-05-14T21:18:27.019Z"
   },
   {
    "duration": 0,
    "start_time": "2023-05-14T21:18:27.023Z"
   },
   {
    "duration": 0,
    "start_time": "2023-05-14T21:18:27.023Z"
   },
   {
    "duration": 0,
    "start_time": "2023-05-14T21:18:27.024Z"
   },
   {
    "duration": 3,
    "start_time": "2023-05-14T21:18:28.377Z"
   },
   {
    "duration": 7,
    "start_time": "2023-05-14T21:18:50.321Z"
   },
   {
    "duration": 9,
    "start_time": "2023-05-14T21:19:17.539Z"
   },
   {
    "duration": 5,
    "start_time": "2023-05-14T21:19:26.762Z"
   },
   {
    "duration": 77,
    "start_time": "2023-05-14T21:19:42.782Z"
   },
   {
    "duration": 141,
    "start_time": "2023-05-14T21:20:01.892Z"
   },
   {
    "duration": 100,
    "start_time": "2023-05-14T21:20:15.342Z"
   },
   {
    "duration": 2,
    "start_time": "2023-05-14T21:20:20.375Z"
   },
   {
    "duration": 65,
    "start_time": "2023-05-14T21:20:20.992Z"
   },
   {
    "duration": 58,
    "start_time": "2023-05-14T21:20:54.842Z"
   },
   {
    "duration": 12,
    "start_time": "2023-05-14T21:20:58.498Z"
   },
   {
    "duration": 53,
    "start_time": "2023-05-14T21:20:59.052Z"
   },
   {
    "duration": 5,
    "start_time": "2023-05-14T21:21:26.318Z"
   },
   {
    "duration": 387,
    "start_time": "2023-05-14T21:21:26.956Z"
   },
   {
    "duration": 4,
    "start_time": "2023-05-14T21:21:42.532Z"
   },
   {
    "duration": 2,
    "start_time": "2023-05-14T21:22:12.567Z"
   },
   {
    "duration": 4,
    "start_time": "2023-05-14T21:22:17.537Z"
   },
   {
    "duration": 749,
    "start_time": "2023-05-14T21:22:17.543Z"
   },
   {
    "duration": 24,
    "start_time": "2023-05-14T21:22:18.294Z"
   },
   {
    "duration": 23,
    "start_time": "2023-05-14T21:22:18.319Z"
   },
   {
    "duration": 17,
    "start_time": "2023-05-14T21:22:18.344Z"
   },
   {
    "duration": 11,
    "start_time": "2023-05-14T21:22:18.362Z"
   },
   {
    "duration": 32,
    "start_time": "2023-05-14T21:22:18.375Z"
   },
   {
    "duration": 20,
    "start_time": "2023-05-14T21:22:18.408Z"
   },
   {
    "duration": 5,
    "start_time": "2023-05-14T21:22:18.430Z"
   },
   {
    "duration": 11,
    "start_time": "2023-05-14T21:22:18.437Z"
   },
   {
    "duration": 5,
    "start_time": "2023-05-14T21:22:18.450Z"
   },
   {
    "duration": 4,
    "start_time": "2023-05-14T21:22:18.456Z"
   },
   {
    "duration": 126,
    "start_time": "2023-05-14T21:22:18.464Z"
   },
   {
    "duration": 35,
    "start_time": "2023-05-14T21:22:18.592Z"
   },
   {
    "duration": 5,
    "start_time": "2023-05-14T21:22:18.629Z"
   },
   {
    "duration": 18,
    "start_time": "2023-05-14T21:22:18.635Z"
   },
   {
    "duration": 26,
    "start_time": "2023-05-14T21:22:18.655Z"
   },
   {
    "duration": 22,
    "start_time": "2023-05-14T21:22:18.682Z"
   },
   {
    "duration": 21,
    "start_time": "2023-05-14T21:22:18.706Z"
   },
   {
    "duration": 632,
    "start_time": "2023-05-14T21:22:18.730Z"
   },
   {
    "duration": 656,
    "start_time": "2023-05-14T21:22:19.363Z"
   },
   {
    "duration": 801,
    "start_time": "2023-05-14T21:22:20.020Z"
   },
   {
    "duration": 414,
    "start_time": "2023-05-14T21:22:20.823Z"
   },
   {
    "duration": 4,
    "start_time": "2023-05-14T21:22:21.238Z"
   },
   {
    "duration": 14,
    "start_time": "2023-05-14T21:22:21.243Z"
   },
   {
    "duration": 8,
    "start_time": "2023-05-14T21:22:21.258Z"
   },
   {
    "duration": 6,
    "start_time": "2023-05-14T21:22:21.267Z"
   },
   {
    "duration": 773,
    "start_time": "2023-05-14T21:22:21.274Z"
   },
   {
    "duration": 2,
    "start_time": "2023-05-14T21:22:22.049Z"
   },
   {
    "duration": 17,
    "start_time": "2023-05-14T21:22:22.052Z"
   },
   {
    "duration": 5,
    "start_time": "2023-05-14T21:22:22.070Z"
   },
   {
    "duration": 14,
    "start_time": "2023-05-14T21:22:22.076Z"
   },
   {
    "duration": 9,
    "start_time": "2023-05-14T21:22:22.091Z"
   },
   {
    "duration": 6,
    "start_time": "2023-05-14T21:22:22.102Z"
   },
   {
    "duration": 13,
    "start_time": "2023-05-14T21:22:22.109Z"
   },
   {
    "duration": 16,
    "start_time": "2023-05-14T21:22:22.127Z"
   },
   {
    "duration": 10,
    "start_time": "2023-05-14T21:22:22.146Z"
   },
   {
    "duration": 42,
    "start_time": "2023-05-14T21:22:22.157Z"
   },
   {
    "duration": 2,
    "start_time": "2023-05-14T21:22:22.201Z"
   },
   {
    "duration": 361,
    "start_time": "2023-05-14T21:22:22.205Z"
   },
   {
    "duration": 3,
    "start_time": "2023-05-14T21:22:22.568Z"
   },
   {
    "duration": 8,
    "start_time": "2023-05-14T21:25:24.525Z"
   },
   {
    "duration": 4,
    "start_time": "2023-05-14T21:25:25.056Z"
   },
   {
    "duration": 78,
    "start_time": "2023-05-14T21:26:49.165Z"
   },
   {
    "duration": 3,
    "start_time": "2023-05-14T21:26:55.173Z"
   },
   {
    "duration": 4,
    "start_time": "2023-05-14T21:26:59.340Z"
   },
   {
    "duration": 694,
    "start_time": "2023-05-14T21:26:59.346Z"
   },
   {
    "duration": 22,
    "start_time": "2023-05-14T21:27:00.041Z"
   },
   {
    "duration": 44,
    "start_time": "2023-05-14T21:27:00.065Z"
   },
   {
    "duration": 27,
    "start_time": "2023-05-14T21:27:00.114Z"
   },
   {
    "duration": 34,
    "start_time": "2023-05-14T21:27:00.142Z"
   },
   {
    "duration": 40,
    "start_time": "2023-05-14T21:27:00.178Z"
   },
   {
    "duration": 39,
    "start_time": "2023-05-14T21:27:00.220Z"
   },
   {
    "duration": 22,
    "start_time": "2023-05-14T21:27:00.260Z"
   },
   {
    "duration": 23,
    "start_time": "2023-05-14T21:27:00.284Z"
   },
   {
    "duration": 23,
    "start_time": "2023-05-14T21:27:00.308Z"
   },
   {
    "duration": 20,
    "start_time": "2023-05-14T21:27:00.333Z"
   },
   {
    "duration": 123,
    "start_time": "2023-05-14T21:27:00.354Z"
   },
   {
    "duration": 16,
    "start_time": "2023-05-14T21:27:00.480Z"
   },
   {
    "duration": 11,
    "start_time": "2023-05-14T21:27:00.498Z"
   },
   {
    "duration": 27,
    "start_time": "2023-05-14T21:27:00.512Z"
   },
   {
    "duration": 18,
    "start_time": "2023-05-14T21:27:00.541Z"
   },
   {
    "duration": 38,
    "start_time": "2023-05-14T21:27:00.560Z"
   },
   {
    "duration": 22,
    "start_time": "2023-05-14T21:27:00.600Z"
   },
   {
    "duration": 658,
    "start_time": "2023-05-14T21:27:00.624Z"
   },
   {
    "duration": 924,
    "start_time": "2023-05-14T21:27:01.283Z"
   },
   {
    "duration": 719,
    "start_time": "2023-05-14T21:27:02.213Z"
   },
   {
    "duration": 447,
    "start_time": "2023-05-14T21:27:02.934Z"
   },
   {
    "duration": 4,
    "start_time": "2023-05-14T21:27:03.382Z"
   },
   {
    "duration": 13,
    "start_time": "2023-05-14T21:27:03.388Z"
   },
   {
    "duration": 14,
    "start_time": "2023-05-14T21:27:03.403Z"
   },
   {
    "duration": 14,
    "start_time": "2023-05-14T21:27:03.419Z"
   },
   {
    "duration": 842,
    "start_time": "2023-05-14T21:27:03.434Z"
   },
   {
    "duration": 2,
    "start_time": "2023-05-14T21:27:04.278Z"
   },
   {
    "duration": 6,
    "start_time": "2023-05-14T21:27:04.282Z"
   },
   {
    "duration": 5,
    "start_time": "2023-05-14T21:27:04.289Z"
   },
   {
    "duration": 20,
    "start_time": "2023-05-14T21:27:04.296Z"
   },
   {
    "duration": 32,
    "start_time": "2023-05-14T21:27:04.321Z"
   },
   {
    "duration": 12,
    "start_time": "2023-05-14T21:27:05.652Z"
   },
   {
    "duration": 4,
    "start_time": "2023-05-14T21:27:06.075Z"
   },
   {
    "duration": 3,
    "start_time": "2023-05-14T21:27:14.027Z"
   },
   {
    "duration": 3,
    "start_time": "2023-05-14T21:27:15.631Z"
   },
   {
    "duration": 4,
    "start_time": "2023-05-14T21:27:16.220Z"
   },
   {
    "duration": 5,
    "start_time": "2023-05-14T21:27:16.585Z"
   },
   {
    "duration": 5,
    "start_time": "2023-05-14T21:27:16.852Z"
   },
   {
    "duration": 2,
    "start_time": "2023-05-14T21:27:17.045Z"
   },
   {
    "duration": 2987,
    "start_time": "2023-05-14T21:27:17.245Z"
   },
   {
    "duration": 3,
    "start_time": "2023-05-14T21:27:20.234Z"
   },
   {
    "duration": 24914,
    "start_time": "2023-05-14T21:27:20.238Z"
   },
   {
    "duration": 4,
    "start_time": "2023-05-14T21:27:45.156Z"
   },
   {
    "duration": 1588,
    "start_time": "2023-05-15T05:57:04.487Z"
   },
   {
    "duration": 2430,
    "start_time": "2023-05-15T05:57:06.077Z"
   },
   {
    "duration": 29,
    "start_time": "2023-05-15T05:57:08.509Z"
   },
   {
    "duration": 34,
    "start_time": "2023-05-15T05:57:08.540Z"
   },
   {
    "duration": 52,
    "start_time": "2023-05-15T05:57:08.577Z"
   },
   {
    "duration": 15,
    "start_time": "2023-05-15T05:57:08.631Z"
   },
   {
    "duration": 40,
    "start_time": "2023-05-15T05:57:08.648Z"
   },
   {
    "duration": 42,
    "start_time": "2023-05-15T05:57:08.689Z"
   },
   {
    "duration": 6,
    "start_time": "2023-05-15T05:57:08.734Z"
   },
   {
    "duration": 7,
    "start_time": "2023-05-15T05:57:08.741Z"
   },
   {
    "duration": 12,
    "start_time": "2023-05-15T05:57:08.749Z"
   },
   {
    "duration": 39,
    "start_time": "2023-05-15T05:57:08.762Z"
   },
   {
    "duration": 132,
    "start_time": "2023-05-15T05:57:08.802Z"
   },
   {
    "duration": 19,
    "start_time": "2023-05-15T05:57:08.937Z"
   },
   {
    "duration": 4,
    "start_time": "2023-05-15T05:57:08.957Z"
   },
   {
    "duration": 20,
    "start_time": "2023-05-15T05:57:08.963Z"
   },
   {
    "duration": 6,
    "start_time": "2023-05-15T05:57:08.985Z"
   },
   {
    "duration": 16,
    "start_time": "2023-05-15T05:57:08.992Z"
   },
   {
    "duration": 22,
    "start_time": "2023-05-15T05:57:09.009Z"
   },
   {
    "duration": 699,
    "start_time": "2023-05-15T05:57:09.033Z"
   },
   {
    "duration": 603,
    "start_time": "2023-05-15T05:57:09.735Z"
   },
   {
    "duration": 632,
    "start_time": "2023-05-15T05:57:10.340Z"
   },
   {
    "duration": 493,
    "start_time": "2023-05-15T05:57:10.974Z"
   },
   {
    "duration": 5,
    "start_time": "2023-05-15T05:57:11.469Z"
   },
   {
    "duration": 16,
    "start_time": "2023-05-15T05:57:11.475Z"
   },
   {
    "duration": 8,
    "start_time": "2023-05-15T05:57:11.492Z"
   },
   {
    "duration": 13,
    "start_time": "2023-05-15T05:57:11.502Z"
   },
   {
    "duration": 634,
    "start_time": "2023-05-15T05:57:11.516Z"
   },
   {
    "duration": 3,
    "start_time": "2023-05-15T05:57:12.151Z"
   },
   {
    "duration": 16,
    "start_time": "2023-05-15T05:57:12.156Z"
   },
   {
    "duration": 4,
    "start_time": "2023-05-15T05:57:12.174Z"
   },
   {
    "duration": 8,
    "start_time": "2023-05-15T05:57:12.180Z"
   },
   {
    "duration": 28,
    "start_time": "2023-05-15T05:57:12.189Z"
   },
   {
    "duration": 12,
    "start_time": "2023-05-15T05:57:15.969Z"
   },
   {
    "duration": 4,
    "start_time": "2023-05-15T05:57:19.532Z"
   },
   {
    "duration": 3,
    "start_time": "2023-05-15T05:57:22.652Z"
   },
   {
    "duration": 3,
    "start_time": "2023-05-15T05:57:23.479Z"
   },
   {
    "duration": 326961,
    "start_time": "2023-05-15T05:57:24.285Z"
   },
   {
    "duration": 5,
    "start_time": "2023-05-15T06:02:51.247Z"
   },
   {
    "duration": 177,
    "start_time": "2023-05-15T06:02:51.253Z"
   },
   {
    "duration": 27,
    "start_time": "2023-05-15T06:03:18.553Z"
   },
   {
    "duration": 4,
    "start_time": "2023-05-15T06:04:41.705Z"
   },
   {
    "duration": 821,
    "start_time": "2023-05-15T06:04:41.710Z"
   },
   {
    "duration": 18,
    "start_time": "2023-05-15T06:04:42.532Z"
   },
   {
    "duration": 21,
    "start_time": "2023-05-15T06:04:42.552Z"
   },
   {
    "duration": 17,
    "start_time": "2023-05-15T06:04:42.575Z"
   },
   {
    "duration": 15,
    "start_time": "2023-05-15T06:04:42.593Z"
   },
   {
    "duration": 27,
    "start_time": "2023-05-15T06:04:42.610Z"
   },
   {
    "duration": 23,
    "start_time": "2023-05-15T06:04:42.638Z"
   },
   {
    "duration": 4,
    "start_time": "2023-05-15T06:04:42.663Z"
   },
   {
    "duration": 11,
    "start_time": "2023-05-15T06:04:42.668Z"
   },
   {
    "duration": 5,
    "start_time": "2023-05-15T06:04:42.681Z"
   },
   {
    "duration": 8,
    "start_time": "2023-05-15T06:04:42.687Z"
   },
   {
    "duration": 129,
    "start_time": "2023-05-15T06:04:42.718Z"
   },
   {
    "duration": 24,
    "start_time": "2023-05-15T06:04:42.849Z"
   },
   {
    "duration": 35,
    "start_time": "2023-05-15T06:04:42.874Z"
   },
   {
    "duration": 40,
    "start_time": "2023-05-15T06:04:42.911Z"
   },
   {
    "duration": 82,
    "start_time": "2023-05-15T06:04:42.953Z"
   },
   {
    "duration": 70,
    "start_time": "2023-05-15T06:04:43.037Z"
   },
   {
    "duration": 30,
    "start_time": "2023-05-15T06:04:43.108Z"
   },
   {
    "duration": 732,
    "start_time": "2023-05-15T06:04:43.140Z"
   },
   {
    "duration": 680,
    "start_time": "2023-05-15T06:04:43.874Z"
   },
   {
    "duration": 725,
    "start_time": "2023-05-15T06:04:44.556Z"
   },
   {
    "duration": 406,
    "start_time": "2023-05-15T06:04:45.283Z"
   },
   {
    "duration": 4,
    "start_time": "2023-05-15T06:04:45.691Z"
   },
   {
    "duration": 16,
    "start_time": "2023-05-15T06:04:45.696Z"
   },
   {
    "duration": 28,
    "start_time": "2023-05-15T06:04:45.713Z"
   },
   {
    "duration": 22,
    "start_time": "2023-05-15T06:04:45.743Z"
   },
   {
    "duration": 623,
    "start_time": "2023-05-15T06:04:45.767Z"
   },
   {
    "duration": 2,
    "start_time": "2023-05-15T06:04:46.392Z"
   },
   {
    "duration": 19,
    "start_time": "2023-05-15T06:04:46.396Z"
   },
   {
    "duration": 24,
    "start_time": "2023-05-15T06:04:46.416Z"
   },
   {
    "duration": 10,
    "start_time": "2023-05-15T06:04:46.441Z"
   },
   {
    "duration": 23,
    "start_time": "2023-05-15T06:04:46.452Z"
   },
   {
    "duration": 17,
    "start_time": "2023-05-15T06:04:46.476Z"
   },
   {
    "duration": 13,
    "start_time": "2023-05-15T06:04:50.030Z"
   },
   {
    "duration": 9,
    "start_time": "2023-05-15T06:04:54.700Z"
   },
   {
    "duration": 3,
    "start_time": "2023-05-15T06:04:58.580Z"
   },
   {
    "duration": 147,
    "start_time": "2023-05-15T06:05:26.515Z"
   },
   {
    "duration": 9,
    "start_time": "2023-05-15T06:05:56.008Z"
   },
   {
    "duration": 11,
    "start_time": "2023-05-15T06:08:04.884Z"
   },
   {
    "duration": 3,
    "start_time": "2023-05-15T06:09:16.889Z"
   },
   {
    "duration": 3,
    "start_time": "2023-05-15T06:09:17.456Z"
   },
   {
    "duration": 25,
    "start_time": "2023-05-15T06:09:18.553Z"
   },
   {
    "duration": 3,
    "start_time": "2023-05-15T06:09:39.068Z"
   },
   {
    "duration": 21,
    "start_time": "2023-05-15T06:09:39.653Z"
   },
   {
    "duration": 3,
    "start_time": "2023-05-15T06:10:22.647Z"
   },
   {
    "duration": 3,
    "start_time": "2023-05-15T06:10:23.049Z"
   },
   {
    "duration": 22,
    "start_time": "2023-05-15T06:10:23.429Z"
   },
   {
    "duration": 2,
    "start_time": "2023-05-15T06:10:29.388Z"
   },
   {
    "duration": 3,
    "start_time": "2023-05-15T06:10:30.106Z"
   },
   {
    "duration": 25966,
    "start_time": "2023-05-15T06:10:30.558Z"
   },
   {
    "duration": 10,
    "start_time": "2023-05-15T06:10:56.526Z"
   },
   {
    "duration": 8,
    "start_time": "2023-05-15T06:12:32.965Z"
   },
   {
    "duration": 5,
    "start_time": "2023-05-15T06:12:57.234Z"
   },
   {
    "duration": 763,
    "start_time": "2023-05-15T06:12:57.240Z"
   },
   {
    "duration": 26,
    "start_time": "2023-05-15T06:12:58.005Z"
   },
   {
    "duration": 28,
    "start_time": "2023-05-15T06:12:58.033Z"
   },
   {
    "duration": 19,
    "start_time": "2023-05-15T06:12:58.064Z"
   },
   {
    "duration": 18,
    "start_time": "2023-05-15T06:12:58.084Z"
   },
   {
    "duration": 34,
    "start_time": "2023-05-15T06:12:58.104Z"
   },
   {
    "duration": 24,
    "start_time": "2023-05-15T06:12:58.140Z"
   },
   {
    "duration": 4,
    "start_time": "2023-05-15T06:12:58.166Z"
   },
   {
    "duration": 14,
    "start_time": "2023-05-15T06:12:58.172Z"
   },
   {
    "duration": 6,
    "start_time": "2023-05-15T06:12:58.188Z"
   },
   {
    "duration": 37,
    "start_time": "2023-05-15T06:12:58.196Z"
   },
   {
    "duration": 134,
    "start_time": "2023-05-15T06:12:58.235Z"
   },
   {
    "duration": 19,
    "start_time": "2023-05-15T06:12:58.373Z"
   },
   {
    "duration": 4,
    "start_time": "2023-05-15T06:12:58.394Z"
   },
   {
    "duration": 25,
    "start_time": "2023-05-15T06:12:58.400Z"
   },
   {
    "duration": 14,
    "start_time": "2023-05-15T06:12:58.426Z"
   },
   {
    "duration": 25,
    "start_time": "2023-05-15T06:12:58.442Z"
   },
   {
    "duration": 8,
    "start_time": "2023-05-15T06:12:58.470Z"
   },
   {
    "duration": 712,
    "start_time": "2023-05-15T06:12:58.479Z"
   },
   {
    "duration": 613,
    "start_time": "2023-05-15T06:12:59.193Z"
   },
   {
    "duration": 737,
    "start_time": "2023-05-15T06:12:59.808Z"
   },
   {
    "duration": 440,
    "start_time": "2023-05-15T06:13:00.546Z"
   },
   {
    "duration": 5,
    "start_time": "2023-05-15T06:13:00.987Z"
   },
   {
    "duration": 53,
    "start_time": "2023-05-15T06:13:00.994Z"
   },
   {
    "duration": 47,
    "start_time": "2023-05-15T06:13:01.048Z"
   },
   {
    "duration": 74,
    "start_time": "2023-05-15T06:13:01.097Z"
   },
   {
    "duration": 804,
    "start_time": "2023-05-15T06:13:01.173Z"
   },
   {
    "duration": 2,
    "start_time": "2023-05-15T06:13:01.979Z"
   },
   {
    "duration": 43,
    "start_time": "2023-05-15T06:13:01.983Z"
   },
   {
    "duration": 63,
    "start_time": "2023-05-15T06:13:02.027Z"
   },
   {
    "duration": 59,
    "start_time": "2023-05-15T06:13:02.092Z"
   },
   {
    "duration": 54,
    "start_time": "2023-05-15T06:13:02.152Z"
   },
   {
    "duration": 46,
    "start_time": "2023-05-15T06:13:02.208Z"
   },
   {
    "duration": 71,
    "start_time": "2023-05-15T06:13:02.258Z"
   },
   {
    "duration": 6,
    "start_time": "2023-05-15T06:13:24.982Z"
   },
   {
    "duration": 750,
    "start_time": "2023-05-15T06:13:24.990Z"
   },
   {
    "duration": 18,
    "start_time": "2023-05-15T06:13:25.741Z"
   },
   {
    "duration": 18,
    "start_time": "2023-05-15T06:13:25.760Z"
   },
   {
    "duration": 19,
    "start_time": "2023-05-15T06:13:25.780Z"
   },
   {
    "duration": 13,
    "start_time": "2023-05-15T06:13:25.824Z"
   },
   {
    "duration": 19,
    "start_time": "2023-05-15T06:13:25.839Z"
   },
   {
    "duration": 18,
    "start_time": "2023-05-15T06:13:25.859Z"
   },
   {
    "duration": 5,
    "start_time": "2023-05-15T06:13:25.878Z"
   },
   {
    "duration": 10,
    "start_time": "2023-05-15T06:13:25.884Z"
   },
   {
    "duration": 10,
    "start_time": "2023-05-15T06:13:25.896Z"
   },
   {
    "duration": 8,
    "start_time": "2023-05-15T06:13:25.924Z"
   },
   {
    "duration": 126,
    "start_time": "2023-05-15T06:13:25.934Z"
   },
   {
    "duration": 19,
    "start_time": "2023-05-15T06:13:26.064Z"
   },
   {
    "duration": 4,
    "start_time": "2023-05-15T06:13:26.084Z"
   },
   {
    "duration": 12,
    "start_time": "2023-05-15T06:13:26.089Z"
   },
   {
    "duration": 19,
    "start_time": "2023-05-15T06:13:26.102Z"
   },
   {
    "duration": 20,
    "start_time": "2023-05-15T06:13:26.123Z"
   },
   {
    "duration": 12,
    "start_time": "2023-05-15T06:13:26.145Z"
   },
   {
    "duration": 648,
    "start_time": "2023-05-15T06:13:26.159Z"
   },
   {
    "duration": 719,
    "start_time": "2023-05-15T06:13:26.809Z"
   },
   {
    "duration": 637,
    "start_time": "2023-05-15T06:13:27.530Z"
   },
   {
    "duration": 418,
    "start_time": "2023-05-15T06:13:28.169Z"
   },
   {
    "duration": 4,
    "start_time": "2023-05-15T06:13:28.589Z"
   },
   {
    "duration": 6,
    "start_time": "2023-05-15T06:13:28.594Z"
   },
   {
    "duration": 27,
    "start_time": "2023-05-15T06:13:28.601Z"
   },
   {
    "duration": 5,
    "start_time": "2023-05-15T06:13:28.633Z"
   },
   {
    "duration": 739,
    "start_time": "2023-05-15T06:13:28.640Z"
   },
   {
    "duration": 3,
    "start_time": "2023-05-15T06:13:29.381Z"
   },
   {
    "duration": 5,
    "start_time": "2023-05-15T06:13:29.386Z"
   },
   {
    "duration": 5,
    "start_time": "2023-05-15T06:13:29.392Z"
   },
   {
    "duration": 24,
    "start_time": "2023-05-15T06:13:29.399Z"
   },
   {
    "duration": 1,
    "start_time": "2023-05-15T06:13:29.425Z"
   },
   {
    "duration": 18,
    "start_time": "2023-05-15T06:13:29.428Z"
   },
   {
    "duration": 8,
    "start_time": "2023-05-15T06:13:29.447Z"
   },
   {
    "duration": 1409,
    "start_time": "2023-05-15T06:17:40.953Z"
   },
   {
    "duration": 756,
    "start_time": "2023-05-15T06:17:43.574Z"
   },
   {
    "duration": 23,
    "start_time": "2023-05-15T06:17:45.454Z"
   },
   {
    "duration": 26,
    "start_time": "2023-05-15T06:17:45.920Z"
   },
   {
    "duration": 19,
    "start_time": "2023-05-15T06:17:46.252Z"
   },
   {
    "duration": 12,
    "start_time": "2023-05-15T06:17:46.495Z"
   },
   {
    "duration": 19,
    "start_time": "2023-05-15T06:17:46.952Z"
   },
   {
    "duration": 17,
    "start_time": "2023-05-15T06:17:47.473Z"
   },
   {
    "duration": 20,
    "start_time": "2023-05-15T06:17:50.860Z"
   },
   {
    "duration": 5,
    "start_time": "2023-05-15T06:17:51.601Z"
   },
   {
    "duration": 4,
    "start_time": "2023-05-15T06:17:53.100Z"
   },
   {
    "duration": 4,
    "start_time": "2023-05-15T06:17:56.381Z"
   },
   {
    "duration": 129,
    "start_time": "2023-05-15T06:17:59.016Z"
   },
   {
    "duration": 20,
    "start_time": "2023-05-15T06:17:59.654Z"
   },
   {
    "duration": 96,
    "start_time": "2023-05-15T06:18:12.253Z"
   },
   {
    "duration": 10,
    "start_time": "2023-05-15T06:18:28.569Z"
   },
   {
    "duration": 4,
    "start_time": "2023-05-15T06:20:41.749Z"
   },
   {
    "duration": 734,
    "start_time": "2023-05-15T06:20:41.755Z"
   },
   {
    "duration": 17,
    "start_time": "2023-05-15T06:20:42.490Z"
   },
   {
    "duration": 35,
    "start_time": "2023-05-15T06:20:42.509Z"
   },
   {
    "duration": 17,
    "start_time": "2023-05-15T06:20:42.546Z"
   },
   {
    "duration": 12,
    "start_time": "2023-05-15T06:20:42.565Z"
   },
   {
    "duration": 17,
    "start_time": "2023-05-15T06:20:42.579Z"
   },
   {
    "duration": 33,
    "start_time": "2023-05-15T06:20:42.598Z"
   },
   {
    "duration": 4,
    "start_time": "2023-05-15T06:20:42.637Z"
   },
   {
    "duration": 6,
    "start_time": "2023-05-15T06:20:42.642Z"
   },
   {
    "duration": 5,
    "start_time": "2023-05-15T06:20:42.650Z"
   },
   {
    "duration": 6,
    "start_time": "2023-05-15T06:20:42.656Z"
   },
   {
    "duration": 126,
    "start_time": "2023-05-15T06:20:42.663Z"
   },
   {
    "duration": 131,
    "start_time": "2023-05-15T06:20:42.792Z"
   },
   {
    "duration": 21,
    "start_time": "2023-05-15T06:20:42.930Z"
   },
   {
    "duration": 4,
    "start_time": "2023-05-15T06:20:42.952Z"
   },
   {
    "duration": 9,
    "start_time": "2023-05-15T06:20:42.957Z"
   },
   {
    "duration": 5,
    "start_time": "2023-05-15T06:20:42.967Z"
   },
   {
    "duration": 16,
    "start_time": "2023-05-15T06:20:42.974Z"
   },
   {
    "duration": 25,
    "start_time": "2023-05-15T06:24:17.166Z"
   },
   {
    "duration": 33,
    "start_time": "2023-05-15T06:24:30.809Z"
   },
   {
    "duration": 57,
    "start_time": "2023-05-15T06:24:41.877Z"
   },
   {
    "duration": 22,
    "start_time": "2023-05-15T06:24:48.855Z"
   },
   {
    "duration": 13,
    "start_time": "2023-05-15T06:24:54.657Z"
   },
   {
    "duration": 13,
    "start_time": "2023-05-15T06:25:06.210Z"
   },
   {
    "duration": 5,
    "start_time": "2023-05-15T06:25:10.592Z"
   },
   {
    "duration": 788,
    "start_time": "2023-05-15T06:25:10.598Z"
   },
   {
    "duration": 18,
    "start_time": "2023-05-15T06:25:11.387Z"
   },
   {
    "duration": 55,
    "start_time": "2023-05-15T06:25:11.407Z"
   },
   {
    "duration": 20,
    "start_time": "2023-05-15T06:25:11.464Z"
   },
   {
    "duration": 21,
    "start_time": "2023-05-15T06:25:11.486Z"
   },
   {
    "duration": 39,
    "start_time": "2023-05-15T06:25:11.509Z"
   },
   {
    "duration": 35,
    "start_time": "2023-05-15T06:25:11.549Z"
   },
   {
    "duration": 4,
    "start_time": "2023-05-15T06:25:11.586Z"
   },
   {
    "duration": 20,
    "start_time": "2023-05-15T06:25:11.591Z"
   },
   {
    "duration": 39,
    "start_time": "2023-05-15T06:25:11.613Z"
   },
   {
    "duration": 31,
    "start_time": "2023-05-15T06:25:11.654Z"
   },
   {
    "duration": 105,
    "start_time": "2023-05-15T06:25:11.687Z"
   },
   {
    "duration": 121,
    "start_time": "2023-05-15T06:25:11.793Z"
   },
   {
    "duration": 34,
    "start_time": "2023-05-15T06:25:11.920Z"
   },
   {
    "duration": 12,
    "start_time": "2023-05-15T06:25:11.955Z"
   },
   {
    "duration": 43,
    "start_time": "2023-05-15T06:25:11.969Z"
   },
   {
    "duration": 30,
    "start_time": "2023-05-15T06:25:12.013Z"
   },
   {
    "duration": 34,
    "start_time": "2023-05-15T06:25:12.045Z"
   },
   {
    "duration": 9,
    "start_time": "2023-05-15T06:25:16.262Z"
   },
   {
    "duration": 7,
    "start_time": "2023-05-15T06:25:33.109Z"
   },
   {
    "duration": 699,
    "start_time": "2023-05-15T06:28:02.137Z"
   },
   {
    "duration": 21,
    "start_time": "2023-05-15T06:29:00.070Z"
   },
   {
    "duration": 20,
    "start_time": "2023-05-15T06:30:17.499Z"
   },
   {
    "duration": 19,
    "start_time": "2023-05-15T06:30:28.175Z"
   },
   {
    "duration": 21,
    "start_time": "2023-05-15T06:33:34.097Z"
   },
   {
    "duration": 22,
    "start_time": "2023-05-15T06:33:39.896Z"
   },
   {
    "duration": 26,
    "start_time": "2023-05-15T06:33:50.817Z"
   },
   {
    "duration": 16,
    "start_time": "2023-05-15T06:34:07.192Z"
   },
   {
    "duration": 18,
    "start_time": "2023-05-15T06:34:25.609Z"
   },
   {
    "duration": 5,
    "start_time": "2023-05-15T06:35:01.842Z"
   },
   {
    "duration": 854,
    "start_time": "2023-05-15T06:35:01.849Z"
   },
   {
    "duration": 30,
    "start_time": "2023-05-15T06:35:02.705Z"
   },
   {
    "duration": 47,
    "start_time": "2023-05-15T06:35:02.737Z"
   },
   {
    "duration": 41,
    "start_time": "2023-05-15T06:35:02.786Z"
   },
   {
    "duration": 63,
    "start_time": "2023-05-15T06:35:02.829Z"
   },
   {
    "duration": 38,
    "start_time": "2023-05-15T06:35:02.893Z"
   },
   {
    "duration": 54,
    "start_time": "2023-05-15T06:35:02.932Z"
   },
   {
    "duration": 15,
    "start_time": "2023-05-15T06:35:02.988Z"
   },
   {
    "duration": 39,
    "start_time": "2023-05-15T06:35:03.005Z"
   },
   {
    "duration": 25,
    "start_time": "2023-05-15T06:35:03.046Z"
   },
   {
    "duration": 34,
    "start_time": "2023-05-15T06:35:03.073Z"
   },
   {
    "duration": 135,
    "start_time": "2023-05-15T06:35:03.109Z"
   },
   {
    "duration": 126,
    "start_time": "2023-05-15T06:35:03.246Z"
   },
   {
    "duration": 19,
    "start_time": "2023-05-15T06:35:03.374Z"
   },
   {
    "duration": 13,
    "start_time": "2023-05-15T06:35:03.394Z"
   },
   {
    "duration": 52,
    "start_time": "2023-05-15T06:35:03.408Z"
   },
   {
    "duration": 14,
    "start_time": "2023-05-15T06:35:03.462Z"
   },
   {
    "duration": 26,
    "start_time": "2023-05-15T06:35:03.478Z"
   },
   {
    "duration": 27,
    "start_time": "2023-05-15T06:35:03.506Z"
   },
   {
    "duration": 21,
    "start_time": "2023-05-15T06:35:03.535Z"
   },
   {
    "duration": 652,
    "start_time": "2023-05-15T06:35:03.558Z"
   },
   {
    "duration": 11,
    "start_time": "2023-05-15T06:35:04.216Z"
   },
   {
    "duration": 737,
    "start_time": "2023-05-15T06:35:10.641Z"
   },
   {
    "duration": 6,
    "start_time": "2023-05-15T06:35:38.371Z"
   },
   {
    "duration": 770,
    "start_time": "2023-05-15T06:35:38.379Z"
   },
   {
    "duration": 18,
    "start_time": "2023-05-15T06:35:39.150Z"
   },
   {
    "duration": 32,
    "start_time": "2023-05-15T06:35:39.169Z"
   },
   {
    "duration": 30,
    "start_time": "2023-05-15T06:35:39.203Z"
   },
   {
    "duration": 14,
    "start_time": "2023-05-15T06:35:39.235Z"
   },
   {
    "duration": 17,
    "start_time": "2023-05-15T06:35:39.250Z"
   },
   {
    "duration": 18,
    "start_time": "2023-05-15T06:35:39.268Z"
   },
   {
    "duration": 4,
    "start_time": "2023-05-15T06:35:39.287Z"
   },
   {
    "duration": 12,
    "start_time": "2023-05-15T06:35:39.292Z"
   },
   {
    "duration": 8,
    "start_time": "2023-05-15T06:35:39.318Z"
   },
   {
    "duration": 15,
    "start_time": "2023-05-15T06:35:39.327Z"
   },
   {
    "duration": 91,
    "start_time": "2023-05-15T06:35:39.343Z"
   },
   {
    "duration": 126,
    "start_time": "2023-05-15T06:35:39.437Z"
   },
   {
    "duration": 21,
    "start_time": "2023-05-15T06:35:39.564Z"
   },
   {
    "duration": 4,
    "start_time": "2023-05-15T06:35:39.587Z"
   },
   {
    "duration": 25,
    "start_time": "2023-05-15T06:35:39.592Z"
   },
   {
    "duration": 5,
    "start_time": "2023-05-15T06:35:39.628Z"
   },
   {
    "duration": 10,
    "start_time": "2023-05-15T06:35:39.635Z"
   },
   {
    "duration": 8,
    "start_time": "2023-05-15T06:35:39.646Z"
   },
   {
    "duration": 6,
    "start_time": "2023-05-15T06:35:39.655Z"
   },
   {
    "duration": 635,
    "start_time": "2023-05-15T06:35:39.662Z"
   },
   {
    "duration": 10,
    "start_time": "2023-05-15T06:35:40.299Z"
   },
   {
    "duration": 736,
    "start_time": "2023-05-15T06:35:40.317Z"
   },
   {
    "duration": 5,
    "start_time": "2023-05-15T06:36:23.601Z"
   },
   {
    "duration": 767,
    "start_time": "2023-05-15T06:36:23.607Z"
   },
   {
    "duration": 18,
    "start_time": "2023-05-15T06:36:24.376Z"
   },
   {
    "duration": 36,
    "start_time": "2023-05-15T06:36:24.397Z"
   },
   {
    "duration": 17,
    "start_time": "2023-05-15T06:36:24.435Z"
   },
   {
    "duration": 14,
    "start_time": "2023-05-15T06:36:24.453Z"
   },
   {
    "duration": 26,
    "start_time": "2023-05-15T06:36:24.469Z"
   },
   {
    "duration": 34,
    "start_time": "2023-05-15T06:36:24.497Z"
   },
   {
    "duration": 7,
    "start_time": "2023-05-15T06:36:24.532Z"
   },
   {
    "duration": 5,
    "start_time": "2023-05-15T06:36:24.542Z"
   },
   {
    "duration": 16,
    "start_time": "2023-05-15T06:36:24.548Z"
   },
   {
    "duration": 9,
    "start_time": "2023-05-15T06:36:24.566Z"
   },
   {
    "duration": 136,
    "start_time": "2023-05-15T06:36:24.577Z"
   },
   {
    "duration": 137,
    "start_time": "2023-05-15T06:36:24.715Z"
   },
   {
    "duration": 28,
    "start_time": "2023-05-15T06:36:24.854Z"
   },
   {
    "duration": 5,
    "start_time": "2023-05-15T06:36:24.884Z"
   },
   {
    "duration": 29,
    "start_time": "2023-05-15T06:36:24.890Z"
   },
   {
    "duration": 31,
    "start_time": "2023-05-15T06:36:24.920Z"
   },
   {
    "duration": 31,
    "start_time": "2023-05-15T06:36:24.953Z"
   },
   {
    "duration": 20,
    "start_time": "2023-05-15T06:36:24.986Z"
   },
   {
    "duration": 39,
    "start_time": "2023-05-15T06:36:25.008Z"
   },
   {
    "duration": 650,
    "start_time": "2023-05-15T06:36:25.049Z"
   },
   {
    "duration": 31,
    "start_time": "2023-05-15T06:36:25.700Z"
   },
   {
    "duration": 701,
    "start_time": "2023-05-15T06:36:25.733Z"
   },
   {
    "duration": 701,
    "start_time": "2023-05-15T06:36:44.281Z"
   },
   {
    "duration": 714,
    "start_time": "2023-05-15T06:36:45.780Z"
   },
   {
    "duration": 616,
    "start_time": "2023-05-15T06:36:47.593Z"
   },
   {
    "duration": 430,
    "start_time": "2023-05-15T06:37:01.325Z"
   },
   {
    "duration": 19,
    "start_time": "2023-05-15T06:38:32.749Z"
   },
   {
    "duration": 5,
    "start_time": "2023-05-15T06:38:40.676Z"
   },
   {
    "duration": 771,
    "start_time": "2023-05-15T06:38:40.682Z"
   },
   {
    "duration": 20,
    "start_time": "2023-05-15T06:38:41.455Z"
   },
   {
    "duration": 19,
    "start_time": "2023-05-15T06:38:41.477Z"
   },
   {
    "duration": 39,
    "start_time": "2023-05-15T06:38:41.498Z"
   },
   {
    "duration": 12,
    "start_time": "2023-05-15T06:38:41.538Z"
   },
   {
    "duration": 17,
    "start_time": "2023-05-15T06:38:41.552Z"
   },
   {
    "duration": 18,
    "start_time": "2023-05-15T06:38:41.570Z"
   },
   {
    "duration": 5,
    "start_time": "2023-05-15T06:38:41.589Z"
   },
   {
    "duration": 23,
    "start_time": "2023-05-15T06:38:41.596Z"
   },
   {
    "duration": 20,
    "start_time": "2023-05-15T06:38:41.620Z"
   },
   {
    "duration": 6,
    "start_time": "2023-05-15T06:38:41.641Z"
   },
   {
    "duration": 89,
    "start_time": "2023-05-15T06:38:41.648Z"
   },
   {
    "duration": 129,
    "start_time": "2023-05-15T06:38:41.739Z"
   },
   {
    "duration": 19,
    "start_time": "2023-05-15T06:38:41.870Z"
   },
   {
    "duration": 4,
    "start_time": "2023-05-15T06:38:41.890Z"
   },
   {
    "duration": 32,
    "start_time": "2023-05-15T06:38:41.896Z"
   },
   {
    "duration": 6,
    "start_time": "2023-05-15T06:38:41.930Z"
   },
   {
    "duration": 11,
    "start_time": "2023-05-15T06:38:41.938Z"
   },
   {
    "duration": 8,
    "start_time": "2023-05-15T06:38:41.950Z"
   },
   {
    "duration": 6,
    "start_time": "2023-05-15T06:38:41.960Z"
   },
   {
    "duration": 739,
    "start_time": "2023-05-15T06:38:41.968Z"
   },
   {
    "duration": 28,
    "start_time": "2023-05-15T06:38:42.709Z"
   },
   {
    "duration": 6,
    "start_time": "2023-05-15T06:39:26.090Z"
   },
   {
    "duration": 125,
    "start_time": "2023-05-15T06:39:37.298Z"
   },
   {
    "duration": 4,
    "start_time": "2023-05-15T06:40:13.009Z"
   },
   {
    "duration": 815,
    "start_time": "2023-05-15T06:40:13.016Z"
   },
   {
    "duration": 19,
    "start_time": "2023-05-15T06:40:13.833Z"
   },
   {
    "duration": 19,
    "start_time": "2023-05-15T06:40:13.854Z"
   },
   {
    "duration": 18,
    "start_time": "2023-05-15T06:40:13.875Z"
   },
   {
    "duration": 38,
    "start_time": "2023-05-15T06:40:13.895Z"
   },
   {
    "duration": 21,
    "start_time": "2023-05-15T06:40:13.936Z"
   },
   {
    "duration": 24,
    "start_time": "2023-05-15T06:40:13.958Z"
   },
   {
    "duration": 5,
    "start_time": "2023-05-15T06:40:13.983Z"
   },
   {
    "duration": 9,
    "start_time": "2023-05-15T06:40:13.990Z"
   },
   {
    "duration": 6,
    "start_time": "2023-05-15T06:40:14.001Z"
   },
   {
    "duration": 7,
    "start_time": "2023-05-15T06:40:14.017Z"
   },
   {
    "duration": 106,
    "start_time": "2023-05-15T06:40:14.029Z"
   },
   {
    "duration": 125,
    "start_time": "2023-05-15T06:40:14.137Z"
   },
   {
    "duration": 20,
    "start_time": "2023-05-15T06:40:14.264Z"
   },
   {
    "duration": 4,
    "start_time": "2023-05-15T06:40:14.286Z"
   },
   {
    "duration": 33,
    "start_time": "2023-05-15T06:40:14.292Z"
   },
   {
    "duration": 19,
    "start_time": "2023-05-15T06:40:14.328Z"
   },
   {
    "duration": 15,
    "start_time": "2023-05-15T06:40:14.349Z"
   },
   {
    "duration": 9,
    "start_time": "2023-05-15T06:40:14.365Z"
   },
   {
    "duration": 10,
    "start_time": "2023-05-15T06:40:14.376Z"
   },
   {
    "duration": 668,
    "start_time": "2023-05-15T06:40:14.388Z"
   },
   {
    "duration": 24,
    "start_time": "2023-05-15T06:40:15.058Z"
   },
   {
    "duration": 713,
    "start_time": "2023-05-15T06:40:15.083Z"
   },
   {
    "duration": 639,
    "start_time": "2023-05-15T06:40:15.797Z"
   },
   {
    "duration": 724,
    "start_time": "2023-05-15T06:40:16.438Z"
   },
   {
    "duration": 399,
    "start_time": "2023-05-15T06:40:17.163Z"
   },
   {
    "duration": 6,
    "start_time": "2023-05-15T06:41:06.237Z"
   },
   {
    "duration": 21,
    "start_time": "2023-05-15T06:41:28.155Z"
   },
   {
    "duration": 6,
    "start_time": "2023-05-15T06:41:35.565Z"
   },
   {
    "duration": 5,
    "start_time": "2023-05-15T06:41:42.860Z"
   },
   {
    "duration": 6,
    "start_time": "2023-05-15T06:42:14.759Z"
   },
   {
    "duration": 827,
    "start_time": "2023-05-15T06:42:14.767Z"
   },
   {
    "duration": 37,
    "start_time": "2023-05-15T06:42:15.596Z"
   },
   {
    "duration": 23,
    "start_time": "2023-05-15T06:42:15.635Z"
   },
   {
    "duration": 19,
    "start_time": "2023-05-15T06:42:15.660Z"
   },
   {
    "duration": 19,
    "start_time": "2023-05-15T06:42:15.681Z"
   },
   {
    "duration": 27,
    "start_time": "2023-05-15T06:42:15.702Z"
   },
   {
    "duration": 30,
    "start_time": "2023-05-15T06:42:15.731Z"
   },
   {
    "duration": 10,
    "start_time": "2023-05-15T06:42:15.763Z"
   },
   {
    "duration": 12,
    "start_time": "2023-05-15T06:42:15.775Z"
   },
   {
    "duration": 15,
    "start_time": "2023-05-15T06:42:15.789Z"
   },
   {
    "duration": 29,
    "start_time": "2023-05-15T06:42:15.805Z"
   },
   {
    "duration": 104,
    "start_time": "2023-05-15T06:42:15.835Z"
   },
   {
    "duration": 126,
    "start_time": "2023-05-15T06:42:15.941Z"
   },
   {
    "duration": 18,
    "start_time": "2023-05-15T06:42:16.069Z"
   },
   {
    "duration": 4,
    "start_time": "2023-05-15T06:42:16.089Z"
   },
   {
    "duration": 39,
    "start_time": "2023-05-15T06:42:16.094Z"
   },
   {
    "duration": 12,
    "start_time": "2023-05-15T06:42:16.137Z"
   },
   {
    "duration": 21,
    "start_time": "2023-05-15T06:42:16.151Z"
   },
   {
    "duration": 27,
    "start_time": "2023-05-15T06:42:16.173Z"
   },
   {
    "duration": 25,
    "start_time": "2023-05-15T06:42:16.201Z"
   },
   {
    "duration": 614,
    "start_time": "2023-05-15T06:42:16.232Z"
   },
   {
    "duration": 19,
    "start_time": "2023-05-15T06:42:16.848Z"
   },
   {
    "duration": 718,
    "start_time": "2023-05-15T06:42:16.869Z"
   },
   {
    "duration": 656,
    "start_time": "2023-05-15T06:42:17.589Z"
   },
   {
    "duration": 708,
    "start_time": "2023-05-15T06:42:18.247Z"
   },
   {
    "duration": 408,
    "start_time": "2023-05-15T06:42:18.957Z"
   },
   {
    "duration": 5,
    "start_time": "2023-05-15T06:43:21.594Z"
   },
   {
    "duration": 5,
    "start_time": "2023-05-15T06:43:21.984Z"
   },
   {
    "duration": 4,
    "start_time": "2023-05-15T06:43:22.799Z"
   },
   {
    "duration": 5,
    "start_time": "2023-05-15T06:43:24.204Z"
   },
   {
    "duration": 683,
    "start_time": "2023-05-15T06:43:26.268Z"
   },
   {
    "duration": 4,
    "start_time": "2023-05-15T06:44:40.982Z"
   },
   {
    "duration": 5,
    "start_time": "2023-05-15T06:44:42.069Z"
   },
   {
    "duration": 14,
    "start_time": "2023-05-15T06:44:42.517Z"
   },
   {
    "duration": 4,
    "start_time": "2023-05-15T06:44:43.054Z"
   },
   {
    "duration": 696,
    "start_time": "2023-05-15T06:44:44.047Z"
   },
   {
    "duration": 19,
    "start_time": "2023-05-15T06:46:18.497Z"
   },
   {
    "duration": 3,
    "start_time": "2023-05-15T06:48:17.334Z"
   },
   {
    "duration": 3,
    "start_time": "2023-05-15T06:48:18.193Z"
   },
   {
    "duration": 6,
    "start_time": "2023-05-15T06:48:50.042Z"
   },
   {
    "duration": 3,
    "start_time": "2023-05-15T06:50:29.513Z"
   },
   {
    "duration": 2,
    "start_time": "2023-05-15T06:50:30.050Z"
   },
   {
    "duration": 3,
    "start_time": "2023-05-15T06:50:33.885Z"
   },
   {
    "duration": 4,
    "start_time": "2023-05-15T06:50:41.299Z"
   },
   {
    "duration": 25149,
    "start_time": "2023-05-15T06:50:41.978Z"
   },
   {
    "duration": 8,
    "start_time": "2023-05-15T06:51:07.130Z"
   },
   {
    "duration": 9,
    "start_time": "2023-05-15T06:51:20.818Z"
   },
   {
    "duration": 3,
    "start_time": "2023-05-15T06:51:21.191Z"
   },
   {
    "duration": 298931,
    "start_time": "2023-05-15T06:51:21.513Z"
   },
   {
    "duration": 6,
    "start_time": "2023-05-15T06:56:20.447Z"
   },
   {
    "duration": 20,
    "start_time": "2023-05-15T06:56:20.455Z"
   },
   {
    "duration": 7,
    "start_time": "2023-05-15T06:56:20.477Z"
   },
   {
    "duration": 11759,
    "start_time": "2023-05-15T06:56:20.485Z"
   },
   {
    "duration": 74,
    "start_time": "2023-05-15T06:56:32.247Z"
   },
   {
    "duration": 103,
    "start_time": "2023-05-15T06:56:32.323Z"
   },
   {
    "duration": 5,
    "start_time": "2023-05-15T06:58:20.190Z"
   },
   {
    "duration": 920,
    "start_time": "2023-05-15T06:58:20.197Z"
   },
   {
    "duration": 24,
    "start_time": "2023-05-15T06:58:21.119Z"
   },
   {
    "duration": 33,
    "start_time": "2023-05-15T06:58:21.146Z"
   },
   {
    "duration": 18,
    "start_time": "2023-05-15T06:58:21.181Z"
   },
   {
    "duration": 29,
    "start_time": "2023-05-15T06:58:21.200Z"
   },
   {
    "duration": 42,
    "start_time": "2023-05-15T06:58:21.230Z"
   },
   {
    "duration": 21,
    "start_time": "2023-05-15T06:58:21.274Z"
   },
   {
    "duration": 6,
    "start_time": "2023-05-15T06:58:21.297Z"
   },
   {
    "duration": 8,
    "start_time": "2023-05-15T06:58:21.306Z"
   },
   {
    "duration": 41,
    "start_time": "2023-05-15T06:58:21.316Z"
   },
   {
    "duration": 14,
    "start_time": "2023-05-15T06:58:21.359Z"
   },
   {
    "duration": 118,
    "start_time": "2023-05-15T06:58:21.376Z"
   },
   {
    "duration": 173,
    "start_time": "2023-05-15T06:58:21.496Z"
   },
   {
    "duration": 20,
    "start_time": "2023-05-15T06:58:21.670Z"
   },
   {
    "duration": 4,
    "start_time": "2023-05-15T06:58:21.692Z"
   },
   {
    "duration": 23,
    "start_time": "2023-05-15T06:58:21.697Z"
   },
   {
    "duration": 41,
    "start_time": "2023-05-15T06:58:21.722Z"
   },
   {
    "duration": 18,
    "start_time": "2023-05-15T06:58:21.765Z"
   },
   {
    "duration": 11,
    "start_time": "2023-05-15T06:58:21.784Z"
   },
   {
    "duration": 9,
    "start_time": "2023-05-15T06:58:21.797Z"
   },
   {
    "duration": 783,
    "start_time": "2023-05-15T06:58:21.808Z"
   },
   {
    "duration": 19,
    "start_time": "2023-05-15T06:58:22.593Z"
   },
   {
    "duration": 667,
    "start_time": "2023-05-15T06:58:22.624Z"
   },
   {
    "duration": 676,
    "start_time": "2023-05-15T06:58:23.293Z"
   },
   {
    "duration": 858,
    "start_time": "2023-05-15T06:58:23.971Z"
   },
   {
    "duration": 477,
    "start_time": "2023-05-15T06:58:24.831Z"
   },
   {
    "duration": 11,
    "start_time": "2023-05-15T06:58:25.314Z"
   },
   {
    "duration": 65,
    "start_time": "2023-05-15T06:58:25.326Z"
   },
   {
    "duration": 20,
    "start_time": "2023-05-15T06:58:25.393Z"
   },
   {
    "duration": 63,
    "start_time": "2023-05-15T06:58:25.414Z"
   },
   {
    "duration": 802,
    "start_time": "2023-05-15T06:58:25.478Z"
   },
   {
    "duration": 16,
    "start_time": "2023-05-15T06:58:26.282Z"
   },
   {
    "duration": 4,
    "start_time": "2023-05-15T06:58:26.300Z"
   },
   {
    "duration": 13,
    "start_time": "2023-05-15T06:58:26.305Z"
   },
   {
    "duration": 3,
    "start_time": "2023-05-15T06:58:26.319Z"
   },
   {
    "duration": 37,
    "start_time": "2023-05-15T06:58:26.323Z"
   },
   {
    "duration": 10,
    "start_time": "2023-05-15T06:58:26.361Z"
   },
   {
    "duration": 3,
    "start_time": "2023-05-15T06:58:30.388Z"
   },
   {
    "duration": 3,
    "start_time": "2023-05-15T06:58:30.953Z"
   },
   {
    "duration": 223067,
    "start_time": "2023-05-15T06:58:31.391Z"
   },
   {
    "duration": 5,
    "start_time": "2023-05-15T07:02:14.461Z"
   },
   {
    "duration": 97,
    "start_time": "2023-05-15T07:02:14.468Z"
   },
   {
    "duration": 20,
    "start_time": "2023-05-15T07:02:14.568Z"
   },
   {
    "duration": 15645,
    "start_time": "2023-05-15T07:02:14.590Z"
   },
   {
    "duration": 9,
    "start_time": "2023-05-15T07:02:30.239Z"
   },
   {
    "duration": 101,
    "start_time": "2023-05-15T07:02:30.250Z"
   },
   {
    "duration": 4,
    "start_time": "2023-05-15T07:02:56.156Z"
   },
   {
    "duration": 4,
    "start_time": "2023-05-15T07:04:14.694Z"
   },
   {
    "duration": 4,
    "start_time": "2023-05-15T07:04:15.364Z"
   },
   {
    "duration": 5,
    "start_time": "2023-05-15T07:11:40.009Z"
   },
   {
    "duration": 874,
    "start_time": "2023-05-15T07:11:40.017Z"
   },
   {
    "duration": 46,
    "start_time": "2023-05-15T07:11:40.893Z"
   },
   {
    "duration": 31,
    "start_time": "2023-05-15T07:11:40.944Z"
   },
   {
    "duration": 27,
    "start_time": "2023-05-15T07:11:40.979Z"
   },
   {
    "duration": 45,
    "start_time": "2023-05-15T07:11:41.008Z"
   },
   {
    "duration": 25,
    "start_time": "2023-05-15T07:11:41.055Z"
   },
   {
    "duration": 23,
    "start_time": "2023-05-15T07:11:41.082Z"
   },
   {
    "duration": 6,
    "start_time": "2023-05-15T07:11:41.106Z"
   },
   {
    "duration": 49,
    "start_time": "2023-05-15T07:11:41.120Z"
   },
   {
    "duration": 16,
    "start_time": "2023-05-15T07:11:41.171Z"
   },
   {
    "duration": 7,
    "start_time": "2023-05-15T07:11:41.189Z"
   },
   {
    "duration": 145,
    "start_time": "2023-05-15T07:11:41.197Z"
   },
   {
    "duration": 189,
    "start_time": "2023-05-15T07:11:41.346Z"
   },
   {
    "duration": 21,
    "start_time": "2023-05-15T07:11:41.540Z"
   },
   {
    "duration": 5,
    "start_time": "2023-05-15T07:11:41.562Z"
   },
   {
    "duration": 16,
    "start_time": "2023-05-15T07:11:41.569Z"
   },
   {
    "duration": 7,
    "start_time": "2023-05-15T07:11:41.587Z"
   },
   {
    "duration": 39,
    "start_time": "2023-05-15T07:11:41.596Z"
   },
   {
    "duration": 9,
    "start_time": "2023-05-15T07:11:41.637Z"
   },
   {
    "duration": 7,
    "start_time": "2023-05-15T07:11:41.648Z"
   },
   {
    "duration": 734,
    "start_time": "2023-05-15T07:11:41.657Z"
   },
   {
    "duration": 38,
    "start_time": "2023-05-15T07:11:42.393Z"
   },
   {
    "duration": 730,
    "start_time": "2023-05-15T07:11:42.436Z"
   },
   {
    "duration": 689,
    "start_time": "2023-05-15T07:11:43.168Z"
   },
   {
    "duration": 868,
    "start_time": "2023-05-15T07:11:43.859Z"
   },
   {
    "duration": 471,
    "start_time": "2023-05-15T07:11:44.740Z"
   },
   {
    "duration": 9,
    "start_time": "2023-05-15T07:11:45.218Z"
   },
   {
    "duration": 26,
    "start_time": "2023-05-15T07:11:45.229Z"
   },
   {
    "duration": 9,
    "start_time": "2023-05-15T07:11:45.257Z"
   },
   {
    "duration": 22,
    "start_time": "2023-05-15T07:11:45.268Z"
   },
   {
    "duration": 652,
    "start_time": "2023-05-15T07:11:45.292Z"
   },
   {
    "duration": 16,
    "start_time": "2023-05-15T07:11:45.946Z"
   },
   {
    "duration": 8,
    "start_time": "2023-05-15T07:11:45.964Z"
   },
   {
    "duration": 11,
    "start_time": "2023-05-15T07:11:45.973Z"
   },
   {
    "duration": 24,
    "start_time": "2023-05-15T07:11:45.985Z"
   },
   {
    "duration": 37,
    "start_time": "2023-05-15T07:11:46.011Z"
   },
   {
    "duration": 8,
    "start_time": "2023-05-15T07:11:46.050Z"
   },
   {
    "duration": 18,
    "start_time": "2023-05-15T07:11:46.060Z"
   },
   {
    "duration": 13,
    "start_time": "2023-05-15T07:11:46.080Z"
   },
   {
    "duration": 31147,
    "start_time": "2023-05-15T07:11:46.098Z"
   },
   {
    "duration": 0,
    "start_time": "2023-05-15T07:12:17.247Z"
   },
   {
    "duration": 0,
    "start_time": "2023-05-15T07:12:17.249Z"
   },
   {
    "duration": 0,
    "start_time": "2023-05-15T07:12:17.250Z"
   },
   {
    "duration": 0,
    "start_time": "2023-05-15T07:12:17.251Z"
   },
   {
    "duration": 0,
    "start_time": "2023-05-15T07:12:17.253Z"
   },
   {
    "duration": 0,
    "start_time": "2023-05-15T07:12:17.254Z"
   },
   {
    "duration": 0,
    "start_time": "2023-05-15T07:12:17.255Z"
   },
   {
    "duration": 0,
    "start_time": "2023-05-15T07:12:17.256Z"
   },
   {
    "duration": 0,
    "start_time": "2023-05-15T07:12:17.257Z"
   },
   {
    "duration": 6,
    "start_time": "2023-05-15T07:12:21.298Z"
   },
   {
    "duration": 849,
    "start_time": "2023-05-15T07:12:21.306Z"
   },
   {
    "duration": 27,
    "start_time": "2023-05-15T07:12:22.157Z"
   },
   {
    "duration": 44,
    "start_time": "2023-05-15T07:12:22.187Z"
   },
   {
    "duration": 43,
    "start_time": "2023-05-15T07:12:22.233Z"
   },
   {
    "duration": 26,
    "start_time": "2023-05-15T07:12:22.278Z"
   },
   {
    "duration": 43,
    "start_time": "2023-05-15T07:12:22.306Z"
   },
   {
    "duration": 35,
    "start_time": "2023-05-15T07:12:22.351Z"
   },
   {
    "duration": 5,
    "start_time": "2023-05-15T07:12:22.388Z"
   },
   {
    "duration": 40,
    "start_time": "2023-05-15T07:12:22.396Z"
   },
   {
    "duration": 11,
    "start_time": "2023-05-15T07:12:22.438Z"
   },
   {
    "duration": 12,
    "start_time": "2023-05-15T07:12:22.451Z"
   },
   {
    "duration": 112,
    "start_time": "2023-05-15T07:12:22.465Z"
   },
   {
    "duration": 156,
    "start_time": "2023-05-15T07:12:22.579Z"
   },
   {
    "duration": 31,
    "start_time": "2023-05-15T07:12:22.739Z"
   },
   {
    "duration": 4,
    "start_time": "2023-05-15T07:12:22.772Z"
   },
   {
    "duration": 29,
    "start_time": "2023-05-15T07:12:22.778Z"
   },
   {
    "duration": 43,
    "start_time": "2023-05-15T07:12:22.808Z"
   },
   {
    "duration": 23,
    "start_time": "2023-05-15T07:12:22.853Z"
   },
   {
    "duration": 11,
    "start_time": "2023-05-15T07:12:22.877Z"
   },
   {
    "duration": 16,
    "start_time": "2023-05-15T07:12:22.890Z"
   },
   {
    "duration": 793,
    "start_time": "2023-05-15T07:12:22.907Z"
   },
   {
    "duration": 42,
    "start_time": "2023-05-15T07:12:23.702Z"
   },
   {
    "duration": 731,
    "start_time": "2023-05-15T07:12:23.747Z"
   },
   {
    "duration": 951,
    "start_time": "2023-05-15T07:12:24.480Z"
   },
   {
    "duration": 650,
    "start_time": "2023-05-15T07:12:25.433Z"
   },
   {
    "duration": 445,
    "start_time": "2023-05-15T07:12:26.085Z"
   },
   {
    "duration": 4,
    "start_time": "2023-05-15T07:12:26.534Z"
   },
   {
    "duration": 23,
    "start_time": "2023-05-15T07:12:26.539Z"
   },
   {
    "duration": 18,
    "start_time": "2023-05-15T07:12:26.564Z"
   },
   {
    "duration": 11,
    "start_time": "2023-05-15T07:12:26.584Z"
   },
   {
    "duration": 793,
    "start_time": "2023-05-15T07:12:26.596Z"
   },
   {
    "duration": 47,
    "start_time": "2023-05-15T07:12:27.391Z"
   },
   {
    "duration": 4,
    "start_time": "2023-05-15T07:12:27.444Z"
   },
   {
    "duration": 9,
    "start_time": "2023-05-15T07:12:27.450Z"
   },
   {
    "duration": 11,
    "start_time": "2023-05-15T07:12:27.461Z"
   },
   {
    "duration": 17,
    "start_time": "2023-05-15T07:12:27.474Z"
   },
   {
    "duration": 10,
    "start_time": "2023-05-15T07:12:27.493Z"
   },
   {
    "duration": 5,
    "start_time": "2023-05-15T07:12:27.505Z"
   },
   {
    "duration": 34,
    "start_time": "2023-05-15T07:12:27.512Z"
   },
   {
    "duration": 1952033,
    "start_time": "2023-05-15T07:12:27.548Z"
   },
   {
    "duration": 7,
    "start_time": "2023-05-15T07:44:59.583Z"
   },
   {
    "duration": 21,
    "start_time": "2023-05-15T07:44:59.592Z"
   },
   {
    "duration": 38,
    "start_time": "2023-05-15T07:44:59.615Z"
   },
   {
    "duration": 225388,
    "start_time": "2023-05-15T07:44:59.655Z"
   },
   {
    "duration": 5,
    "start_time": "2023-05-15T07:48:45.045Z"
   },
   {
    "duration": 23,
    "start_time": "2023-05-15T07:48:45.051Z"
   },
   {
    "duration": 14,
    "start_time": "2023-05-15T07:48:45.076Z"
   },
   {
    "duration": 13726,
    "start_time": "2023-05-15T07:48:45.091Z"
   },
   {
    "duration": 7,
    "start_time": "2023-05-15T07:48:58.819Z"
   },
   {
    "duration": 5,
    "start_time": "2023-05-15T07:49:52.042Z"
   },
   {
    "duration": 21,
    "start_time": "2023-05-15T07:49:53.483Z"
   },
   {
    "duration": 103,
    "start_time": "2023-05-15T07:50:49.487Z"
   },
   {
    "duration": 18,
    "start_time": "2023-05-15T07:50:58.737Z"
   },
   {
    "duration": 11,
    "start_time": "2023-05-15T07:51:07.078Z"
   },
   {
    "duration": 5152,
    "start_time": "2023-05-15T07:51:09.437Z"
   },
   {
    "duration": 29,
    "start_time": "2023-05-15T07:51:32.638Z"
   },
   {
    "duration": 21,
    "start_time": "2023-05-15T07:52:39.452Z"
   },
   {
    "duration": 5066,
    "start_time": "2023-05-15T07:52:46.497Z"
   },
   {
    "duration": 33,
    "start_time": "2023-05-15T07:53:25.595Z"
   },
   {
    "duration": 440,
    "start_time": "2023-05-15T07:54:53.655Z"
   },
   {
    "duration": 11,
    "start_time": "2023-05-15T07:54:57.952Z"
   },
   {
    "duration": 7049,
    "start_time": "2023-05-15T07:55:00.994Z"
   },
   {
    "duration": 42,
    "start_time": "2023-05-15T07:55:43.301Z"
   },
   {
    "duration": 9896,
    "start_time": "2023-05-15T07:56:18.404Z"
   },
   {
    "duration": 8418,
    "start_time": "2023-05-15T07:56:35.257Z"
   },
   {
    "duration": 12,
    "start_time": "2023-05-15T07:57:07.203Z"
   },
   {
    "duration": 6,
    "start_time": "2023-05-15T07:57:08.559Z"
   },
   {
    "duration": 32,
    "start_time": "2023-05-15T07:57:15.713Z"
   },
   {
    "duration": 32,
    "start_time": "2023-05-15T07:58:46.410Z"
   },
   {
    "duration": 23,
    "start_time": "2023-05-15T07:58:55.874Z"
   },
   {
    "duration": 27,
    "start_time": "2023-05-15T07:59:05.442Z"
   },
   {
    "duration": 26,
    "start_time": "2023-05-15T07:59:13.784Z"
   },
   {
    "duration": 19,
    "start_time": "2023-05-15T07:59:17.261Z"
   },
   {
    "duration": 15,
    "start_time": "2023-05-15T07:59:41.754Z"
   },
   {
    "duration": 79,
    "start_time": "2023-05-15T07:59:56.461Z"
   },
   {
    "duration": 2,
    "start_time": "2023-05-15T08:11:28.597Z"
   },
   {
    "duration": 4,
    "start_time": "2023-05-15T08:11:29.042Z"
   },
   {
    "duration": 15737,
    "start_time": "2023-05-15T08:11:29.217Z"
   },
   {
    "duration": 30,
    "start_time": "2023-05-15T08:11:45.024Z"
   },
   {
    "duration": 40,
    "start_time": "2023-05-15T08:11:45.074Z"
   },
   {
    "duration": 48,
    "start_time": "2023-05-15T08:11:45.117Z"
   },
   {
    "duration": 9517,
    "start_time": "2023-05-15T08:11:45.168Z"
   },
   {
    "duration": 0,
    "start_time": "2023-05-15T08:11:54.687Z"
   },
   {
    "duration": 0,
    "start_time": "2023-05-15T08:11:54.689Z"
   },
   {
    "duration": 29,
    "start_time": "2023-05-15T08:12:17.058Z"
   },
   {
    "duration": 19,
    "start_time": "2023-05-15T08:13:06.712Z"
   },
   {
    "duration": 25,
    "start_time": "2023-05-15T08:13:08.815Z"
   },
   {
    "duration": 5,
    "start_time": "2023-05-15T08:13:11.905Z"
   },
   {
    "duration": 37,
    "start_time": "2023-05-15T08:13:39.962Z"
   },
   {
    "duration": 7,
    "start_time": "2023-05-15T08:14:04.068Z"
   },
   {
    "duration": 2,
    "start_time": "2023-05-15T08:14:05.160Z"
   },
   {
    "duration": 10,
    "start_time": "2023-05-15T08:14:05.563Z"
   },
   {
    "duration": 8680,
    "start_time": "2023-05-15T08:14:06.143Z"
   },
   {
    "duration": 0,
    "start_time": "2023-05-15T08:14:14.828Z"
   },
   {
    "duration": 8,
    "start_time": "2023-05-15T08:14:36.045Z"
   },
   {
    "duration": 10,
    "start_time": "2023-05-15T08:14:36.878Z"
   },
   {
    "duration": 9,
    "start_time": "2023-05-15T08:14:38.730Z"
   },
   {
    "duration": 35,
    "start_time": "2023-05-15T08:14:40.638Z"
   },
   {
    "duration": 8,
    "start_time": "2023-05-15T08:16:36.825Z"
   },
   {
    "duration": 14,
    "start_time": "2023-05-15T08:16:38.041Z"
   },
   {
    "duration": 2,
    "start_time": "2023-05-15T08:16:38.859Z"
   },
   {
    "duration": 6689,
    "start_time": "2023-05-15T08:16:40.218Z"
   },
   {
    "duration": 4,
    "start_time": "2023-05-15T08:17:03.639Z"
   },
   {
    "duration": 838,
    "start_time": "2023-05-15T08:17:03.645Z"
   },
   {
    "duration": 43,
    "start_time": "2023-05-15T08:17:04.485Z"
   },
   {
    "duration": 64,
    "start_time": "2023-05-15T08:17:04.530Z"
   },
   {
    "duration": 123,
    "start_time": "2023-05-15T08:17:04.597Z"
   },
   {
    "duration": 52,
    "start_time": "2023-05-15T08:17:04.722Z"
   },
   {
    "duration": 40,
    "start_time": "2023-05-15T08:17:04.776Z"
   },
   {
    "duration": 88,
    "start_time": "2023-05-15T08:17:04.818Z"
   },
   {
    "duration": 6,
    "start_time": "2023-05-15T08:17:04.908Z"
   },
   {
    "duration": 71,
    "start_time": "2023-05-15T08:17:04.916Z"
   },
   {
    "duration": 52,
    "start_time": "2023-05-15T08:17:04.989Z"
   },
   {
    "duration": 50,
    "start_time": "2023-05-15T08:17:05.043Z"
   },
   {
    "duration": 97,
    "start_time": "2023-05-15T08:17:05.095Z"
   },
   {
    "duration": 152,
    "start_time": "2023-05-15T08:17:05.196Z"
   },
   {
    "duration": 20,
    "start_time": "2023-05-15T08:17:05.350Z"
   },
   {
    "duration": 4,
    "start_time": "2023-05-15T08:17:05.372Z"
   },
   {
    "duration": 27,
    "start_time": "2023-05-15T08:17:05.378Z"
   },
   {
    "duration": 66,
    "start_time": "2023-05-15T08:17:05.407Z"
   },
   {
    "duration": 33,
    "start_time": "2023-05-15T08:17:05.475Z"
   },
   {
    "duration": 22,
    "start_time": "2023-05-15T08:17:05.510Z"
   },
   {
    "duration": 21,
    "start_time": "2023-05-15T08:17:05.534Z"
   },
   {
    "duration": 674,
    "start_time": "2023-05-15T08:17:05.556Z"
   },
   {
    "duration": 21,
    "start_time": "2023-05-15T08:17:06.237Z"
   },
   {
    "duration": 809,
    "start_time": "2023-05-15T08:17:06.260Z"
   },
   {
    "duration": 727,
    "start_time": "2023-05-15T08:17:07.071Z"
   },
   {
    "duration": 640,
    "start_time": "2023-05-15T08:17:07.800Z"
   },
   {
    "duration": 529,
    "start_time": "2023-05-15T08:17:08.441Z"
   },
   {
    "duration": 5,
    "start_time": "2023-05-15T08:17:08.972Z"
   },
   {
    "duration": 19,
    "start_time": "2023-05-15T08:17:08.978Z"
   },
   {
    "duration": 51,
    "start_time": "2023-05-15T08:17:08.999Z"
   },
   {
    "duration": 94,
    "start_time": "2023-05-15T08:17:09.052Z"
   },
   {
    "duration": 650,
    "start_time": "2023-05-15T08:17:09.148Z"
   },
   {
    "duration": 35,
    "start_time": "2023-05-15T08:17:09.800Z"
   },
   {
    "duration": 3,
    "start_time": "2023-05-15T08:17:09.838Z"
   },
   {
    "duration": 16,
    "start_time": "2023-05-15T08:17:09.843Z"
   },
   {
    "duration": 11,
    "start_time": "2023-05-15T08:17:09.861Z"
   },
   {
    "duration": 9,
    "start_time": "2023-05-15T08:17:14.208Z"
   },
   {
    "duration": 3,
    "start_time": "2023-05-15T08:17:14.481Z"
   },
   {
    "duration": 4,
    "start_time": "2023-05-15T08:17:15.512Z"
   },
   {
    "duration": 4,
    "start_time": "2023-05-15T08:17:15.674Z"
   },
   {
    "duration": 1841757,
    "start_time": "2023-05-15T08:17:15.844Z"
   },
   {
    "duration": 5,
    "start_time": "2023-05-15T08:47:57.604Z"
   },
   {
    "duration": 3,
    "start_time": "2023-05-15T08:47:57.618Z"
   },
   {
    "duration": 13,
    "start_time": "2023-05-15T08:47:57.623Z"
   },
   {
    "duration": 219147,
    "start_time": "2023-05-15T08:47:57.638Z"
   },
   {
    "duration": 6,
    "start_time": "2023-05-15T08:51:36.787Z"
   },
   {
    "duration": 14,
    "start_time": "2023-05-15T08:51:36.794Z"
   },
   {
    "duration": 12,
    "start_time": "2023-05-15T08:51:36.810Z"
   },
   {
    "duration": 13994,
    "start_time": "2023-05-15T08:51:36.825Z"
   },
   {
    "duration": 7,
    "start_time": "2023-05-15T08:51:50.821Z"
   },
   {
    "duration": 6,
    "start_time": "2023-05-15T08:52:11.590Z"
   },
   {
    "duration": 12,
    "start_time": "2023-05-15T08:52:13.377Z"
   },
   {
    "duration": 4,
    "start_time": "2023-05-15T08:52:18.038Z"
   },
   {
    "duration": 20,
    "start_time": "2023-05-15T08:52:20.439Z"
   },
   {
    "duration": 55,
    "start_time": "2023-05-15T15:57:34.774Z"
   },
   {
    "duration": 1842,
    "start_time": "2023-05-15T15:57:47.011Z"
   },
   {
    "duration": 3674,
    "start_time": "2023-05-15T15:57:48.856Z"
   },
   {
    "duration": 36,
    "start_time": "2023-05-15T15:57:52.532Z"
   },
   {
    "duration": 26,
    "start_time": "2023-05-15T15:57:52.570Z"
   },
   {
    "duration": 25,
    "start_time": "2023-05-15T15:57:52.598Z"
   },
   {
    "duration": 53,
    "start_time": "2023-05-15T15:57:52.625Z"
   },
   {
    "duration": 25,
    "start_time": "2023-05-15T15:57:52.681Z"
   },
   {
    "duration": 17,
    "start_time": "2023-05-15T15:57:52.708Z"
   },
   {
    "duration": 6,
    "start_time": "2023-05-15T15:57:52.726Z"
   },
   {
    "duration": 23,
    "start_time": "2023-05-15T15:57:52.735Z"
   },
   {
    "duration": 9,
    "start_time": "2023-05-15T15:57:52.759Z"
   },
   {
    "duration": 13,
    "start_time": "2023-05-15T15:57:52.770Z"
   },
   {
    "duration": 119,
    "start_time": "2023-05-15T15:57:52.784Z"
   },
   {
    "duration": 137,
    "start_time": "2023-05-15T15:57:52.905Z"
   },
   {
    "duration": 25,
    "start_time": "2023-05-15T15:57:53.044Z"
   },
   {
    "duration": 5,
    "start_time": "2023-05-15T15:57:53.072Z"
   },
   {
    "duration": 15,
    "start_time": "2023-05-15T15:57:53.078Z"
   },
   {
    "duration": 12,
    "start_time": "2023-05-15T15:57:53.094Z"
   },
   {
    "duration": 15,
    "start_time": "2023-05-15T15:57:53.108Z"
   },
   {
    "duration": 9,
    "start_time": "2023-05-15T15:57:53.125Z"
   },
   {
    "duration": 7,
    "start_time": "2023-05-15T15:57:53.136Z"
   },
   {
    "duration": 1120,
    "start_time": "2023-05-15T15:57:53.158Z"
   },
   {
    "duration": 33,
    "start_time": "2023-05-15T15:57:54.280Z"
   },
   {
    "duration": 734,
    "start_time": "2023-05-15T15:57:54.315Z"
   },
   {
    "duration": 697,
    "start_time": "2023-05-15T15:57:55.051Z"
   },
   {
    "duration": 791,
    "start_time": "2023-05-15T15:57:55.750Z"
   },
   {
    "duration": 83,
    "start_time": "2023-05-15T15:57:56.543Z"
   },
   {
    "duration": 81,
    "start_time": "2023-05-15T15:58:37.708Z"
   },
   {
    "duration": 850,
    "start_time": "2023-05-15T15:58:37.791Z"
   },
   {
    "duration": 30,
    "start_time": "2023-05-15T15:58:38.642Z"
   },
   {
    "duration": 31,
    "start_time": "2023-05-15T15:58:38.674Z"
   },
   {
    "duration": 24,
    "start_time": "2023-05-15T15:58:38.707Z"
   },
   {
    "duration": 25,
    "start_time": "2023-05-15T15:58:38.733Z"
   },
   {
    "duration": 30,
    "start_time": "2023-05-15T15:58:38.760Z"
   },
   {
    "duration": 16,
    "start_time": "2023-05-15T15:58:38.792Z"
   },
   {
    "duration": 4,
    "start_time": "2023-05-15T15:58:38.810Z"
   },
   {
    "duration": 6,
    "start_time": "2023-05-15T15:58:38.816Z"
   },
   {
    "duration": 5,
    "start_time": "2023-05-15T15:58:38.824Z"
   },
   {
    "duration": 31,
    "start_time": "2023-05-15T15:58:38.831Z"
   },
   {
    "duration": 117,
    "start_time": "2023-05-15T15:58:38.865Z"
   },
   {
    "duration": 120,
    "start_time": "2023-05-15T15:58:38.985Z"
   },
   {
    "duration": 17,
    "start_time": "2023-05-15T15:58:39.107Z"
   },
   {
    "duration": 4,
    "start_time": "2023-05-15T15:58:39.126Z"
   },
   {
    "duration": 27,
    "start_time": "2023-05-15T15:58:39.131Z"
   },
   {
    "duration": 6,
    "start_time": "2023-05-15T15:58:39.159Z"
   },
   {
    "duration": 11,
    "start_time": "2023-05-15T15:58:39.167Z"
   },
   {
    "duration": 8,
    "start_time": "2023-05-15T15:58:39.179Z"
   },
   {
    "duration": 7,
    "start_time": "2023-05-15T15:58:39.189Z"
   },
   {
    "duration": 844,
    "start_time": "2023-05-15T15:58:39.197Z"
   },
   {
    "duration": 31,
    "start_time": "2023-05-15T15:58:40.043Z"
   },
   {
    "duration": 696,
    "start_time": "2023-05-15T15:58:40.076Z"
   },
   {
    "duration": 864,
    "start_time": "2023-05-15T15:58:40.774Z"
   },
   {
    "duration": 701,
    "start_time": "2023-05-15T15:58:41.640Z"
   },
   {
    "duration": 1077,
    "start_time": "2023-05-15T15:58:42.342Z"
   },
   {
    "duration": 802,
    "start_time": "2023-05-15T15:59:04.983Z"
   },
   {
    "duration": 610,
    "start_time": "2023-05-15T15:59:25.012Z"
   },
   {
    "duration": 959,
    "start_time": "2023-05-15T15:59:31.915Z"
   },
   {
    "duration": 443,
    "start_time": "2023-05-15T16:00:23.026Z"
   },
   {
    "duration": 417,
    "start_time": "2023-05-15T16:02:08.032Z"
   },
   {
    "duration": 377,
    "start_time": "2023-05-15T16:05:40.584Z"
   },
   {
    "duration": 537,
    "start_time": "2023-05-15T16:06:32.605Z"
   },
   {
    "duration": 418,
    "start_time": "2023-05-15T16:06:48.573Z"
   },
   {
    "duration": 369,
    "start_time": "2023-05-15T16:07:02.472Z"
   },
   {
    "duration": 385,
    "start_time": "2023-05-15T16:07:14.412Z"
   },
   {
    "duration": 401,
    "start_time": "2023-05-15T16:07:49.088Z"
   },
   {
    "duration": 440,
    "start_time": "2023-05-15T16:07:56.946Z"
   },
   {
    "duration": 427,
    "start_time": "2023-05-15T16:08:02.319Z"
   },
   {
    "duration": 409,
    "start_time": "2023-05-15T16:09:48.881Z"
   },
   {
    "duration": 472,
    "start_time": "2023-05-15T16:10:00.298Z"
   },
   {
    "duration": 5,
    "start_time": "2023-05-15T16:12:33.003Z"
   },
   {
    "duration": 778,
    "start_time": "2023-05-15T16:12:33.010Z"
   },
   {
    "duration": 19,
    "start_time": "2023-05-15T16:12:33.790Z"
   },
   {
    "duration": 18,
    "start_time": "2023-05-15T16:12:33.810Z"
   },
   {
    "duration": 40,
    "start_time": "2023-05-15T16:12:33.830Z"
   },
   {
    "duration": 25,
    "start_time": "2023-05-15T16:12:33.872Z"
   },
   {
    "duration": 22,
    "start_time": "2023-05-15T16:12:33.899Z"
   },
   {
    "duration": 38,
    "start_time": "2023-05-15T16:12:33.923Z"
   },
   {
    "duration": 10,
    "start_time": "2023-05-15T16:12:33.963Z"
   },
   {
    "duration": 9,
    "start_time": "2023-05-15T16:12:33.976Z"
   },
   {
    "duration": 5,
    "start_time": "2023-05-15T16:12:33.987Z"
   },
   {
    "duration": 6,
    "start_time": "2023-05-15T16:12:33.994Z"
   },
   {
    "duration": 137,
    "start_time": "2023-05-15T16:12:34.003Z"
   },
   {
    "duration": 179,
    "start_time": "2023-05-15T16:12:34.142Z"
   },
   {
    "duration": 36,
    "start_time": "2023-05-15T16:12:34.324Z"
   },
   {
    "duration": 6,
    "start_time": "2023-05-15T16:12:34.362Z"
   },
   {
    "duration": 19,
    "start_time": "2023-05-15T16:12:34.373Z"
   },
   {
    "duration": 7,
    "start_time": "2023-05-15T16:12:34.394Z"
   },
   {
    "duration": 17,
    "start_time": "2023-05-15T16:12:34.403Z"
   },
   {
    "duration": 18,
    "start_time": "2023-05-15T16:12:34.422Z"
   },
   {
    "duration": 10,
    "start_time": "2023-05-15T16:12:34.458Z"
   },
   {
    "duration": 974,
    "start_time": "2023-05-15T16:12:34.470Z"
   },
   {
    "duration": 35,
    "start_time": "2023-05-15T16:12:35.446Z"
   },
   {
    "duration": 769,
    "start_time": "2023-05-15T16:12:35.482Z"
   },
   {
    "duration": 996,
    "start_time": "2023-05-15T16:12:36.253Z"
   },
   {
    "duration": 777,
    "start_time": "2023-05-15T16:12:37.251Z"
   },
   {
    "duration": 460,
    "start_time": "2023-05-15T16:12:38.030Z"
   },
   {
    "duration": 5,
    "start_time": "2023-05-15T16:12:38.492Z"
   },
   {
    "duration": 15,
    "start_time": "2023-05-15T16:12:38.498Z"
   },
   {
    "duration": 6,
    "start_time": "2023-05-15T16:12:38.515Z"
   },
   {
    "duration": 9,
    "start_time": "2023-05-15T16:12:38.522Z"
   },
   {
    "duration": 857,
    "start_time": "2023-05-15T16:12:38.532Z"
   },
   {
    "duration": 17,
    "start_time": "2023-05-15T16:12:39.391Z"
   },
   {
    "duration": 4,
    "start_time": "2023-05-15T16:12:39.409Z"
   },
   {
    "duration": 4,
    "start_time": "2023-05-15T16:12:39.415Z"
   },
   {
    "duration": 4,
    "start_time": "2023-05-15T16:12:39.421Z"
   },
   {
    "duration": 34,
    "start_time": "2023-05-15T16:12:39.429Z"
   },
   {
    "duration": 12,
    "start_time": "2023-05-15T16:12:39.465Z"
   },
   {
    "duration": 7,
    "start_time": "2023-05-15T16:12:39.479Z"
   },
   {
    "duration": 6,
    "start_time": "2023-05-15T16:12:39.488Z"
   },
   {
    "duration": 1502837,
    "start_time": "2023-05-15T16:12:39.495Z"
   },
   {
    "duration": 5,
    "start_time": "2023-05-15T16:37:42.334Z"
   },
   {
    "duration": 8,
    "start_time": "2023-05-15T16:37:42.340Z"
   },
   {
    "duration": 4,
    "start_time": "2023-05-15T16:37:42.356Z"
   },
   {
    "duration": 179228,
    "start_time": "2023-05-15T16:37:42.362Z"
   },
   {
    "duration": 6,
    "start_time": "2023-05-15T16:40:41.592Z"
   },
   {
    "duration": 11,
    "start_time": "2023-05-15T16:40:41.599Z"
   },
   {
    "duration": 12,
    "start_time": "2023-05-15T16:40:41.612Z"
   },
   {
    "duration": 10044,
    "start_time": "2023-05-15T16:40:41.626Z"
   },
   {
    "duration": 6,
    "start_time": "2023-05-15T16:40:51.758Z"
   },
   {
    "duration": 107,
    "start_time": "2023-05-15T16:40:51.766Z"
   },
   {
    "duration": 38,
    "start_time": "2023-05-15T16:40:51.874Z"
   },
   {
    "duration": 9,
    "start_time": "2023-05-15T16:40:51.914Z"
   },
   {
    "duration": 31,
    "start_time": "2023-05-15T16:40:51.925Z"
   },
   {
    "duration": 3,
    "start_time": "2023-05-15T16:42:06.564Z"
   },
   {
    "duration": 8,
    "start_time": "2023-05-15T16:42:07.408Z"
   },
   {
    "duration": 7,
    "start_time": "2023-05-15T16:42:09.042Z"
   },
   {
    "duration": 4,
    "start_time": "2023-05-15T16:42:09.816Z"
   },
   {
    "duration": 2467,
    "start_time": "2023-05-16T16:07:42.623Z"
   },
   {
    "duration": 7892,
    "start_time": "2023-05-16T16:07:45.092Z"
   },
   {
    "duration": 37,
    "start_time": "2023-05-16T16:07:52.989Z"
   },
   {
    "duration": 30,
    "start_time": "2023-05-16T16:07:53.028Z"
   },
   {
    "duration": 31,
    "start_time": "2023-05-16T16:07:53.064Z"
   },
   {
    "duration": 21,
    "start_time": "2023-05-16T16:07:53.100Z"
   },
   {
    "duration": 33,
    "start_time": "2023-05-16T16:07:53.127Z"
   },
   {
    "duration": 35,
    "start_time": "2023-05-16T16:07:53.166Z"
   },
   {
    "duration": 12,
    "start_time": "2023-05-16T16:07:53.202Z"
   },
   {
    "duration": 12,
    "start_time": "2023-05-16T16:07:53.216Z"
   },
   {
    "duration": 8,
    "start_time": "2023-05-16T16:07:53.234Z"
   },
   {
    "duration": 10,
    "start_time": "2023-05-16T16:07:53.247Z"
   },
   {
    "duration": 137,
    "start_time": "2023-05-16T16:07:53.268Z"
   },
   {
    "duration": 156,
    "start_time": "2023-05-16T16:07:53.412Z"
   },
   {
    "duration": 28,
    "start_time": "2023-05-16T16:07:53.573Z"
   },
   {
    "duration": 35,
    "start_time": "2023-05-16T16:07:53.607Z"
   },
   {
    "duration": 29,
    "start_time": "2023-05-16T16:07:53.652Z"
   },
   {
    "duration": 10,
    "start_time": "2023-05-16T16:07:53.686Z"
   },
   {
    "duration": 26,
    "start_time": "2023-05-16T16:07:53.702Z"
   },
   {
    "duration": 21,
    "start_time": "2023-05-16T16:07:53.734Z"
   },
   {
    "duration": 11,
    "start_time": "2023-05-16T16:07:53.757Z"
   },
   {
    "duration": 1314,
    "start_time": "2023-05-16T16:07:53.770Z"
   },
   {
    "duration": 52,
    "start_time": "2023-05-16T16:07:55.086Z"
   },
   {
    "duration": 1111,
    "start_time": "2023-05-16T16:07:55.140Z"
   },
   {
    "duration": 1032,
    "start_time": "2023-05-16T16:07:56.253Z"
   },
   {
    "duration": 1225,
    "start_time": "2023-05-16T16:07:57.287Z"
   },
   {
    "duration": 693,
    "start_time": "2023-05-16T16:07:58.517Z"
   },
   {
    "duration": 6,
    "start_time": "2023-05-16T16:07:59.215Z"
   },
   {
    "duration": 13,
    "start_time": "2023-05-16T16:07:59.223Z"
   },
   {
    "duration": 6,
    "start_time": "2023-05-16T16:07:59.239Z"
   },
   {
    "duration": 5,
    "start_time": "2023-05-16T16:07:59.248Z"
   },
   {
    "duration": 980,
    "start_time": "2023-05-16T16:07:59.256Z"
   },
   {
    "duration": 29,
    "start_time": "2023-05-16T16:08:00.242Z"
   },
   {
    "duration": 14,
    "start_time": "2023-05-16T16:08:00.276Z"
   },
   {
    "duration": 50,
    "start_time": "2023-05-16T16:08:00.296Z"
   },
   {
    "duration": 41,
    "start_time": "2023-05-16T16:08:00.353Z"
   },
   {
    "duration": 103,
    "start_time": "2023-05-16T16:08:00.404Z"
   },
   {
    "duration": 8,
    "start_time": "2023-05-16T16:08:00.518Z"
   },
   {
    "duration": 30,
    "start_time": "2023-05-16T16:08:00.534Z"
   },
   {
    "duration": 35,
    "start_time": "2023-05-16T16:08:00.571Z"
   },
   {
    "duration": 1905199,
    "start_time": "2023-05-16T16:08:00.613Z"
   },
   {
    "duration": 5,
    "start_time": "2023-05-16T16:39:45.814Z"
   },
   {
    "duration": 46,
    "start_time": "2023-05-16T16:39:45.822Z"
   },
   {
    "duration": 7,
    "start_time": "2023-05-16T16:39:45.872Z"
   },
   {
    "duration": 214627,
    "start_time": "2023-05-16T16:39:45.881Z"
   },
   {
    "duration": 10,
    "start_time": "2023-05-16T16:43:20.514Z"
   },
   {
    "duration": 9,
    "start_time": "2023-05-16T16:43:20.526Z"
   },
   {
    "duration": 8,
    "start_time": "2023-05-16T16:43:20.537Z"
   },
   {
    "duration": 18924,
    "start_time": "2023-05-16T16:43:20.547Z"
   },
   {
    "duration": 25,
    "start_time": "2023-05-16T16:43:39.479Z"
   },
   {
    "duration": 57,
    "start_time": "2023-05-16T16:43:39.511Z"
   },
   {
    "duration": 37,
    "start_time": "2023-05-16T16:43:39.570Z"
   },
   {
    "duration": 4,
    "start_time": "2023-05-16T16:43:39.610Z"
   },
   {
    "duration": 39,
    "start_time": "2023-05-16T16:43:39.616Z"
   },
   {
    "duration": 3,
    "start_time": "2023-05-16T16:43:39.657Z"
   },
   {
    "duration": 11,
    "start_time": "2023-05-16T16:43:39.664Z"
   },
   {
    "duration": 12,
    "start_time": "2023-05-16T16:43:39.677Z"
   },
   {
    "duration": 5,
    "start_time": "2023-05-16T16:43:39.691Z"
   }
  ],
  "kernelspec": {
   "display_name": "Python 3 (ipykernel)",
   "language": "python",
   "name": "python3"
  },
  "language_info": {
   "codemirror_mode": {
    "name": "ipython",
    "version": 3
   },
   "file_extension": ".py",
   "mimetype": "text/x-python",
   "name": "python",
   "nbconvert_exporter": "python",
   "pygments_lexer": "ipython3",
   "version": "3.9.5"
  },
  "toc": {
   "base_numbering": 1,
   "nav_menu": {},
   "number_sections": true,
   "sideBar": true,
   "skip_h1_title": true,
   "title_cell": "Содержание",
   "title_sidebar": "Contents",
   "toc_cell": true,
   "toc_position": {
    "height": "calc(100% - 180px)",
    "left": "10px",
    "top": "150px",
    "width": "165px"
   },
   "toc_section_display": true,
   "toc_window_display": true
  }
 },
 "nbformat": 4,
 "nbformat_minor": 2
}
